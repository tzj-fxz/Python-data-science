{
 "cells": [
  {
   "cell_type": "markdown",
   "source": [
    "## Homework1-0221\n",
    "\n",
    "### 第一部分：基础练习（5分）\n",
    "\n",
    "#### 1.1 基本数据类型，表达式，简单输入输出（1分）\n",
    "    请实现汇率转换程序，输入美元数额，输出其等价于多少人民币。\n",
    "    注：目前美元兑人民币约为6.3345"
   ],
   "metadata": {}
  },
  {
   "cell_type": "code",
   "execution_count": 15,
   "source": [
    "USD=float(input())\r\n",
    "#TODO\r\n",
    "RMB=USD * 6.3345\r\n",
    "print(USD, \" USD equal to \", RMB, \" RMB\")"
   ],
   "outputs": [
    {
     "output_type": "stream",
     "name": "stdout",
     "text": [
      "1.0  USD equal to  6.3345  RMB\n"
     ]
    }
   ],
   "metadata": {}
  },
  {
   "cell_type": "markdown",
   "source": [
    "#### 1.2 字符串基本操作（1分）\n",
    "    找出字符串中小写字母a第二次出现的位置\n",
    "    例如：输入：'An apple a day keeps the doctor away'\n",
    "          输出：9"
   ],
   "metadata": {}
  },
  {
   "cell_type": "code",
   "execution_count": 14,
   "source": [
    "s='Python is a programming language that lets you work quickly and integrate systems more effectively.'\r\n",
    "#TODO\r\n",
    "firstpos = s.find('a');\r\n",
    "secondpos = s[firstpos+1:].find('a')\r\n",
    "print(firstpos+secondpos+1)"
   ],
   "outputs": [
    {
     "output_type": "stream",
     "name": "stdout",
     "text": [
      "17\n"
     ]
    }
   ],
   "metadata": {
    "scrolled": true
   }
  },
  {
   "cell_type": "markdown",
   "source": [
    "#### 1.3 条件表达式、分支流程（1分）\n",
    "    你在玩某个的抽卡游戏，单抽抽中四星的概率为5%，但有每十抽必中一个四星的保底机制。请输入一个抽卡次数，并计算抽中至少一个四星的概率。"
   ],
   "metadata": {}
  },
  {
   "cell_type": "code",
   "execution_count": 13,
   "source": [
    "t=int(input())\r\n",
    "#TODO\r\n",
    "if t >= 10:\r\n",
    "    print(1)\r\n",
    "else:\r\n",
    "    prob = 1 - ((95**t)/(100**t))\r\n",
    "    if t == 1:\r\n",
    "        print(\"%.2f\" %prob)\r\n",
    "    elif t == 2:\r\n",
    "        print(\"%.4f\" %prob)\r\n",
    "    else:\r\n",
    "        print(prob)"
   ],
   "outputs": [
    {
     "output_type": "error",
     "ename": "ValueError",
     "evalue": "invalid literal for int() with base 10: ''",
     "traceback": [
      "\u001b[1;31m---------------------------------------------------------------------------\u001b[0m",
      "\u001b[1;31mValueError\u001b[0m                                Traceback (most recent call last)",
      "\u001b[1;32m<ipython-input-13-c691234ae206>\u001b[0m in \u001b[0;36m<module>\u001b[1;34m\u001b[0m\n\u001b[1;32m----> 1\u001b[1;33m \u001b[0mt\u001b[0m\u001b[1;33m=\u001b[0m\u001b[0mint\u001b[0m\u001b[1;33m(\u001b[0m\u001b[0minput\u001b[0m\u001b[1;33m(\u001b[0m\u001b[1;33m)\u001b[0m\u001b[1;33m)\u001b[0m\u001b[1;33m\u001b[0m\u001b[1;33m\u001b[0m\u001b[0m\n\u001b[0m\u001b[0;32m      2\u001b[0m \u001b[1;31m#TODO\u001b[0m\u001b[1;33m\u001b[0m\u001b[1;33m\u001b[0m\u001b[1;33m\u001b[0m\u001b[0m\n\u001b[0;32m      3\u001b[0m \u001b[1;32mif\u001b[0m \u001b[0mt\u001b[0m \u001b[1;33m>=\u001b[0m \u001b[1;36m10\u001b[0m\u001b[1;33m:\u001b[0m\u001b[1;33m\u001b[0m\u001b[1;33m\u001b[0m\u001b[0m\n\u001b[0;32m      4\u001b[0m     \u001b[0mprint\u001b[0m\u001b[1;33m(\u001b[0m\u001b[1;36m1\u001b[0m\u001b[1;33m)\u001b[0m\u001b[1;33m\u001b[0m\u001b[1;33m\u001b[0m\u001b[0m\n\u001b[0;32m      5\u001b[0m \u001b[1;32melse\u001b[0m\u001b[1;33m:\u001b[0m\u001b[1;33m\u001b[0m\u001b[1;33m\u001b[0m\u001b[0m\n",
      "\u001b[1;31mValueError\u001b[0m: invalid literal for int() with base 10: ''"
     ]
    }
   ],
   "metadata": {
    "scrolled": true
   }
  },
  {
   "cell_type": "markdown",
   "source": [
    "#### 1.4 List、Tuple类型基本操作（2分）\n",
    "    （1）分别创建包含p、y、t与t、h、o、n这几个字符的两个元组，并将其合并、输出。\n",
    "    （2）将得到的元组转换为列表，①在最后添加字符串‘3.9’②将p改为大写③删除任意一个t，并输出\n",
    "    （3）将列表内容合并为一个字符串,并输出"
   ],
   "metadata": {}
  },
  {
   "cell_type": "code",
   "execution_count": 10,
   "source": [
    "#TODO\r\n",
    "t1 = ('p', 'y', 't')\r\n",
    "t2 = ('t', 'h', 'o', 'n')\r\n",
    "t = t1+t2\r\n",
    "print(t)\r\n",
    "l = list(t)\r\n",
    "l.append('3.9')\r\n",
    "l[0] = l[0].capitalize()\r\n",
    "l.remove('t')\r\n",
    "print(l)\r\n",
    "s1 = ''.join(l)\r\n",
    "print(s1)"
   ],
   "outputs": [
    {
     "output_type": "stream",
     "name": "stdout",
     "text": [
      "('p', 'y', 't', 't', 'h', 'o', 'n')\n",
      "['P', 'y', 't', 'h', 'o', 'n', '3.9']\n",
      "Python3.9\n"
     ]
    }
   ],
   "metadata": {}
  },
  {
   "cell_type": "markdown",
   "source": [
    "### 第二部分：进阶练习（5分+1分）\n",
    "#### 2.1 字符串分割、循环表达式（1分）\n",
    "    找出只出现过一次的数字，并保持原次序输出\n",
    "    例如： 输入：2,6,1,3,7,2,7    输出：6,1,3"
   ],
   "metadata": {}
  },
  {
   "cell_type": "code",
   "execution_count": null,
   "source": [
    "s = '2,6,1,3,7,2,7'\r\n",
    "#TODO\r\n",
    "s1 = s.split(',')\r\n",
    "s2 = ''\r\n",
    "ans = 0\r\n",
    "\r\n",
    "for i in range(len(s1)):\r\n",
    "    if s1[i] in s1[:i] or s1[i] in s1[i+1:]:\r\n",
    "        continue\r\n",
    "    ans = ans + 1\r\n",
    "    if ans == 1:\r\n",
    "        s2 += s1[i]\r\n",
    "    else:\r\n",
    "        s2 += ','\r\n",
    "        s2 += s1[i]\r\n",
    "\r\n",
    "print(s2)"
   ],
   "outputs": [
    {
     "output_type": "stream",
     "name": "stdout",
     "text": [
      "6,1,3\n"
     ]
    }
   ],
   "metadata": {}
  },
  {
   "cell_type": "markdown",
   "source": [
    "#### 2.2 列表生成及查找（2分）\n",
    "    生成一个包含1-20中所有整数的列表，判断11是其中的第几个奇数"
   ],
   "metadata": {}
  },
  {
   "cell_type": "code",
   "execution_count": null,
   "source": [
    "#TODO\r\n",
    "tmpl = [i for i in range(1, 21)]\r\n",
    "ans = 0\r\n",
    "\r\n",
    "for i in tmpl:\r\n",
    "    if i%2 == 1:\r\n",
    "        ans += 1\r\n",
    "    if i == 11:\r\n",
    "        break\r\n",
    "\r\n",
    "print(ans)"
   ],
   "outputs": [
    {
     "output_type": "stream",
     "name": "stdout",
     "text": [
      "6\n"
     ]
    }
   ],
   "metadata": {}
  },
  {
   "cell_type": "markdown",
   "source": [
    "#### 2.3 迭代器使用（2分）\n",
    "    在一个随机生成的包含100个10以内的数字的列表中，输出首次出现的1之后的两个数字"
   ],
   "metadata": {}
  },
  {
   "cell_type": "code",
   "execution_count": null,
   "source": [
    "import random\r\n",
    "l=[random.randint(0,10) for _ in range(100)]\r\n",
    "#TODO\r\n",
    "y = iter(l)\r\n",
    "for i in y:\r\n",
    "    if i == 1:\r\n",
    "        print(next(y), next(y))\r\n",
    "        break"
   ],
   "outputs": [
    {
     "output_type": "stream",
     "name": "stdout",
     "text": [
      "5 10\n"
     ]
    }
   ],
   "metadata": {}
  },
  {
   "cell_type": "markdown",
   "source": [
    "#### 2.4（选做，1分）找出1~100之间的所有素数（建议使用filter函数）\n",
    "filter的基本说明见https://www.runoob.com/python3/python3-func-filter.html"
   ],
   "metadata": {}
  },
  {
   "cell_type": "code",
   "execution_count": null,
   "source": [
    "#TODO\n",
    "import math\n",
    "\n",
    "def isprime(n):\n",
    "    for j in range(2, int(math.sqrt(n))+1):\n",
    "        if n%j == 0:\n",
    "            return False\n",
    "    return True\n",
    "\n",
    "finallist = list(filter(isprime, [i for i in range(2, 101)]))\n",
    "print(finallist)"
   ],
   "outputs": [
    {
     "output_type": "stream",
     "name": "stdout",
     "text": [
      "[2, 3, 5, 7, 11, 13, 17, 19, 23, 29, 31, 37, 41, 43, 47, 53, 59, 61, 67, 71, 73, 79, 83, 89, 97]\n"
     ]
    }
   ],
   "metadata": {}
  }
 ],
 "metadata": {
  "kernelspec": {
   "name": "python3",
   "display_name": "Python 3.8.5 64-bit (conda)"
  },
  "language_info": {
   "codemirror_mode": {
    "name": "ipython",
    "version": 3
   },
   "file_extension": ".py",
   "mimetype": "text/x-python",
   "name": "python",
   "nbconvert_exporter": "python",
   "pygments_lexer": "ipython3",
   "version": "3.8.5"
  },
  "interpreter": {
   "hash": "a8f61be024eba58adef938c9aa1e29e02cb3dece83a5348b1a2dafd16a070453"
  }
 },
 "nbformat": 4,
 "nbformat_minor": 4
}