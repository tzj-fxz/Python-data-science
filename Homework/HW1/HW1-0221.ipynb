{
 "cells": [
  {
   "cell_type": "markdown",
   "metadata": {},
   "source": [
    "## Homework1-0221\n",
    "\n",
    "### 第一部分：基础练习（5分）\n",
    "\n",
    "#### 1.1 基本数据类型，表达式，简单输入输出（1分）\n",
    "    请实现汇率转换程序，输入美元数额，输出其等价于多少人民币。\n",
    "    注：目前美元兑人民币约为6.3345"
   ]
  },
  {
   "cell_type": "code",
   "execution_count": null,
   "metadata": {},
   "outputs": [],
   "source": [
    "USD=float(input())\n",
    "#TODO\n"
   ]
  },
  {
   "cell_type": "markdown",
   "metadata": {},
   "source": [
    "#### 1.2 字符串基本操作（1分）\n",
    "    找出字符串中小写字母a第二次出现的位置\n",
    "    例如：输入：'An apple a day keeps the doctor away'\n",
    "          输出：9"
   ]
  },
  {
   "cell_type": "code",
   "execution_count": null,
   "metadata": {},
   "outputs": [],
   "source": [
    "s='Python is a programming language that lets you work quickly and integrate systems more effectively.'\n",
    "#TODO\n"
   ]
  },
  {
   "cell_type": "markdown",
   "metadata": {},
   "source": [
    "#### 1.3 条件表达式、分支流程（1分）\n",
    "    你在玩某个的抽卡游戏，单抽抽中四星的概率为5%，但有每十抽必中一个四星的保底机制。请输入一个抽卡次数，并计算抽中至少一个四星的概率。"
   ]
  },
  {
   "cell_type": "code",
   "execution_count": null,
   "metadata": {},
   "outputs": [],
   "source": [
    "t=int(input())\n",
    "#TODO\n"
   ]
  },
  {
   "cell_type": "markdown",
   "metadata": {},
   "source": [
    "#### 1.4 List、Tuple类型基本操作（2分）\n",
    "    （1）分别创建包含p、y、t与t、h、o、n这几个字符的两个元组，并将其合并、输出。\n",
    "    （2）将得到的元组转换为列表，①在最后添加字符串‘3.9’②将p改为大写③删除任意一个t，并输出\n",
    "    （3）将列表内容合并为一个字符串,并输出"
   ]
  },
  {
   "cell_type": "code",
   "execution_count": null,
   "metadata": {},
   "outputs": [],
   "source": [
    "#TODO\n"
   ]
  },
  {
   "cell_type": "markdown",
   "metadata": {},
   "source": [
    "### 第二部分：进阶练习（5分+1分）\n",
    "#### 2.1 字符串分割、循环表达式（1分）\n",
    "    找出只出现过一次的数字，并保持原次序输出\n",
    "    例如： 输入：2,6,1,3,7,2,7    输出：6,1,3"
   ]
  },
  {
   "cell_type": "code",
   "execution_count": null,
   "metadata": {},
   "outputs": [],
   "source": [
    "s = '2,6,1,3,7,2,7'\n",
    "#TODO\n"
   ]
  },
  {
   "cell_type": "markdown",
   "metadata": {},
   "source": [
    "#### 2.2 列表生成及查找（2分）\n",
    "    生成一个包含1-20中所有整数的列表，判断11是其中的第几个奇数"
   ]
  },
  {
   "cell_type": "code",
   "execution_count": null,
   "metadata": {},
   "outputs": [],
   "source": [
    "#TODO\n"
   ]
  },
  {
   "cell_type": "markdown",
   "metadata": {},
   "source": [
    "#### 2.3 迭代器使用（2分）\n",
    "    在一个随机生成的包含100个10以内的数字的列表中，输出首次出现的1之后的两个数字"
   ]
  },
  {
   "cell_type": "code",
   "execution_count": null,
   "metadata": {},
   "outputs": [],
   "source": [
    "import random\n",
    "l=[random.randint(0,10) for _ in range(100)]\n",
    "#TODO\n"
   ]
  },
  {
   "cell_type": "markdown",
   "metadata": {},
   "source": [
    "#### 2.4（选做，1分）找出1~100之间的所有素数（建议使用filter函数）\n",
    "filter的基本说明见https://www.runoob.com/python3/python3-func-filter.html"
   ]
  },
  {
   "cell_type": "code",
   "execution_count": null,
   "metadata": {},
   "outputs": [],
   "source": [
    "#TODO\n"
   ]
  }
 ],
 "metadata": {
  "kernelspec": {
   "display_name": "Python 3",
   "language": "python",
   "name": "python3"
  },
  "language_info": {
   "codemirror_mode": {
    "name": "ipython",
    "version": 3
   },
   "file_extension": ".py",
   "mimetype": "text/x-python",
   "name": "python",
   "nbconvert_exporter": "python",
   "pygments_lexer": "ipython3",
   "version": "3.7.4"
  }
 },
 "nbformat": 4,
 "nbformat_minor": 4
}
