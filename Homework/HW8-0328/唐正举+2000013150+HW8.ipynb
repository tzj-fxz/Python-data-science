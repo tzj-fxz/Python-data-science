{
 "cells": [
  {
   "cell_type": "markdown",
   "id": "0d6775e5",
   "metadata": {},
   "source": [
    "# Homework_2022_03_07\n",
    "\n",
    "<font color=ff0000> 截止日期 3.31（周四） 23:59</font>"
   ]
  },
  {
   "cell_type": "markdown",
   "id": "ce3f1894",
   "metadata": {},
   "source": [
    "### Exercise 1 Pandas基础练习(4')"
   ]
  },
  {
   "cell_type": "markdown",
   "id": "35ce5c2e",
   "metadata": {},
   "source": []
  },
  {
   "cell_type": "code",
   "execution_count": 59,
   "id": "728f5ab8",
   "metadata": {},
   "outputs": [],
   "source": [
    "import pandas as pd\n",
    "import numpy as np\n",
    "from matplotlib import pyplot as plt\n",
    "%matplotlib inline\n",
    "data = {\n",
    "    'age': [24, 53, 23, 24, 33, 42, 57, 57, 36, 29, 53, 39],\n",
    "    'gender': ['M', 'F', 'M', 'M', 'F', 'M', 'M', 'M', 'M', 'M', 'M', 'F'],\n",
    "    'occupation': ['technician', 'other', 'writer', 'technician', 'technician', 'executive', 'administrator', 'administrator', 'administrator', 'student', 'lawyer', 'other'],\n",
    "    'zip_code': ['85711', '94043', '32067', '43537', '15213', '98101', '91344', '91344', '05201', '01002', '90703', '30329']\n",
    "}"
   ]
  },
  {
   "cell_type": "markdown",
   "id": "0a19dea3",
   "metadata": {},
   "source": [
    "1.1 创建一组从1开始递增的id，作为行索引，由data生成一个DataFrame(1')："
   ]
  },
  {
   "cell_type": "code",
   "execution_count": 60,
   "id": "94fdd981",
   "metadata": {},
   "outputs": [
    {
     "data": {
      "text/html": [
       "<div>\n",
       "<style scoped>\n",
       "    .dataframe tbody tr th:only-of-type {\n",
       "        vertical-align: middle;\n",
       "    }\n",
       "\n",
       "    .dataframe tbody tr th {\n",
       "        vertical-align: top;\n",
       "    }\n",
       "\n",
       "    .dataframe thead th {\n",
       "        text-align: right;\n",
       "    }\n",
       "</style>\n",
       "<table border=\"1\" class=\"dataframe\">\n",
       "  <thead>\n",
       "    <tr style=\"text-align: right;\">\n",
       "      <th></th>\n",
       "      <th>age</th>\n",
       "      <th>gender</th>\n",
       "      <th>occupation</th>\n",
       "      <th>zip_code</th>\n",
       "    </tr>\n",
       "  </thead>\n",
       "  <tbody>\n",
       "    <tr>\n",
       "      <th>1</th>\n",
       "      <td>24</td>\n",
       "      <td>M</td>\n",
       "      <td>technician</td>\n",
       "      <td>85711</td>\n",
       "    </tr>\n",
       "    <tr>\n",
       "      <th>2</th>\n",
       "      <td>53</td>\n",
       "      <td>F</td>\n",
       "      <td>other</td>\n",
       "      <td>94043</td>\n",
       "    </tr>\n",
       "    <tr>\n",
       "      <th>3</th>\n",
       "      <td>23</td>\n",
       "      <td>M</td>\n",
       "      <td>writer</td>\n",
       "      <td>32067</td>\n",
       "    </tr>\n",
       "    <tr>\n",
       "      <th>4</th>\n",
       "      <td>24</td>\n",
       "      <td>M</td>\n",
       "      <td>technician</td>\n",
       "      <td>43537</td>\n",
       "    </tr>\n",
       "    <tr>\n",
       "      <th>5</th>\n",
       "      <td>33</td>\n",
       "      <td>F</td>\n",
       "      <td>technician</td>\n",
       "      <td>15213</td>\n",
       "    </tr>\n",
       "    <tr>\n",
       "      <th>6</th>\n",
       "      <td>42</td>\n",
       "      <td>M</td>\n",
       "      <td>executive</td>\n",
       "      <td>98101</td>\n",
       "    </tr>\n",
       "    <tr>\n",
       "      <th>7</th>\n",
       "      <td>57</td>\n",
       "      <td>M</td>\n",
       "      <td>administrator</td>\n",
       "      <td>91344</td>\n",
       "    </tr>\n",
       "    <tr>\n",
       "      <th>8</th>\n",
       "      <td>57</td>\n",
       "      <td>M</td>\n",
       "      <td>administrator</td>\n",
       "      <td>91344</td>\n",
       "    </tr>\n",
       "    <tr>\n",
       "      <th>9</th>\n",
       "      <td>36</td>\n",
       "      <td>M</td>\n",
       "      <td>administrator</td>\n",
       "      <td>05201</td>\n",
       "    </tr>\n",
       "    <tr>\n",
       "      <th>10</th>\n",
       "      <td>29</td>\n",
       "      <td>M</td>\n",
       "      <td>student</td>\n",
       "      <td>01002</td>\n",
       "    </tr>\n",
       "    <tr>\n",
       "      <th>11</th>\n",
       "      <td>53</td>\n",
       "      <td>M</td>\n",
       "      <td>lawyer</td>\n",
       "      <td>90703</td>\n",
       "    </tr>\n",
       "    <tr>\n",
       "      <th>12</th>\n",
       "      <td>39</td>\n",
       "      <td>F</td>\n",
       "      <td>other</td>\n",
       "      <td>30329</td>\n",
       "    </tr>\n",
       "  </tbody>\n",
       "</table>\n",
       "</div>"
      ],
      "text/plain": [
       "    age gender     occupation zip_code\n",
       "1    24      M     technician    85711\n",
       "2    53      F          other    94043\n",
       "3    23      M         writer    32067\n",
       "4    24      M     technician    43537\n",
       "5    33      F     technician    15213\n",
       "6    42      M      executive    98101\n",
       "7    57      M  administrator    91344\n",
       "8    57      M  administrator    91344\n",
       "9    36      M  administrator    05201\n",
       "10   29      M        student    01002\n",
       "11   53      M         lawyer    90703\n",
       "12   39      F          other    30329"
      ]
     },
     "execution_count": 60,
     "metadata": {},
     "output_type": "execute_result"
    }
   ],
   "source": [
    "# TODO\n",
    "index = [x for x in range(1, 1+len(data['age']))]\n",
    "df = pd.DataFrame(data=data, index=index)\n",
    "df"
   ]
  },
  {
   "cell_type": "markdown",
   "id": "3a7c5fe3",
   "metadata": {},
   "source": [
    "1.2 删除DataFrame中重复的行（保留一行），再删除所有occupation为\"other\"的行(0.5'):"
   ]
  },
  {
   "cell_type": "code",
   "execution_count": 61,
   "id": "061a2578",
   "metadata": {},
   "outputs": [
    {
     "data": {
      "text/html": [
       "<div>\n",
       "<style scoped>\n",
       "    .dataframe tbody tr th:only-of-type {\n",
       "        vertical-align: middle;\n",
       "    }\n",
       "\n",
       "    .dataframe tbody tr th {\n",
       "        vertical-align: top;\n",
       "    }\n",
       "\n",
       "    .dataframe thead th {\n",
       "        text-align: right;\n",
       "    }\n",
       "</style>\n",
       "<table border=\"1\" class=\"dataframe\">\n",
       "  <thead>\n",
       "    <tr style=\"text-align: right;\">\n",
       "      <th></th>\n",
       "      <th>age</th>\n",
       "      <th>gender</th>\n",
       "      <th>occupation</th>\n",
       "      <th>zip_code</th>\n",
       "    </tr>\n",
       "  </thead>\n",
       "  <tbody>\n",
       "    <tr>\n",
       "      <th>1</th>\n",
       "      <td>24</td>\n",
       "      <td>M</td>\n",
       "      <td>technician</td>\n",
       "      <td>85711</td>\n",
       "    </tr>\n",
       "    <tr>\n",
       "      <th>3</th>\n",
       "      <td>23</td>\n",
       "      <td>M</td>\n",
       "      <td>writer</td>\n",
       "      <td>32067</td>\n",
       "    </tr>\n",
       "    <tr>\n",
       "      <th>4</th>\n",
       "      <td>24</td>\n",
       "      <td>M</td>\n",
       "      <td>technician</td>\n",
       "      <td>43537</td>\n",
       "    </tr>\n",
       "    <tr>\n",
       "      <th>5</th>\n",
       "      <td>33</td>\n",
       "      <td>F</td>\n",
       "      <td>technician</td>\n",
       "      <td>15213</td>\n",
       "    </tr>\n",
       "    <tr>\n",
       "      <th>6</th>\n",
       "      <td>42</td>\n",
       "      <td>M</td>\n",
       "      <td>executive</td>\n",
       "      <td>98101</td>\n",
       "    </tr>\n",
       "    <tr>\n",
       "      <th>7</th>\n",
       "      <td>57</td>\n",
       "      <td>M</td>\n",
       "      <td>administrator</td>\n",
       "      <td>91344</td>\n",
       "    </tr>\n",
       "    <tr>\n",
       "      <th>9</th>\n",
       "      <td>36</td>\n",
       "      <td>M</td>\n",
       "      <td>administrator</td>\n",
       "      <td>05201</td>\n",
       "    </tr>\n",
       "    <tr>\n",
       "      <th>10</th>\n",
       "      <td>29</td>\n",
       "      <td>M</td>\n",
       "      <td>student</td>\n",
       "      <td>01002</td>\n",
       "    </tr>\n",
       "    <tr>\n",
       "      <th>11</th>\n",
       "      <td>53</td>\n",
       "      <td>M</td>\n",
       "      <td>lawyer</td>\n",
       "      <td>90703</td>\n",
       "    </tr>\n",
       "  </tbody>\n",
       "</table>\n",
       "</div>"
      ],
      "text/plain": [
       "    age gender     occupation zip_code\n",
       "1    24      M     technician    85711\n",
       "3    23      M         writer    32067\n",
       "4    24      M     technician    43537\n",
       "5    33      F     technician    15213\n",
       "6    42      M      executive    98101\n",
       "7    57      M  administrator    91344\n",
       "9    36      M  administrator    05201\n",
       "10   29      M        student    01002\n",
       "11   53      M         lawyer    90703"
      ]
     },
     "execution_count": 61,
     "metadata": {},
     "output_type": "execute_result"
    }
   ],
   "source": [
    "# TODO\n",
    "df = df[df['occupation'] != 'other']\n",
    "df = df.drop_duplicates(keep='first')\n",
    "df"
   ]
  },
  {
   "cell_type": "markdown",
   "id": "3f53ff7e",
   "metadata": {},
   "source": [
    "1.3 以两种方式访问DataFrame的第一行(0.5')："
   ]
  },
  {
   "cell_type": "code",
   "execution_count": 62,
   "id": "bf3c247c",
   "metadata": {},
   "outputs": [
    {
     "name": "stdout",
     "output_type": "stream",
     "text": [
      "age                   24\n",
      "gender                 M\n",
      "occupation    technician\n",
      "zip_code           85711\n",
      "Name: 1, dtype: object\n",
      "age                   24\n",
      "gender                 M\n",
      "occupation    technician\n",
      "zip_code           85711\n",
      "Name: 1, dtype: object\n"
     ]
    }
   ],
   "source": [
    "# TODO\n",
    "print(df.loc[1,:])\n",
    "print(df.iloc[0,:])"
   ]
  },
  {
   "cell_type": "markdown",
   "id": "eff01058",
   "metadata": {},
   "source": [
    "1.4 以两种方式访问DataFrame的\"occupation\"列(0.5')："
   ]
  },
  {
   "cell_type": "code",
   "execution_count": 63,
   "id": "e8848ff5",
   "metadata": {},
   "outputs": [
    {
     "name": "stdout",
     "output_type": "stream",
     "text": [
      "1        technician\n",
      "3            writer\n",
      "4        technician\n",
      "5        technician\n",
      "6         executive\n",
      "7     administrator\n",
      "9     administrator\n",
      "10          student\n",
      "11           lawyer\n",
      "Name: occupation, dtype: object\n",
      "1        technician\n",
      "3            writer\n",
      "4        technician\n",
      "5        technician\n",
      "6         executive\n",
      "7     administrator\n",
      "9     administrator\n",
      "10          student\n",
      "11           lawyer\n",
      "Name: occupation, dtype: object\n"
     ]
    }
   ],
   "source": [
    "# TODO\n",
    "print(df['occupation'])\n",
    "print(df.loc[:,'occupation'])"
   ]
  },
  {
   "cell_type": "markdown",
   "id": "dc388b3d",
   "metadata": {},
   "source": [
    "1.5 打印出DataFrame中出现次数最多的职业名称(0.5')："
   ]
  },
  {
   "cell_type": "code",
   "execution_count": 64,
   "id": "649d77f3",
   "metadata": {},
   "outputs": [
    {
     "name": "stdout",
     "output_type": "stream",
     "text": [
      "technician\n"
     ]
    }
   ],
   "source": [
    "# TODO\n",
    "print(df.loc[:,'occupation'].value_counts(sort=True).index[0])"
   ]
  },
  {
   "cell_type": "markdown",
   "id": "167b0185",
   "metadata": {},
   "source": [
    "1.6 将data_2转换成DataFrame，与上一个DataFrame按照\"zip_code\"这一列合并，按两种合并方式：\n",
    "\n",
    "1.合并后结果保留两个DataFrame的并集(0.5')；\n",
    "2.合并后只保留data_2的所有数据(0.5')。"
   ]
  },
  {
   "cell_type": "code",
   "execution_count": 65,
   "id": "98a8bfde",
   "metadata": {},
   "outputs": [
    {
     "data": {
      "text/html": [
       "<div>\n",
       "<style scoped>\n",
       "    .dataframe tbody tr th:only-of-type {\n",
       "        vertical-align: middle;\n",
       "    }\n",
       "\n",
       "    .dataframe tbody tr th {\n",
       "        vertical-align: top;\n",
       "    }\n",
       "\n",
       "    .dataframe thead th {\n",
       "        text-align: right;\n",
       "    }\n",
       "</style>\n",
       "<table border=\"1\" class=\"dataframe\">\n",
       "  <thead>\n",
       "    <tr style=\"text-align: right;\">\n",
       "      <th></th>\n",
       "      <th>age</th>\n",
       "      <th>gender</th>\n",
       "      <th>occupation</th>\n",
       "      <th>zip_code</th>\n",
       "      <th>name</th>\n",
       "    </tr>\n",
       "  </thead>\n",
       "  <tbody>\n",
       "    <tr>\n",
       "      <th>0</th>\n",
       "      <td>24.0</td>\n",
       "      <td>M</td>\n",
       "      <td>technician</td>\n",
       "      <td>85711</td>\n",
       "      <td>Alan</td>\n",
       "    </tr>\n",
       "    <tr>\n",
       "      <th>1</th>\n",
       "      <td>23.0</td>\n",
       "      <td>M</td>\n",
       "      <td>writer</td>\n",
       "      <td>32067</td>\n",
       "      <td>NaN</td>\n",
       "    </tr>\n",
       "    <tr>\n",
       "      <th>2</th>\n",
       "      <td>24.0</td>\n",
       "      <td>M</td>\n",
       "      <td>technician</td>\n",
       "      <td>43537</td>\n",
       "      <td>NaN</td>\n",
       "    </tr>\n",
       "    <tr>\n",
       "      <th>3</th>\n",
       "      <td>33.0</td>\n",
       "      <td>F</td>\n",
       "      <td>technician</td>\n",
       "      <td>15213</td>\n",
       "      <td>Abigail</td>\n",
       "    </tr>\n",
       "    <tr>\n",
       "      <th>4</th>\n",
       "      <td>42.0</td>\n",
       "      <td>M</td>\n",
       "      <td>executive</td>\n",
       "      <td>98101</td>\n",
       "      <td>Bob</td>\n",
       "    </tr>\n",
       "    <tr>\n",
       "      <th>5</th>\n",
       "      <td>57.0</td>\n",
       "      <td>M</td>\n",
       "      <td>administrator</td>\n",
       "      <td>91344</td>\n",
       "      <td>NaN</td>\n",
       "    </tr>\n",
       "    <tr>\n",
       "      <th>6</th>\n",
       "      <td>36.0</td>\n",
       "      <td>M</td>\n",
       "      <td>administrator</td>\n",
       "      <td>05201</td>\n",
       "      <td>NaN</td>\n",
       "    </tr>\n",
       "    <tr>\n",
       "      <th>7</th>\n",
       "      <td>29.0</td>\n",
       "      <td>M</td>\n",
       "      <td>student</td>\n",
       "      <td>01002</td>\n",
       "      <td>NaN</td>\n",
       "    </tr>\n",
       "    <tr>\n",
       "      <th>8</th>\n",
       "      <td>53.0</td>\n",
       "      <td>M</td>\n",
       "      <td>lawyer</td>\n",
       "      <td>90703</td>\n",
       "      <td>NaN</td>\n",
       "    </tr>\n",
       "    <tr>\n",
       "      <th>9</th>\n",
       "      <td>NaN</td>\n",
       "      <td>NaN</td>\n",
       "      <td>NaN</td>\n",
       "      <td>94043</td>\n",
       "      <td>Alice</td>\n",
       "    </tr>\n",
       "    <tr>\n",
       "      <th>10</th>\n",
       "      <td>NaN</td>\n",
       "      <td>NaN</td>\n",
       "      <td>NaN</td>\n",
       "      <td>30329</td>\n",
       "      <td>Dave</td>\n",
       "    </tr>\n",
       "  </tbody>\n",
       "</table>\n",
       "</div>"
      ],
      "text/plain": [
       "     age gender     occupation zip_code     name\n",
       "0   24.0      M     technician    85711     Alan\n",
       "1   23.0      M         writer    32067      NaN\n",
       "2   24.0      M     technician    43537      NaN\n",
       "3   33.0      F     technician    15213  Abigail\n",
       "4   42.0      M      executive    98101      Bob\n",
       "5   57.0      M  administrator    91344      NaN\n",
       "6   36.0      M  administrator    05201      NaN\n",
       "7   29.0      M        student    01002      NaN\n",
       "8   53.0      M         lawyer    90703      NaN\n",
       "9    NaN    NaN            NaN    94043    Alice\n",
       "10   NaN    NaN            NaN    30329     Dave"
      ]
     },
     "execution_count": 65,
     "metadata": {},
     "output_type": "execute_result"
    }
   ],
   "source": [
    "data_2 = {\n",
    "    'zip_code': ['85711', '94043', '15213', '98101', '30329'],\n",
    "    'name': ['Alan', 'Alice', 'Abigail', 'Bob', 'Dave']\n",
    "}\n",
    "df2 = pd.DataFrame(data_2)\n",
    "\n",
    "# TODO\n",
    "# 方式一\n",
    "pd.merge(df, df2, on='zip_code', how='outer')"
   ]
  },
  {
   "cell_type": "code",
   "execution_count": 66,
   "id": "f68a4627",
   "metadata": {},
   "outputs": [
    {
     "data": {
      "text/html": [
       "<div>\n",
       "<style scoped>\n",
       "    .dataframe tbody tr th:only-of-type {\n",
       "        vertical-align: middle;\n",
       "    }\n",
       "\n",
       "    .dataframe tbody tr th {\n",
       "        vertical-align: top;\n",
       "    }\n",
       "\n",
       "    .dataframe thead th {\n",
       "        text-align: right;\n",
       "    }\n",
       "</style>\n",
       "<table border=\"1\" class=\"dataframe\">\n",
       "  <thead>\n",
       "    <tr style=\"text-align: right;\">\n",
       "      <th></th>\n",
       "      <th>zip_code</th>\n",
       "      <th>name</th>\n",
       "    </tr>\n",
       "  </thead>\n",
       "  <tbody>\n",
       "    <tr>\n",
       "      <th>0</th>\n",
       "      <td>85711</td>\n",
       "      <td>Alan</td>\n",
       "    </tr>\n",
       "    <tr>\n",
       "      <th>1</th>\n",
       "      <td>15213</td>\n",
       "      <td>Abigail</td>\n",
       "    </tr>\n",
       "    <tr>\n",
       "      <th>2</th>\n",
       "      <td>98101</td>\n",
       "      <td>Bob</td>\n",
       "    </tr>\n",
       "  </tbody>\n",
       "</table>\n",
       "</div>"
      ],
      "text/plain": [
       "  zip_code     name\n",
       "0    85711     Alan\n",
       "1    15213  Abigail\n",
       "2    98101      Bob"
      ]
     },
     "execution_count": 66,
     "metadata": {},
     "output_type": "execute_result"
    }
   ],
   "source": [
    "# 方式二\n",
    "pd.merge(df, df2, left_on='zip_code', right_on='zip_code')[df2.columns]"
   ]
  },
  {
   "cell_type": "markdown",
   "id": "eef6617c",
   "metadata": {},
   "source": [
    "### Exercise 2 Pandas数据分析(6')"
   ]
  },
  {
   "cell_type": "markdown",
   "id": "0114a7ed",
   "metadata": {},
   "source": [
    "本部分数据基于2022年3月的COVID-19疫情数据进行数据分析。\n",
    "\n",
    "在此致谢数据来源：https://github.com/BlankerL/DXY-COVID-19-Data ，并祝愿疫情的影响早日结束。\n",
    "\n",
    "2.1 读取COVID-19_March.csv，通过shape和info()查看数据基本信息(0.5')。"
   ]
  },
  {
   "cell_type": "code",
   "execution_count": 67,
   "id": "3131ac2d",
   "metadata": {
    "scrolled": true
   },
   "outputs": [
    {
     "name": "stdout",
     "output_type": "stream",
     "text": [
      "<class 'pandas.core.frame.DataFrame'>\n",
      "RangeIndex: 34021 entries, 0 to 34020\n",
      "Data columns (total 19 columns):\n",
      " #   Column                   Non-Null Count  Dtype  \n",
      "---  ------                   --------------  -----  \n",
      " 0   continentName            34021 non-null  object \n",
      " 1   continentEnglishName     34021 non-null  object \n",
      " 2   countryName              34021 non-null  object \n",
      " 3   countryEnglishName       31953 non-null  object \n",
      " 4   provinceName             34021 non-null  object \n",
      " 5   provinceEnglishName      31953 non-null  object \n",
      " 6   province_zipCode         34021 non-null  int64  \n",
      " 7   province_confirmedCount  34021 non-null  int64  \n",
      " 8   province_suspectedCount  34021 non-null  int64  \n",
      " 9   province_curedCount      34021 non-null  int64  \n",
      " 10  province_deadCount       34021 non-null  int64  \n",
      " 11  cityName                 16252 non-null  object \n",
      " 12  cityEnglishName          15017 non-null  object \n",
      " 13  city_zipCode             16252 non-null  float64\n",
      " 14  city_confirmedCount      16252 non-null  float64\n",
      " 15  city_suspectedCount      16252 non-null  float64\n",
      " 16  city_curedCount          16252 non-null  float64\n",
      " 17  city_deadCount           16252 non-null  float64\n",
      " 18  updateTime               34021 non-null  object \n",
      "dtypes: float64(5), int64(5), object(9)\n",
      "memory usage: 4.9+ MB\n",
      "(34021, 19) None\n"
     ]
    }
   ],
   "source": [
    "import pandas as pd\n",
    "#TODO\n",
    "df = pd.read_csv('COVID19_March.csv')\n",
    "print(df.shape, df.info())"
   ]
  },
  {
   "cell_type": "markdown",
   "id": "bf99bf0b",
   "metadata": {},
   "source": [
    "2.2 从原表格的updateTime中提取最后更新时间，去除具体时间得到日期，并在原DataFrame中增加一列\"Date\"保存日期(0.5')。"
   ]
  },
  {
   "cell_type": "code",
   "execution_count": 68,
   "id": "927f5fad",
   "metadata": {},
   "outputs": [
    {
     "data": {
      "text/html": [
       "<div>\n",
       "<style scoped>\n",
       "    .dataframe tbody tr th:only-of-type {\n",
       "        vertical-align: middle;\n",
       "    }\n",
       "\n",
       "    .dataframe tbody tr th {\n",
       "        vertical-align: top;\n",
       "    }\n",
       "\n",
       "    .dataframe thead th {\n",
       "        text-align: right;\n",
       "    }\n",
       "</style>\n",
       "<table border=\"1\" class=\"dataframe\">\n",
       "  <thead>\n",
       "    <tr style=\"text-align: right;\">\n",
       "      <th></th>\n",
       "      <th>continentName</th>\n",
       "      <th>continentEnglishName</th>\n",
       "      <th>countryName</th>\n",
       "      <th>countryEnglishName</th>\n",
       "      <th>provinceName</th>\n",
       "      <th>provinceEnglishName</th>\n",
       "      <th>province_zipCode</th>\n",
       "      <th>province_confirmedCount</th>\n",
       "      <th>province_suspectedCount</th>\n",
       "      <th>province_curedCount</th>\n",
       "      <th>province_deadCount</th>\n",
       "      <th>cityName</th>\n",
       "      <th>cityEnglishName</th>\n",
       "      <th>city_zipCode</th>\n",
       "      <th>city_confirmedCount</th>\n",
       "      <th>city_suspectedCount</th>\n",
       "      <th>city_curedCount</th>\n",
       "      <th>city_deadCount</th>\n",
       "      <th>updateTime</th>\n",
       "      <th>Date</th>\n",
       "    </tr>\n",
       "  </thead>\n",
       "  <tbody>\n",
       "    <tr>\n",
       "      <th>0</th>\n",
       "      <td>亚洲</td>\n",
       "      <td>Asia</td>\n",
       "      <td>中国</td>\n",
       "      <td>China</td>\n",
       "      <td>广东省</td>\n",
       "      <td>Guangdong</td>\n",
       "      <td>440000</td>\n",
       "      <td>6536</td>\n",
       "      <td>25</td>\n",
       "      <td>5620</td>\n",
       "      <td>8</td>\n",
       "      <td>深圳</td>\n",
       "      <td>Shenzhen</td>\n",
       "      <td>440300.0</td>\n",
       "      <td>2434.0</td>\n",
       "      <td>3.0</td>\n",
       "      <td>1753.0</td>\n",
       "      <td>3.0</td>\n",
       "      <td>2022/3/27 17:18</td>\n",
       "      <td>2022-03-27</td>\n",
       "    </tr>\n",
       "    <tr>\n",
       "      <th>1</th>\n",
       "      <td>亚洲</td>\n",
       "      <td>Asia</td>\n",
       "      <td>中国</td>\n",
       "      <td>China</td>\n",
       "      <td>广东省</td>\n",
       "      <td>Guangdong</td>\n",
       "      <td>440000</td>\n",
       "      <td>6536</td>\n",
       "      <td>25</td>\n",
       "      <td>5620</td>\n",
       "      <td>8</td>\n",
       "      <td>东莞</td>\n",
       "      <td>Dongguan</td>\n",
       "      <td>441900.0</td>\n",
       "      <td>488.0</td>\n",
       "      <td>1.0</td>\n",
       "      <td>340.0</td>\n",
       "      <td>1.0</td>\n",
       "      <td>2022/3/27 17:18</td>\n",
       "      <td>2022-03-27</td>\n",
       "    </tr>\n",
       "    <tr>\n",
       "      <th>2</th>\n",
       "      <td>亚洲</td>\n",
       "      <td>Asia</td>\n",
       "      <td>中国</td>\n",
       "      <td>China</td>\n",
       "      <td>广东省</td>\n",
       "      <td>Guangdong</td>\n",
       "      <td>440000</td>\n",
       "      <td>6536</td>\n",
       "      <td>25</td>\n",
       "      <td>5620</td>\n",
       "      <td>8</td>\n",
       "      <td>广州</td>\n",
       "      <td>Guangzhou</td>\n",
       "      <td>440100.0</td>\n",
       "      <td>2315.0</td>\n",
       "      <td>3.0</td>\n",
       "      <td>2281.0</td>\n",
       "      <td>1.0</td>\n",
       "      <td>2022/3/27 17:18</td>\n",
       "      <td>2022-03-27</td>\n",
       "    </tr>\n",
       "    <tr>\n",
       "      <th>3</th>\n",
       "      <td>亚洲</td>\n",
       "      <td>Asia</td>\n",
       "      <td>中国</td>\n",
       "      <td>China</td>\n",
       "      <td>广东省</td>\n",
       "      <td>Guangdong</td>\n",
       "      <td>440000</td>\n",
       "      <td>6536</td>\n",
       "      <td>25</td>\n",
       "      <td>5620</td>\n",
       "      <td>8</td>\n",
       "      <td>佛山</td>\n",
       "      <td>Foshan</td>\n",
       "      <td>440600.0</td>\n",
       "      <td>353.0</td>\n",
       "      <td>1.0</td>\n",
       "      <td>339.0</td>\n",
       "      <td>0.0</td>\n",
       "      <td>2022/3/27 17:18</td>\n",
       "      <td>2022-03-27</td>\n",
       "    </tr>\n",
       "    <tr>\n",
       "      <th>4</th>\n",
       "      <td>亚洲</td>\n",
       "      <td>Asia</td>\n",
       "      <td>中国</td>\n",
       "      <td>China</td>\n",
       "      <td>广东省</td>\n",
       "      <td>Guangdong</td>\n",
       "      <td>440000</td>\n",
       "      <td>6536</td>\n",
       "      <td>25</td>\n",
       "      <td>5620</td>\n",
       "      <td>8</td>\n",
       "      <td>珠海</td>\n",
       "      <td>Zhuhai</td>\n",
       "      <td>440400.0</td>\n",
       "      <td>330.0</td>\n",
       "      <td>2.0</td>\n",
       "      <td>315.0</td>\n",
       "      <td>1.0</td>\n",
       "      <td>2022/3/27 17:18</td>\n",
       "      <td>2022-03-27</td>\n",
       "    </tr>\n",
       "    <tr>\n",
       "      <th>...</th>\n",
       "      <td>...</td>\n",
       "      <td>...</td>\n",
       "      <td>...</td>\n",
       "      <td>...</td>\n",
       "      <td>...</td>\n",
       "      <td>...</td>\n",
       "      <td>...</td>\n",
       "      <td>...</td>\n",
       "      <td>...</td>\n",
       "      <td>...</td>\n",
       "      <td>...</td>\n",
       "      <td>...</td>\n",
       "      <td>...</td>\n",
       "      <td>...</td>\n",
       "      <td>...</td>\n",
       "      <td>...</td>\n",
       "      <td>...</td>\n",
       "      <td>...</td>\n",
       "      <td>...</td>\n",
       "      <td>...</td>\n",
       "    </tr>\n",
       "    <tr>\n",
       "      <th>34016</th>\n",
       "      <td>亚洲</td>\n",
       "      <td>Asia</td>\n",
       "      <td>塔吉克斯坦</td>\n",
       "      <td>Tajikstan</td>\n",
       "      <td>塔吉克斯坦</td>\n",
       "      <td>Tajikstan</td>\n",
       "      <td>954003</td>\n",
       "      <td>17786</td>\n",
       "      <td>0</td>\n",
       "      <td>17263</td>\n",
       "      <td>125</td>\n",
       "      <td>NaN</td>\n",
       "      <td>NaN</td>\n",
       "      <td>NaN</td>\n",
       "      <td>NaN</td>\n",
       "      <td>NaN</td>\n",
       "      <td>NaN</td>\n",
       "      <td>NaN</td>\n",
       "      <td>2022/3/1 8:50</td>\n",
       "      <td>2022-03-01</td>\n",
       "    </tr>\n",
       "    <tr>\n",
       "      <th>34017</th>\n",
       "      <td>南美洲</td>\n",
       "      <td>South America</td>\n",
       "      <td>荷兰加勒比地区</td>\n",
       "      <td>NaN</td>\n",
       "      <td>荷兰加勒比地区</td>\n",
       "      <td>NaN</td>\n",
       "      <td>0</td>\n",
       "      <td>177</td>\n",
       "      <td>0</td>\n",
       "      <td>0</td>\n",
       "      <td>3</td>\n",
       "      <td>NaN</td>\n",
       "      <td>NaN</td>\n",
       "      <td>NaN</td>\n",
       "      <td>NaN</td>\n",
       "      <td>NaN</td>\n",
       "      <td>NaN</td>\n",
       "      <td>NaN</td>\n",
       "      <td>2022/3/1 8:50</td>\n",
       "      <td>2022-03-01</td>\n",
       "    </tr>\n",
       "    <tr>\n",
       "      <th>34018</th>\n",
       "      <td>其他</td>\n",
       "      <td>Others</td>\n",
       "      <td>钻石公主号邮轮</td>\n",
       "      <td>Diamond Princess Cruise Ship</td>\n",
       "      <td>钻石公主号邮轮</td>\n",
       "      <td>Diamond Princess Cruise Ship</td>\n",
       "      <td>0</td>\n",
       "      <td>741</td>\n",
       "      <td>0</td>\n",
       "      <td>574</td>\n",
       "      <td>13</td>\n",
       "      <td>NaN</td>\n",
       "      <td>NaN</td>\n",
       "      <td>NaN</td>\n",
       "      <td>NaN</td>\n",
       "      <td>NaN</td>\n",
       "      <td>NaN</td>\n",
       "      <td>NaN</td>\n",
       "      <td>2022/3/1 8:50</td>\n",
       "      <td>2022-03-01</td>\n",
       "    </tr>\n",
       "    <tr>\n",
       "      <th>34019</th>\n",
       "      <td>北美洲</td>\n",
       "      <td>North America</td>\n",
       "      <td>蒙特塞拉特</td>\n",
       "      <td>NaN</td>\n",
       "      <td>蒙特塞拉特</td>\n",
       "      <td>NaN</td>\n",
       "      <td>0</td>\n",
       "      <td>163</td>\n",
       "      <td>0</td>\n",
       "      <td>19</td>\n",
       "      <td>2</td>\n",
       "      <td>NaN</td>\n",
       "      <td>NaN</td>\n",
       "      <td>NaN</td>\n",
       "      <td>NaN</td>\n",
       "      <td>NaN</td>\n",
       "      <td>NaN</td>\n",
       "      <td>NaN</td>\n",
       "      <td>2022/3/1 8:50</td>\n",
       "      <td>2022-03-01</td>\n",
       "    </tr>\n",
       "    <tr>\n",
       "      <th>34020</th>\n",
       "      <td>南美洲</td>\n",
       "      <td>South America</td>\n",
       "      <td>福克兰群岛</td>\n",
       "      <td>NaN</td>\n",
       "      <td>福克兰群岛</td>\n",
       "      <td>NaN</td>\n",
       "      <td>0</td>\n",
       "      <td>109</td>\n",
       "      <td>0</td>\n",
       "      <td>80</td>\n",
       "      <td>0</td>\n",
       "      <td>NaN</td>\n",
       "      <td>NaN</td>\n",
       "      <td>NaN</td>\n",
       "      <td>NaN</td>\n",
       "      <td>NaN</td>\n",
       "      <td>NaN</td>\n",
       "      <td>NaN</td>\n",
       "      <td>2022/3/1 8:50</td>\n",
       "      <td>2022-03-01</td>\n",
       "    </tr>\n",
       "  </tbody>\n",
       "</table>\n",
       "<p>34021 rows × 20 columns</p>\n",
       "</div>"
      ],
      "text/plain": [
       "      continentName continentEnglishName countryName  \\\n",
       "0                亚洲                 Asia          中国   \n",
       "1                亚洲                 Asia          中国   \n",
       "2                亚洲                 Asia          中国   \n",
       "3                亚洲                 Asia          中国   \n",
       "4                亚洲                 Asia          中国   \n",
       "...             ...                  ...         ...   \n",
       "34016            亚洲                 Asia       塔吉克斯坦   \n",
       "34017           南美洲        South America     荷兰加勒比地区   \n",
       "34018            其他               Others     钻石公主号邮轮   \n",
       "34019           北美洲        North America       蒙特塞拉特   \n",
       "34020           南美洲        South America       福克兰群岛   \n",
       "\n",
       "                 countryEnglishName provinceName  \\\n",
       "0                             China          广东省   \n",
       "1                             China          广东省   \n",
       "2                             China          广东省   \n",
       "3                             China          广东省   \n",
       "4                             China          广东省   \n",
       "...                             ...          ...   \n",
       "34016                     Tajikstan        塔吉克斯坦   \n",
       "34017                           NaN      荷兰加勒比地区   \n",
       "34018  Diamond Princess Cruise Ship      钻石公主号邮轮   \n",
       "34019                           NaN        蒙特塞拉特   \n",
       "34020                           NaN        福克兰群岛   \n",
       "\n",
       "                provinceEnglishName  province_zipCode  \\\n",
       "0                         Guangdong            440000   \n",
       "1                         Guangdong            440000   \n",
       "2                         Guangdong            440000   \n",
       "3                         Guangdong            440000   \n",
       "4                         Guangdong            440000   \n",
       "...                             ...               ...   \n",
       "34016                     Tajikstan            954003   \n",
       "34017                           NaN                 0   \n",
       "34018  Diamond Princess Cruise Ship                 0   \n",
       "34019                           NaN                 0   \n",
       "34020                           NaN                 0   \n",
       "\n",
       "       province_confirmedCount  province_suspectedCount  province_curedCount  \\\n",
       "0                         6536                       25                 5620   \n",
       "1                         6536                       25                 5620   \n",
       "2                         6536                       25                 5620   \n",
       "3                         6536                       25                 5620   \n",
       "4                         6536                       25                 5620   \n",
       "...                        ...                      ...                  ...   \n",
       "34016                    17786                        0                17263   \n",
       "34017                      177                        0                    0   \n",
       "34018                      741                        0                  574   \n",
       "34019                      163                        0                   19   \n",
       "34020                      109                        0                   80   \n",
       "\n",
       "       province_deadCount cityName cityEnglishName  city_zipCode  \\\n",
       "0                       8       深圳        Shenzhen      440300.0   \n",
       "1                       8       东莞        Dongguan      441900.0   \n",
       "2                       8       广州       Guangzhou      440100.0   \n",
       "3                       8       佛山          Foshan      440600.0   \n",
       "4                       8       珠海          Zhuhai      440400.0   \n",
       "...                   ...      ...             ...           ...   \n",
       "34016                 125      NaN             NaN           NaN   \n",
       "34017                   3      NaN             NaN           NaN   \n",
       "34018                  13      NaN             NaN           NaN   \n",
       "34019                   2      NaN             NaN           NaN   \n",
       "34020                   0      NaN             NaN           NaN   \n",
       "\n",
       "       city_confirmedCount  city_suspectedCount  city_curedCount  \\\n",
       "0                   2434.0                  3.0           1753.0   \n",
       "1                    488.0                  1.0            340.0   \n",
       "2                   2315.0                  3.0           2281.0   \n",
       "3                    353.0                  1.0            339.0   \n",
       "4                    330.0                  2.0            315.0   \n",
       "...                    ...                  ...              ...   \n",
       "34016                  NaN                  NaN              NaN   \n",
       "34017                  NaN                  NaN              NaN   \n",
       "34018                  NaN                  NaN              NaN   \n",
       "34019                  NaN                  NaN              NaN   \n",
       "34020                  NaN                  NaN              NaN   \n",
       "\n",
       "       city_deadCount       updateTime        Date  \n",
       "0                 3.0  2022/3/27 17:18  2022-03-27  \n",
       "1                 1.0  2022/3/27 17:18  2022-03-27  \n",
       "2                 1.0  2022/3/27 17:18  2022-03-27  \n",
       "3                 0.0  2022/3/27 17:18  2022-03-27  \n",
       "4                 1.0  2022/3/27 17:18  2022-03-27  \n",
       "...               ...              ...         ...  \n",
       "34016             NaN    2022/3/1 8:50  2022-03-01  \n",
       "34017             NaN    2022/3/1 8:50  2022-03-01  \n",
       "34018             NaN    2022/3/1 8:50  2022-03-01  \n",
       "34019             NaN    2022/3/1 8:50  2022-03-01  \n",
       "34020             NaN    2022/3/1 8:50  2022-03-01  \n",
       "\n",
       "[34021 rows x 20 columns]"
      ]
     },
     "execution_count": 68,
     "metadata": {},
     "output_type": "execute_result"
    }
   ],
   "source": [
    "#TODO\n",
    "df['Date'] = pd.to_datetime(df['updateTime']).dt.date\n",
    "df"
   ]
  },
  {
   "cell_type": "markdown",
   "id": "fb44a728",
   "metadata": {},
   "source": [
    "2.3 这里给出的数据由每天循环爬取得到，因此同一地区同一日的数据可能会有多项纪录，但我们只需保存每一天同一个地区（精确到城市）最后一条记录。请对数据进行筛选，按provinceName, cityName, Date三列为标准去重，并将DataFrame按时间从早到晚的顺序排序(1')。"
   ]
  },
  {
   "cell_type": "code",
   "execution_count": 69,
   "id": "c32d2912",
   "metadata": {},
   "outputs": [
    {
     "data": {
      "text/html": [
       "<div>\n",
       "<style scoped>\n",
       "    .dataframe tbody tr th:only-of-type {\n",
       "        vertical-align: middle;\n",
       "    }\n",
       "\n",
       "    .dataframe tbody tr th {\n",
       "        vertical-align: top;\n",
       "    }\n",
       "\n",
       "    .dataframe thead th {\n",
       "        text-align: right;\n",
       "    }\n",
       "</style>\n",
       "<table border=\"1\" class=\"dataframe\">\n",
       "  <thead>\n",
       "    <tr style=\"text-align: right;\">\n",
       "      <th></th>\n",
       "      <th>continentName</th>\n",
       "      <th>continentEnglishName</th>\n",
       "      <th>countryName</th>\n",
       "      <th>countryEnglishName</th>\n",
       "      <th>provinceName</th>\n",
       "      <th>provinceEnglishName</th>\n",
       "      <th>province_zipCode</th>\n",
       "      <th>province_confirmedCount</th>\n",
       "      <th>province_suspectedCount</th>\n",
       "      <th>province_curedCount</th>\n",
       "      <th>...</th>\n",
       "      <th>cityName</th>\n",
       "      <th>cityEnglishName</th>\n",
       "      <th>city_zipCode</th>\n",
       "      <th>city_confirmedCount</th>\n",
       "      <th>city_suspectedCount</th>\n",
       "      <th>city_curedCount</th>\n",
       "      <th>city_deadCount</th>\n",
       "      <th>updateTime</th>\n",
       "      <th>Date</th>\n",
       "      <th>exacttime</th>\n",
       "    </tr>\n",
       "  </thead>\n",
       "  <tbody>\n",
       "    <tr>\n",
       "      <th>33786</th>\n",
       "      <td>亚洲</td>\n",
       "      <td>Asia</td>\n",
       "      <td>中国</td>\n",
       "      <td>China</td>\n",
       "      <td>四川省</td>\n",
       "      <td>Sichuan</td>\n",
       "      <td>510000</td>\n",
       "      <td>1462</td>\n",
       "      <td>22</td>\n",
       "      <td>1377</td>\n",
       "      <td>...</td>\n",
       "      <td>泸州</td>\n",
       "      <td>Luzhou</td>\n",
       "      <td>510500.0</td>\n",
       "      <td>25.0</td>\n",
       "      <td>0.0</td>\n",
       "      <td>25.0</td>\n",
       "      <td>0.0</td>\n",
       "      <td>2022/3/1 8:56</td>\n",
       "      <td>2022-03-01</td>\n",
       "      <td>2022-03-01 08:56:00</td>\n",
       "    </tr>\n",
       "    <tr>\n",
       "      <th>33785</th>\n",
       "      <td>亚洲</td>\n",
       "      <td>Asia</td>\n",
       "      <td>中国</td>\n",
       "      <td>China</td>\n",
       "      <td>四川省</td>\n",
       "      <td>Sichuan</td>\n",
       "      <td>510000</td>\n",
       "      <td>1462</td>\n",
       "      <td>22</td>\n",
       "      <td>1377</td>\n",
       "      <td>...</td>\n",
       "      <td>广安</td>\n",
       "      <td>Guang'an</td>\n",
       "      <td>511600.0</td>\n",
       "      <td>30.0</td>\n",
       "      <td>0.0</td>\n",
       "      <td>30.0</td>\n",
       "      <td>0.0</td>\n",
       "      <td>2022/3/1 8:56</td>\n",
       "      <td>2022-03-01</td>\n",
       "      <td>2022-03-01 08:56:00</td>\n",
       "    </tr>\n",
       "    <tr>\n",
       "      <th>33784</th>\n",
       "      <td>亚洲</td>\n",
       "      <td>Asia</td>\n",
       "      <td>中国</td>\n",
       "      <td>China</td>\n",
       "      <td>四川省</td>\n",
       "      <td>Sichuan</td>\n",
       "      <td>510000</td>\n",
       "      <td>1462</td>\n",
       "      <td>22</td>\n",
       "      <td>1377</td>\n",
       "      <td>...</td>\n",
       "      <td>南充</td>\n",
       "      <td>Nanchong</td>\n",
       "      <td>511300.0</td>\n",
       "      <td>40.0</td>\n",
       "      <td>0.0</td>\n",
       "      <td>40.0</td>\n",
       "      <td>0.0</td>\n",
       "      <td>2022/3/1 8:56</td>\n",
       "      <td>2022-03-01</td>\n",
       "      <td>2022-03-01 08:56:00</td>\n",
       "    </tr>\n",
       "    <tr>\n",
       "      <th>33783</th>\n",
       "      <td>亚洲</td>\n",
       "      <td>Asia</td>\n",
       "      <td>中国</td>\n",
       "      <td>China</td>\n",
       "      <td>四川省</td>\n",
       "      <td>Sichuan</td>\n",
       "      <td>510000</td>\n",
       "      <td>1462</td>\n",
       "      <td>22</td>\n",
       "      <td>1377</td>\n",
       "      <td>...</td>\n",
       "      <td>达州</td>\n",
       "      <td>Dazhou</td>\n",
       "      <td>511700.0</td>\n",
       "      <td>42.0</td>\n",
       "      <td>0.0</td>\n",
       "      <td>42.0</td>\n",
       "      <td>0.0</td>\n",
       "      <td>2022/3/1 8:56</td>\n",
       "      <td>2022-03-01</td>\n",
       "      <td>2022-03-01 08:56:00</td>\n",
       "    </tr>\n",
       "    <tr>\n",
       "      <th>33787</th>\n",
       "      <td>亚洲</td>\n",
       "      <td>Asia</td>\n",
       "      <td>中国</td>\n",
       "      <td>China</td>\n",
       "      <td>四川省</td>\n",
       "      <td>Sichuan</td>\n",
       "      <td>510000</td>\n",
       "      <td>1462</td>\n",
       "      <td>22</td>\n",
       "      <td>1377</td>\n",
       "      <td>...</td>\n",
       "      <td>巴中</td>\n",
       "      <td>Bazhong</td>\n",
       "      <td>511900.0</td>\n",
       "      <td>24.0</td>\n",
       "      <td>0.0</td>\n",
       "      <td>24.0</td>\n",
       "      <td>0.0</td>\n",
       "      <td>2022/3/1 8:56</td>\n",
       "      <td>2022-03-01</td>\n",
       "      <td>2022-03-01 08:56:00</td>\n",
       "    </tr>\n",
       "    <tr>\n",
       "      <th>...</th>\n",
       "      <td>...</td>\n",
       "      <td>...</td>\n",
       "      <td>...</td>\n",
       "      <td>...</td>\n",
       "      <td>...</td>\n",
       "      <td>...</td>\n",
       "      <td>...</td>\n",
       "      <td>...</td>\n",
       "      <td>...</td>\n",
       "      <td>...</td>\n",
       "      <td>...</td>\n",
       "      <td>...</td>\n",
       "      <td>...</td>\n",
       "      <td>...</td>\n",
       "      <td>...</td>\n",
       "      <td>...</td>\n",
       "      <td>...</td>\n",
       "      <td>...</td>\n",
       "      <td>...</td>\n",
       "      <td>...</td>\n",
       "      <td>...</td>\n",
       "    </tr>\n",
       "    <tr>\n",
       "      <th>18</th>\n",
       "      <td>亚洲</td>\n",
       "      <td>Asia</td>\n",
       "      <td>中国</td>\n",
       "      <td>China</td>\n",
       "      <td>广东省</td>\n",
       "      <td>Guangdong</td>\n",
       "      <td>440000</td>\n",
       "      <td>6536</td>\n",
       "      <td>25</td>\n",
       "      <td>5620</td>\n",
       "      <td>...</td>\n",
       "      <td>潮州</td>\n",
       "      <td>Chaozhou</td>\n",
       "      <td>445100.0</td>\n",
       "      <td>7.0</td>\n",
       "      <td>0.0</td>\n",
       "      <td>7.0</td>\n",
       "      <td>0.0</td>\n",
       "      <td>2022/3/27 17:18</td>\n",
       "      <td>2022-03-27</td>\n",
       "      <td>2022-03-27 17:18:00</td>\n",
       "    </tr>\n",
       "    <tr>\n",
       "      <th>19</th>\n",
       "      <td>亚洲</td>\n",
       "      <td>Asia</td>\n",
       "      <td>中国</td>\n",
       "      <td>China</td>\n",
       "      <td>广东省</td>\n",
       "      <td>Guangdong</td>\n",
       "      <td>440000</td>\n",
       "      <td>6536</td>\n",
       "      <td>25</td>\n",
       "      <td>5620</td>\n",
       "      <td>...</td>\n",
       "      <td>河源</td>\n",
       "      <td>Heyuan</td>\n",
       "      <td>441600.0</td>\n",
       "      <td>7.0</td>\n",
       "      <td>0.0</td>\n",
       "      <td>7.0</td>\n",
       "      <td>0.0</td>\n",
       "      <td>2022/3/27 17:18</td>\n",
       "      <td>2022-03-27</td>\n",
       "      <td>2022-03-27 17:18:00</td>\n",
       "    </tr>\n",
       "    <tr>\n",
       "      <th>20</th>\n",
       "      <td>亚洲</td>\n",
       "      <td>Asia</td>\n",
       "      <td>中国</td>\n",
       "      <td>China</td>\n",
       "      <td>广东省</td>\n",
       "      <td>Guangdong</td>\n",
       "      <td>440000</td>\n",
       "      <td>6536</td>\n",
       "      <td>25</td>\n",
       "      <td>5620</td>\n",
       "      <td>...</td>\n",
       "      <td>云浮</td>\n",
       "      <td>Yunfu</td>\n",
       "      <td>445300.0</td>\n",
       "      <td>7.0</td>\n",
       "      <td>0.0</td>\n",
       "      <td>7.0</td>\n",
       "      <td>0.0</td>\n",
       "      <td>2022/3/27 17:18</td>\n",
       "      <td>2022-03-27</td>\n",
       "      <td>2022-03-27 17:18:00</td>\n",
       "    </tr>\n",
       "    <tr>\n",
       "      <th>11</th>\n",
       "      <td>亚洲</td>\n",
       "      <td>Asia</td>\n",
       "      <td>中国</td>\n",
       "      <td>China</td>\n",
       "      <td>广东省</td>\n",
       "      <td>Guangdong</td>\n",
       "      <td>440000</td>\n",
       "      <td>6536</td>\n",
       "      <td>25</td>\n",
       "      <td>5620</td>\n",
       "      <td>...</td>\n",
       "      <td>韶关</td>\n",
       "      <td>Shaoguan</td>\n",
       "      <td>440200.0</td>\n",
       "      <td>11.0</td>\n",
       "      <td>0.0</td>\n",
       "      <td>9.0</td>\n",
       "      <td>1.0</td>\n",
       "      <td>2022/3/27 17:18</td>\n",
       "      <td>2022-03-27</td>\n",
       "      <td>2022-03-27 17:18:00</td>\n",
       "    </tr>\n",
       "    <tr>\n",
       "      <th>0</th>\n",
       "      <td>亚洲</td>\n",
       "      <td>Asia</td>\n",
       "      <td>中国</td>\n",
       "      <td>China</td>\n",
       "      <td>广东省</td>\n",
       "      <td>Guangdong</td>\n",
       "      <td>440000</td>\n",
       "      <td>6536</td>\n",
       "      <td>25</td>\n",
       "      <td>5620</td>\n",
       "      <td>...</td>\n",
       "      <td>深圳</td>\n",
       "      <td>Shenzhen</td>\n",
       "      <td>440300.0</td>\n",
       "      <td>2434.0</td>\n",
       "      <td>3.0</td>\n",
       "      <td>1753.0</td>\n",
       "      <td>3.0</td>\n",
       "      <td>2022/3/27 17:18</td>\n",
       "      <td>2022-03-27</td>\n",
       "      <td>2022-03-27 17:18:00</td>\n",
       "    </tr>\n",
       "  </tbody>\n",
       "</table>\n",
       "<p>15400 rows × 21 columns</p>\n",
       "</div>"
      ],
      "text/plain": [
       "      continentName continentEnglishName countryName countryEnglishName  \\\n",
       "33786            亚洲                 Asia          中国              China   \n",
       "33785            亚洲                 Asia          中国              China   \n",
       "33784            亚洲                 Asia          中国              China   \n",
       "33783            亚洲                 Asia          中国              China   \n",
       "33787            亚洲                 Asia          中国              China   \n",
       "...             ...                  ...         ...                ...   \n",
       "18               亚洲                 Asia          中国              China   \n",
       "19               亚洲                 Asia          中国              China   \n",
       "20               亚洲                 Asia          中国              China   \n",
       "11               亚洲                 Asia          中国              China   \n",
       "0                亚洲                 Asia          中国              China   \n",
       "\n",
       "      provinceName provinceEnglishName  province_zipCode  \\\n",
       "33786          四川省             Sichuan            510000   \n",
       "33785          四川省             Sichuan            510000   \n",
       "33784          四川省             Sichuan            510000   \n",
       "33783          四川省             Sichuan            510000   \n",
       "33787          四川省             Sichuan            510000   \n",
       "...            ...                 ...               ...   \n",
       "18             广东省           Guangdong            440000   \n",
       "19             广东省           Guangdong            440000   \n",
       "20             广东省           Guangdong            440000   \n",
       "11             广东省           Guangdong            440000   \n",
       "0              广东省           Guangdong            440000   \n",
       "\n",
       "       province_confirmedCount  province_suspectedCount  province_curedCount  \\\n",
       "33786                     1462                       22                 1377   \n",
       "33785                     1462                       22                 1377   \n",
       "33784                     1462                       22                 1377   \n",
       "33783                     1462                       22                 1377   \n",
       "33787                     1462                       22                 1377   \n",
       "...                        ...                      ...                  ...   \n",
       "18                        6536                       25                 5620   \n",
       "19                        6536                       25                 5620   \n",
       "20                        6536                       25                 5620   \n",
       "11                        6536                       25                 5620   \n",
       "0                         6536                       25                 5620   \n",
       "\n",
       "       ...  cityName cityEnglishName city_zipCode  city_confirmedCount  \\\n",
       "33786  ...        泸州          Luzhou     510500.0                 25.0   \n",
       "33785  ...        广安        Guang'an     511600.0                 30.0   \n",
       "33784  ...        南充        Nanchong     511300.0                 40.0   \n",
       "33783  ...        达州          Dazhou     511700.0                 42.0   \n",
       "33787  ...        巴中         Bazhong     511900.0                 24.0   \n",
       "...    ...       ...             ...          ...                  ...   \n",
       "18     ...        潮州        Chaozhou     445100.0                  7.0   \n",
       "19     ...        河源          Heyuan     441600.0                  7.0   \n",
       "20     ...        云浮           Yunfu     445300.0                  7.0   \n",
       "11     ...        韶关        Shaoguan     440200.0                 11.0   \n",
       "0      ...        深圳        Shenzhen     440300.0               2434.0   \n",
       "\n",
       "       city_suspectedCount  city_curedCount  city_deadCount       updateTime  \\\n",
       "33786                  0.0             25.0             0.0    2022/3/1 8:56   \n",
       "33785                  0.0             30.0             0.0    2022/3/1 8:56   \n",
       "33784                  0.0             40.0             0.0    2022/3/1 8:56   \n",
       "33783                  0.0             42.0             0.0    2022/3/1 8:56   \n",
       "33787                  0.0             24.0             0.0    2022/3/1 8:56   \n",
       "...                    ...              ...             ...              ...   \n",
       "18                     0.0              7.0             0.0  2022/3/27 17:18   \n",
       "19                     0.0              7.0             0.0  2022/3/27 17:18   \n",
       "20                     0.0              7.0             0.0  2022/3/27 17:18   \n",
       "11                     0.0              9.0             1.0  2022/3/27 17:18   \n",
       "0                      3.0           1753.0             3.0  2022/3/27 17:18   \n",
       "\n",
       "             Date           exacttime  \n",
       "33786  2022-03-01 2022-03-01 08:56:00  \n",
       "33785  2022-03-01 2022-03-01 08:56:00  \n",
       "33784  2022-03-01 2022-03-01 08:56:00  \n",
       "33783  2022-03-01 2022-03-01 08:56:00  \n",
       "33787  2022-03-01 2022-03-01 08:56:00  \n",
       "...           ...                 ...  \n",
       "18     2022-03-27 2022-03-27 17:18:00  \n",
       "19     2022-03-27 2022-03-27 17:18:00  \n",
       "20     2022-03-27 2022-03-27 17:18:00  \n",
       "11     2022-03-27 2022-03-27 17:18:00  \n",
       "0      2022-03-27 2022-03-27 17:18:00  \n",
       "\n",
       "[15400 rows x 21 columns]"
      ]
     },
     "execution_count": 69,
     "metadata": {},
     "output_type": "execute_result"
    }
   ],
   "source": [
    "#TODO\n",
    "df['exacttime'] = pd.to_datetime(df['updateTime'])\n",
    "df_sort = df.sort_values('exacttime')\n",
    "df_sort = df_sort.drop_duplicates(subset=['provinceName', 'cityName', 'Date'], keep='last')\n",
    "df_sort"
   ]
  },
  {
   "cell_type": "markdown",
   "id": "eba4b711",
   "metadata": {},
   "source": [
    "2.4 新建两个DataFrame，分别包含筛选后国内的数据和国外的数据，便于后面分别统计(0.5')。"
   ]
  },
  {
   "cell_type": "code",
   "execution_count": 70,
   "id": "21929981",
   "metadata": {},
   "outputs": [],
   "source": [
    "#TODO\n",
    "df_domestic = df_sort[df_sort['countryName']=='中国']\n",
    "df_foreign = df_sort[df_sort['countryName']!='中国']"
   ]
  },
  {
   "cell_type": "markdown",
   "id": "5f736444",
   "metadata": {},
   "source": [
    "2.5 对于境外的每一个国家，请用记录中最后一天的病例数(province_confirmed)减去第一天的病例数，再除以之间间隔的天数，以此统计日平均新增情况，并打印全球平均日新增的前十名(1')。\n",
    "\n",
    "提示：可以使用groupby&apply等方法；请注意，记录的第一天与最后一天未必是3.1和3.27。\n",
    "参考阅读：https://zhuanlan.zhihu.com/p/101284491"
   ]
  },
  {
   "cell_type": "code",
   "execution_count": 71,
   "id": "1782b5ad",
   "metadata": {
    "scrolled": true
   },
   "outputs": [
    {
     "data": {
      "text/html": [
       "<div>\n",
       "<style scoped>\n",
       "    .dataframe tbody tr th:only-of-type {\n",
       "        vertical-align: middle;\n",
       "    }\n",
       "\n",
       "    .dataframe tbody tr th {\n",
       "        vertical-align: top;\n",
       "    }\n",
       "\n",
       "    .dataframe thead th {\n",
       "        text-align: right;\n",
       "    }\n",
       "</style>\n",
       "<table border=\"1\" class=\"dataframe\">\n",
       "  <thead>\n",
       "    <tr style=\"text-align: right;\">\n",
       "      <th></th>\n",
       "      <th>avg</th>\n",
       "    </tr>\n",
       "    <tr>\n",
       "      <th>provinceName</th>\n",
       "      <th></th>\n",
       "    </tr>\n",
       "  </thead>\n",
       "  <tbody>\n",
       "    <tr>\n",
       "      <th>韩国</th>\n",
       "      <td>321663.653846</td>\n",
       "    </tr>\n",
       "    <tr>\n",
       "      <th>越南</th>\n",
       "      <td>209240.269231</td>\n",
       "    </tr>\n",
       "    <tr>\n",
       "      <th>德国</th>\n",
       "      <td>181072.500000</td>\n",
       "    </tr>\n",
       "    <tr>\n",
       "      <th>法国</th>\n",
       "      <td>80409.961538</td>\n",
       "    </tr>\n",
       "    <tr>\n",
       "      <th>英国</th>\n",
       "      <td>73145.961538</td>\n",
       "    </tr>\n",
       "    <tr>\n",
       "      <th>意大利</th>\n",
       "      <td>56343.730769</td>\n",
       "    </tr>\n",
       "    <tr>\n",
       "      <th>荷兰</th>\n",
       "      <td>56220.961538</td>\n",
       "    </tr>\n",
       "    <tr>\n",
       "      <th>日本</th>\n",
       "      <td>51193.423077</td>\n",
       "    </tr>\n",
       "    <tr>\n",
       "      <th>俄罗斯</th>\n",
       "      <td>50667.461538</td>\n",
       "    </tr>\n",
       "    <tr>\n",
       "      <th>巴西</th>\n",
       "      <td>39729.807692</td>\n",
       "    </tr>\n",
       "  </tbody>\n",
       "</table>\n",
       "</div>"
      ],
      "text/plain": [
       "                        avg\n",
       "provinceName               \n",
       "韩国            321663.653846\n",
       "越南            209240.269231\n",
       "德国            181072.500000\n",
       "法国             80409.961538\n",
       "英国             73145.961538\n",
       "意大利            56343.730769\n",
       "荷兰             56220.961538\n",
       "日本             51193.423077\n",
       "俄罗斯            50667.461538\n",
       "巴西             39729.807692"
      ]
     },
     "execution_count": 71,
     "metadata": {},
     "output_type": "execute_result"
    }
   ],
   "source": [
    "#TODO\n",
    "def fun(x):\n",
    "    df_sick = x.sort_values('Date')\n",
    "    confirm_total = df_sick['province_confirmedCount'].iloc[-1]\n",
    "    if len(df_sick['province_confirmedCount']) != 1:\n",
    "        confirm_total -= df_sick['province_confirmedCount'].iloc[0]\n",
    "    date_total = df_sick['Date'].iloc[-1] - df_sick['Date'].iloc[0]\n",
    "    confirm_avg = confirm_total/(date_total.days)\n",
    "    return pd.Series([confirm_avg])\n",
    "\n",
    "df_foreign2 = df_foreign.groupby('provinceName').apply(fun)\n",
    "df_foreign2.columns=['avg']\n",
    "df_foreign2.sort_values('avg', ascending=False)[:10]"
   ]
  },
  {
   "cell_type": "markdown",
   "id": "49c00b04",
   "metadata": {},
   "source": [
    "2.6 利用pandas的cut功能对境外的日平均新增情况进行分组，打印每个数量级区间内的国家数(0.5')。"
   ]
  },
  {
   "cell_type": "code",
   "execution_count": 72,
   "id": "62e8a192",
   "metadata": {
    "scrolled": true
   },
   "outputs": [
    {
     "data": {
      "text/plain": [
       "(100, 1000]          49\n",
       "(10, 100]            48\n",
       "(0, 10]              44\n",
       "(1000, 10000]        39\n",
       "(10000, 100000]      24\n",
       "(100000, 1000000]     3\n",
       "Name: avg, dtype: int64"
      ]
     },
     "execution_count": 72,
     "metadata": {},
     "output_type": "execute_result"
    }
   ],
   "source": [
    "#TODO\n",
    "group = pd.cut(x=df_foreign2['avg'], bins=[0, 10, 100, 1000, 10000, 100000, 1000000])\n",
    "group.value_counts()"
   ]
  },
  {
   "cell_type": "markdown",
   "id": "69218d62",
   "metadata": {},
   "source": [
    "2.7 绘制3月以来吉林省每日新增的疫情曲线，以后一日减去前一日的确诊病例之差作为新增标准(提示，差分操作在pandas中也有对应的方法)(1')。"
   ]
  },
  {
   "cell_type": "code",
   "execution_count": 73,
   "id": "0623eec3",
   "metadata": {
    "scrolled": true
   },
   "outputs": [
    {
     "data": {
      "text/plain": [
       "Text(0.5, 1.0, 'COVID-19 confirmed cases in Jilin Daily Increase')"
      ]
     },
     "execution_count": 73,
     "metadata": {},
     "output_type": "execute_result"
    },
    {
     "data": {
      "image/png": "[encoded data removed]",
      "text/plain": [
       "<Figure size 432x288 with 1 Axes>"
      ]
     },
     "metadata": {
      "needs_background": "light"
     },
     "output_type": "display_data"
    }
   ],
   "source": [
    "#TODO\n",
    "import matplotlib.pyplot as plt\n",
    "\n",
    "def fun2(x):\n",
    "    return x.iloc[0,7]\n",
    "\n",
    "df_jilin = df_domestic[df_domestic['provinceName']=='吉林省']\n",
    "df_jilin = df_jilin.groupby('Date').apply(fun2)\n",
    "series_jilin = df_jilin.diff(1)\n",
    "\n",
    "fig, ax = plt.subplots()\n",
    "plt.xticks(rotation=90)\n",
    "ax.plot(series_jilin[:])\n",
    "ax.set_title(\"COVID-19 confirmed cases in Jilin Daily Increase\")"
   ]
  },
  {
   "cell_type": "markdown",
   "id": "76d4e08a",
   "metadata": {},
   "source": [
    "2.8 请绘制3月以来上海市每日新增的疫情曲线，在一张图上同时画出总新增与本土新增（cityName中有境外输入条目，可以作为区分）(1')。"
   ]
  },
  {
   "cell_type": "code",
   "execution_count": 74,
   "id": "5f325487",
   "metadata": {},
   "outputs": [
    {
     "data": {
      "text/plain": [
       "<matplotlib.legend.Legend at 0x1f2375f9eb0>"
      ]
     },
     "execution_count": 74,
     "metadata": {},
     "output_type": "execute_result"
    },
    {
     "data": {
      "image/png": "[encoded data removed]",
      "text/plain": [
       "<Figure size 432x288 with 1 Axes>"
      ]
     },
     "metadata": {
      "needs_background": "light"
     },
     "output_type": "display_data"
    }
   ],
   "source": [
    "#TODO\n",
    "import matplotlib.pyplot as plt\n",
    "\n",
    "def fun3(x):\n",
    "    return x.iloc[0,7]\n",
    "\n",
    "def fun4(x):\n",
    "    tmp = x[x['cityName']=='境外输入'].loc[:,['province_confirmedCount','city_confirmedCount']]\n",
    "    tmp['domestic'] = tmp['province_confirmedCount']-tmp['city_confirmedCount']\n",
    "    return tmp['domestic']\n",
    "\n",
    "df_shanghai = df_domestic[df_domestic['provinceName']=='上海市']\n",
    "df_shanghai1 = df_shanghai.groupby('Date').apply(fun3)\n",
    "df_shanghai2 = df_shanghai.groupby(['Date','cityName']).apply(fun4)\n",
    "series_shanghai1 = df_shanghai1.diff(1)\n",
    "series_shanghai2 = df_shanghai2.diff(1)\n",
    "series_shanghai3 = pd.Series(data=series_shanghai2.values, index=series_shanghai1.index)\n",
    "\n",
    "fig, ax = plt.subplots()\n",
    "plt.xticks(rotation=90)\n",
    "ax.plot(series_shanghai1[:], color='b', label='all')\n",
    "ax.plot(series_shanghai3[:], color='r', label='domestic')\n",
    "ax.set_title(\"COVID-19 confirmed cases in Shanghai Daily Increase\")\n",
    "ax.legend(loc = 'upper right', frameon=True, fontsize=10)"
   ]
  },
  {
   "cell_type": "markdown",
   "id": "6640eee1",
   "metadata": {},
   "source": [
    "### 附加题 聚类方法比较及评价 (+2')\n",
    "本题我们利用Minst数据集进行KMeans聚类方法的测试，并对聚类的效果进行评估。"
   ]
  },
  {
   "cell_type": "code",
   "execution_count": 1,
   "id": "a1be5b02",
   "metadata": {},
   "outputs": [
    {
     "name": "stdout",
     "output_type": "stream",
     "text": [
      "(6000, 784)\n",
      "(6000, 1)\n"
     ]
    }
   ],
   "source": [
    "from sklearn import datasets, preprocessing\n",
    "from sklearn.decomposition import PCA\n",
    "from sklearn.cluster import KMeans, MeanShift\n",
    "import pandas as pd\n",
    "import numpy as np\n",
    "from matplotlib import pyplot as plt\n",
    "%matplotlib inline\n",
    "X = pd.read_csv('./train_X.csv') # 为了方便起见，这里只采用前6000个MNIST数据\n",
    "y = pd.read_csv('./train_y.csv')\n",
    "X, y = np.array(X), np.array(y)\n",
    "print(X.shape)\n",
    "print(y.shape)"
   ]
  },
  {
   "cell_type": "code",
   "execution_count": 2,
   "id": "e39a6288",
   "metadata": {
    "scrolled": true
   },
   "outputs": [
    {
     "data": {
      "text/plain": [
       "<matplotlib.collections.PathCollection at 0x2cd047ce0d0>"
      ]
     },
     "execution_count": 2,
     "metadata": {},
     "output_type": "execute_result"
    },
    {
     "data": {
      "image/png": "[encoded data removed]",
      "text/plain": [
       "<Figure size 432x288 with 1 Axes>"
      ]
     },
     "metadata": {
      "needs_background": "light"
     },
     "output_type": "display_data"
    }
   ],
   "source": [
    "pca2d = PCA(n_components=2)\n",
    "X_std = preprocessing.scale(X) # 数据标准化\n",
    "X_2d = pca2d.fit_transform(X_std)# 数据降维至两维便于可视化\n",
    "plt.scatter(X_2d[:, 0], X_2d[:, 1], c=y)"
   ]
  },
  {
   "cell_type": "markdown",
   "id": "b9b9fa0f",
   "metadata": {},
   "source": [
    "3.1 请在原始的标准化数据X_std和降至二维的数据X_2d上分别进行KMeans聚类，并对两种聚类结果进行可视化（以标签作为颜色，均只在二维可视化即可）和纯度计算（参考PPT第四页的公式）。+1'"
   ]
  },
  {
   "cell_type": "code",
   "execution_count": 3,
   "id": "924b3b40",
   "metadata": {},
   "outputs": [],
   "source": [
    "#TODO\n",
    "kmeans_for_std = KMeans(n_clusters=10)\n",
    "kmeans_for_2d = KMeans(n_clusters=10)"
   ]
  },
  {
   "cell_type": "code",
   "execution_count": 4,
   "id": "b6a09481",
   "metadata": {},
   "outputs": [],
   "source": [
    "kmeans_std = kmeans_for_std.fit_transform(X=X_std)\n",
    "kmeans_std_pca2 = pca2d.fit_transform(kmeans_for_std.cluster_centers_)"
   ]
  },
  {
   "cell_type": "code",
   "execution_count": 5,
   "id": "13993618",
   "metadata": {},
   "outputs": [
    {
     "data": {
      "text/plain": [
       "<matplotlib.collections.PathCollection at 0x2cd0781aa90>"
      ]
     },
     "execution_count": 5,
     "metadata": {},
     "output_type": "execute_result"
    },
    {
     "data": {
      "image/png": "[encoded data removed]",
      "text/plain": [
       "<Figure size 432x288 with 1 Axes>"
      ]
     },
     "metadata": {
      "needs_background": "light"
     },
     "output_type": "display_data"
    }
   ],
   "source": [
    "#以下是聚类点可视化\n",
    "plt.scatter(kmeans_std_pca2[kmeans_for_std.labels_[:],0],\n",
    "    kmeans_std_pca2[kmeans_for_std.labels_[:],1], c=kmeans_for_std.labels_)"
   ]
  },
  {
   "cell_type": "code",
   "execution_count": 6,
   "id": "e3235b96",
   "metadata": {},
   "outputs": [
    {
     "data": {
      "text/plain": [
       "<matplotlib.collections.PathCollection at 0x2cd078680d0>"
      ]
     },
     "execution_count": 6,
     "metadata": {},
     "output_type": "execute_result"
    },
    {
     "data": {
      "image/png": "[encoded data removed]",
      "text/plain": [
       "<Figure size 432x288 with 1 Axes>"
      ]
     },
     "metadata": {
      "needs_background": "light"
     },
     "output_type": "display_data"
    }
   ],
   "source": [
    "#以下是聚类可视化\n",
    "plt.scatter(X_2d[:,0], X_2d[:,1], c=kmeans_for_std.labels_)"
   ]
  },
  {
   "cell_type": "code",
   "execution_count": 7,
   "id": "231fb014",
   "metadata": {},
   "outputs": [
    {
     "name": "stdout",
     "output_type": "stream",
     "text": [
      "[[  4.  97.   3.   0.   3.   0.  11.  24. 348. 102.]\n",
      " [  2.   1.   2.   1. 659.   0.   4.   0.   0.   2.]\n",
      " [194.  47.  15.   1.  79.   8.   7.  36.   1. 193.]\n",
      " [ 28. 314.  21.   8.  59.   9.   3.   4.   0. 162.]\n",
      " [  4.   3. 314.  41.  52.  66. 131.   5.   4.   3.]\n",
      " [  6. 174.  25.   3.  17.   9. 239.   9.   6.  26.]\n",
      " [ 52.   9.   4.   0.  52.   1.   4. 465.  18.   3.]\n",
      " [  2.   0. 228. 320.  43.  54.   3.   0.   0.   1.]\n",
      " [  6. 188.  28.   5. 114.  16. 161.   1.   4.  28.]\n",
      " [  2.  12. 283. 213.  25.  54.   6.   0.   3.   3.]]\n",
      "0.5186666666666667\n"
     ]
    }
   ],
   "source": [
    "#计算nir\n",
    "n_mat = np.zeros((10, 10))\n",
    "for x in range(6000):\n",
    "    i = y[x][0]\n",
    "    r = kmeans_for_std.labels_[x]\n",
    "    n_mat[i][r] += 1\n",
    "print(n_mat)\n",
    "#计算纯度\n",
    "P = [max(g)/sum(g) for g in n_mat.T]\n",
    "Purity_std = sum([max(g)/6000 for g in n_mat.T])\n",
    "print(Purity_std)"
   ]
  },
  {
   "cell_type": "code",
   "execution_count": 8,
   "id": "9fa34c06",
   "metadata": {},
   "outputs": [],
   "source": [
    "kmeans_2d = kmeans_for_2d.fit_transform(X=X_2d)"
   ]
  },
  {
   "cell_type": "code",
   "execution_count": 9,
   "id": "4763a66c",
   "metadata": {},
   "outputs": [
    {
     "data": {
      "text/plain": [
       "<matplotlib.collections.PathCollection at 0x2cd0bc698e0>"
      ]
     },
     "execution_count": 9,
     "metadata": {},
     "output_type": "execute_result"
    },
    {
     "data": {
      "image/png": "[encoded data removed]",
      "text/plain": [
       "<Figure size 432x288 with 1 Axes>"
      ]
     },
     "metadata": {
      "needs_background": "light"
     },
     "output_type": "display_data"
    }
   ],
   "source": [
    "#以下是聚类点可视化\n",
    "plt.scatter(kmeans_for_2d.cluster_centers_[kmeans_for_2d.labels_[:],0],\n",
    "    kmeans_for_2d.cluster_centers_[kmeans_for_2d.labels_[:],1], c=kmeans_for_2d.labels_)"
   ]
  },
  {
   "cell_type": "code",
   "execution_count": 10,
   "metadata": {},
   "outputs": [
    {
     "data": {
      "text/plain": [
       "<matplotlib.collections.PathCollection at 0x2cd0bc1ec10>"
      ]
     },
     "execution_count": 10,
     "metadata": {},
     "output_type": "execute_result"
    },
    {
     "data": {
      "image/png": "[encoded data removed]",
      "text/plain": [
       "<Figure size 432x288 with 1 Axes>"
      ]
     },
     "metadata": {
      "needs_background": "light"
     },
     "output_type": "display_data"
    }
   ],
   "source": [
    "#以下是聚类可视化\n",
    "plt.scatter(X_2d[:,0], X_2d[:,1], c=kmeans_for_2d.labels_)"
   ]
  },
  {
   "cell_type": "code",
   "execution_count": 11,
   "id": "48cdfbd6",
   "metadata": {},
   "outputs": [
    {
     "name": "stdout",
     "output_type": "stream",
     "text": [
      "[[  0. 187.   2. 115.   3.  30. 144.  93.   1.  17.]\n",
      " [  7.   0. 642.   0.   0.   6.   0.   0.   3.  13.]\n",
      " [ 36.  33.  25. 153.   3. 172.   1.  72.  42.  44.]\n",
      " [ 60.   6.  56. 106.  12. 129.   2.  42.  59. 136.]\n",
      " [131.   1. 121.   4.  49. 132.   3.  44. 100.  38.]\n",
      " [ 21.   3.  70.  48.  13.  88.   4.  49.  19. 199.]\n",
      " [  4.  10.  95.  76.  13. 137.  13.  94.   6. 160.]\n",
      " [245.   0. 154.   1.  34.  40.   0.   7. 162.   8.]\n",
      " [ 58.   2.  76.  40.  15.  96.   2.  28.  30. 204.]\n",
      " [184.   0. 190.   1.  39.  52.   1.  23.  95.  16.]]\n",
      "0.34199999999999997\n"
     ]
    }
   ],
   "source": [
    "#计算nir\n",
    "n_mat2 = np.zeros((10, 10))\n",
    "for x in range(6000):\n",
    "    i = y[x][0]\n",
    "    r = kmeans_for_2d.labels_[x]\n",
    "    n_mat2[i][r] += 1\n",
    "print(n_mat2)\n",
    "#计算纯度\n",
    "P = [max(g)/sum(g) for g in n_mat2.T]\n",
    "Purity_2d = sum([max(g)/6000 for g in n_mat2.T])\n",
    "print(Purity_2d)"
   ]
  },
  {
   "attachments": {},
   "cell_type": "markdown",
   "id": "d5153290",
   "metadata": {},
   "source": [
    "3.2 请用KM算法等方式实现聚类结果和原标签的最优匹配，并在此基础上计算两种结果的F值。+1'\n",
    "\n",
    "参考阅读：\n",
    "\n",
    "1. 匈牙利算法Wiki https://zh.wikipedia.org/wiki/%E5%8C%88%E7%89%99%E5%88%A9%E7%AE%97%E6%B3%95 \n",
    "2. KM算法讲解 https://blog.csdn.net/sixdaycoder/article/details/47720471\n",
    "3. KM算法python实现https://blog.csdn.net/weixin_39504758/article/details/120183504\n"
   ]
  },
  {
   "cell_type": "code",
   "execution_count": 12,
   "id": "d38113af",
   "metadata": {},
   "outputs": [
    {
     "name": "stderr",
     "output_type": "stream",
     "text": [
      "<ipython-input-12-a9821adb22e2>:5: RuntimeWarning: invalid value encountered in true_divide\n",
      "  F1 = 2*precision1*recall1/(precision1+recall1)\n"
     ]
    }
   ],
   "source": [
    "#以下是标准化数据\n",
    "#计算precision,recall和F\n",
    "precision1 = np.array([n_mat[i][r]/sum(n_mat[:,r]) for i in range(10) for r in range(10)]).reshape((10, 10))\n",
    "recall1 = np.array([n_mat[i][r]/sum(n_mat[i,:]) for i in range(10) for r in range(10)]).reshape((10, 10))\n",
    "F1 = 2*precision1*recall1/(precision1+recall1)\n",
    "F1 = np.nan_to_num(F1)"
   ]
  },
  {
   "cell_type": "code",
   "execution_count": 19,
   "id": "638168a0",
   "metadata": {},
   "outputs": [
    {
     "data": {
      "text/plain": [
       "({0: 8, 1: 4, 2: 0, 3: 9, 4: 2, 5: 6, 6: 7, 7: 3, 8: 1, 9: 5},\n",
       " {8: 0, 4: 1, 0: 2, 1: 8, 2: 4, 6: 5, 7: 6, 3: 7, 9: 3, 5: 9})"
      ]
     },
     "execution_count": 19,
     "metadata": {},
     "output_type": "execute_result"
    }
   ],
   "source": [
    "label_left, label_right = [max(g) for g in n_mat], [0 for _ in n_mat]\n",
    "S, T = {}, {}\n",
    "\n",
    "visited_left = [False for _ in n_mat]\n",
    "visited_right = [False for _ in n_mat]\n",
    "slack_right = [float('inf') for _ in n_mat]\n",
    "\n",
    "\n",
    "def find_path(i, visited_left, visited_right, slack_right):\n",
    "    visited_left[i] = True\n",
    "    for j, match_weight in enumerate(n_mat[i]):\n",
    "        if visited_right[j]:\n",
    "            continue\n",
    "        gap = label_left[i] + label_right[j] - match_weight\n",
    "        if gap == 0:\n",
    "            visited_right[j] = True\n",
    "            if j not in T or find_path(T[j], visited_left, visited_right, slack_right):\n",
    "                T[j] = i\n",
    "                S[i] = j\n",
    "                return True\n",
    "\n",
    "        else:\n",
    "            slack_right[j] = min(slack_right[j], gap)\n",
    "    return False\n",
    "\n",
    "def KM():\n",
    "    m = len(n_mat)\n",
    "    for i in range(m):\n",
    "        # 重置辅助变量\n",
    "        slack_right = [float('inf') for _ in range(m)]\n",
    "        while True:\n",
    "            visited_left = [False for _ in n_mat]\n",
    "            visited_right = [False for _ in n_mat]\n",
    "            if find_path(i,visited_left,visited_right, slack_right):\n",
    "                break\n",
    "            d = float('inf')\n",
    "            for j, slack in enumerate(slack_right):\n",
    "                if not visited_right[j] and slack < d:\n",
    "                    d = slack\n",
    "            for k in range(m):\n",
    "                if visited_left[k]:\n",
    "                    label_left[k] -= d\n",
    "                if visited_right[k]:\n",
    "                    label_right[k] += d\n",
    "    return S, T\n",
    "\n",
    "KM()"
   ]
  },
  {
   "cell_type": "code",
   "execution_count": 20,
   "id": "84a5bcbb",
   "metadata": {},
   "outputs": [
    {
     "data": {
      "text/plain": [
       "0.4807413803890802"
      ]
     },
     "execution_count": 20,
     "metadata": {},
     "output_type": "execute_result"
    }
   ],
   "source": [
    "#计算F值\n",
    "F = sum([F1[i,r]*sum(n_mat[i,:])/6000 for i,r in S.items()])\n",
    "F"
   ]
  },
  {
   "cell_type": "code",
   "execution_count": 21,
   "id": "d38113af",
   "metadata": {},
   "outputs": [
    {
     "name": "stderr",
     "output_type": "stream",
     "text": [
      "<ipython-input-21-7174279e65ad>:5: RuntimeWarning: invalid value encountered in true_divide\n",
      "  F2 = 2*precision2*recall2/(precision2+recall2)\n"
     ]
    }
   ],
   "source": [
    "#以下是二维数据\n",
    "#计算precision,recall和F\n",
    "precision2 = np.array([n_mat2[i][r]/sum(n_mat2[:,r]) for i in range(10) for r in range(10)]).reshape((10, 10))\n",
    "recall2 = np.array([n_mat2[i][r]/sum(n_mat2[i,:]) for i in range(10) for r in range(10)]).reshape((10, 10))\n",
    "F2 = 2*precision2*recall2/(precision2+recall2)\n",
    "F2 = np.nan_to_num(F2)"
   ]
  },
  {
   "cell_type": "code",
   "execution_count": 22,
   "id": "638168a0",
   "metadata": {},
   "outputs": [
    {
     "data": {
      "text/plain": [
       "({0: 1, 1: 2, 2: 3, 3: 5, 4: 4, 5: 6, 6: 7, 7: 8, 8: 9, 9: 0},\n",
       " {1: 0, 2: 1, 5: 3, 9: 8, 0: 9, 3: 2, 7: 6, 8: 7, 4: 4, 6: 5})"
      ]
     },
     "execution_count": 22,
     "metadata": {},
     "output_type": "execute_result"
    }
   ],
   "source": [
    "label_left, label_right = [max(g) for g in n_mat2], [0 for _ in n_mat2]\n",
    "S, T = {}, {}\n",
    "\n",
    "visited_left = [False for _ in n_mat2]\n",
    "visited_right = [False for _ in n_mat2]\n",
    "slack_right = [float('inf') for _ in n_mat2]\n",
    "\n",
    "\n",
    "def find_path(i, visited_left, visited_right, slack_right):\n",
    "    visited_left[i] = True\n",
    "    for j, match_weight in enumerate(n_mat2[i]):\n",
    "        if visited_right[j]:\n",
    "            continue\n",
    "        gap = label_left[i] + label_right[j] - match_weight\n",
    "        if gap == 0:\n",
    "            visited_right[j] = True\n",
    "            if j not in T or find_path(T[j], visited_left, visited_right, slack_right):\n",
    "                T[j] = i\n",
    "                S[i] = j\n",
    "                return True\n",
    "\n",
    "        else:\n",
    "            slack_right[j] = min(slack_right[j], gap)\n",
    "    return False\n",
    "\n",
    "def KM():\n",
    "    m = len(n_mat2)\n",
    "    for i in range(m):\n",
    "        # 重置辅助变量\n",
    "        slack_right = [float('inf') for _ in range(m)]\n",
    "        while True:\n",
    "            visited_left = [False for _ in n_mat2]\n",
    "            visited_right = [False for _ in n_mat2]\n",
    "            if find_path(i,visited_left,visited_right, slack_right):\n",
    "                break\n",
    "            d = float('inf')\n",
    "            for j, slack in enumerate(slack_right):\n",
    "                if not visited_right[j] and slack < d:\n",
    "                    d = slack\n",
    "            for k in range(m):\n",
    "                if visited_left[k]:\n",
    "                    label_left[k] -= d\n",
    "                if visited_right[k]:\n",
    "                    label_right[k] += d\n",
    "    return S, T\n",
    "\n",
    "KM()"
   ]
  },
  {
   "cell_type": "code",
   "execution_count": 23,
   "id": "84a5bcbb",
   "metadata": {},
   "outputs": [
    {
     "data": {
      "text/plain": [
       "0.27257108718074796"
      ]
     },
     "execution_count": 23,
     "metadata": {},
     "output_type": "execute_result"
    }
   ],
   "source": [
    "#计算F值\n",
    "F = sum([F2[i,r]*sum(n_mat[i,:])/6000 for i,r in S.items()])\n",
    "F"
   ]
  }
 ],
 "metadata": {
  "kernelspec": {
   "display_name": "Python 3 (ipykernel)",
   "language": "python",
   "name": "python3"
  },
  "language_info": {
   "codemirror_mode": {
    "name": "ipython",
    "version": 3
   },
   "file_extension": ".py",
   "mimetype": "text/x-python",
   "name": "python",
   "nbconvert_exporter": "python",
   "pygments_lexer": "ipython3",
   "version": "3.8.5"
  }
 },
 "nbformat": 4,
 "nbformat_minor": 5
}
