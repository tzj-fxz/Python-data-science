{
 "cells": [
  {
   "cell_type": "markdown",
   "metadata": {
    "collapsed": true,
    "pycharm": {
     "name": "#%% md\n"
    }
   },
   "source": [
    "# Homework_2022_03_03\n",
    "\n",
    "<font color=ff0000> 截止日期 3.7 中午 11:59</font>\n",
    "\n",
    "### 第一部分：基础练习"
   ]
  },
  {
   "cell_type": "markdown",
   "metadata": {},
   "source": [
    "#### 1.1 创建一个名为PkuClass 的类， 其方法__init__( ) 设置两个属性：student_num 和teacher_num 。创建一个名为describe_class( ) 的方法， 能够返回student_num 和teacher_num。创建一个quit_class()方法，能够减去相应的退课学生数。（1分）"
   ]
  },
  {
   "cell_type": "code",
   "execution_count": 2,
   "metadata": {
    "pycharm": {
     "is_executing": false,
     "name": "#%%\n"
    }
   },
   "outputs": [
    {
     "name": "stdout",
     "output_type": "stream",
     "text": [
      "Test passed!\n"
     ]
    }
   ],
   "source": [
    "class PkuClass():\n",
    "    def __init__(self, s_n, t_n):\n",
    "        # TODO\n",
    "        self.stu = s_n\n",
    "        self.tea = t_n\n",
    "\n",
    "    def describe_class(self):\n",
    "        # TODO\n",
    "        return self.stu, self.tea\n",
    "\n",
    "    def quit(self, s_n):\n",
    "        # TODO\n",
    "        self.stu -= s_n\n",
    "\n",
    "\n",
    "pku_class = PkuClass(100, 1)\n",
    "pku_class.quit(10)\n",
    "assert pku_class.describe_class() == (90, 1)\n",
    "print('Test passed!')"
   ]
  },
  {
   "cell_type": "markdown",
   "metadata": {
    "pycharm": {
     "name": "#%% md\n"
    }
   },
   "source": [
    "#### 1.2 继承1.1的PkuClass类实现一个PythonClass，修改相应默认函数，使得直接print该类的对象就能在屏幕中打出该课程的学生人数和教师人数 (输出格式为：该课共有学生x人,老师y人)（1分）"
   ]
  },
  {
   "cell_type": "code",
   "execution_count": 4,
   "metadata": {
    "pycharm": {
     "is_executing": false,
     "name": "#%%\n"
    }
   },
   "outputs": [
    {
     "name": "stdout",
     "output_type": "stream",
     "text": [
      "该课共有学生100人，老师1人\n"
     ]
    }
   ],
   "source": [
    "class PythonClass(PkuClass):\n",
    "    def __init__(self, s_n, t_n):\n",
    "        # TODO\n",
    "        PkuClass.__init__(self, s_n, t_n)\n",
    "\n",
    "    def __str__(self):\n",
    "        # TODO\n",
    "        return \"该课共有学生{}人，老师{}人\".format(self.stu, self.tea)\n",
    "\n",
    "python_class = PythonClass(100, 1)\n",
    "print(python_class)\n"
   ]
  },
  {
   "cell_type": "markdown",
   "metadata": {},
   "source": [
    "#### 1.3 基于类实现的废弃功能提醒装饰器（2分）\n",
    "题目背景来自第二次作业。\n",
    "\n",
    "有些时候我们希望用户用新功能逐渐替代老功能，但是又希望保有兼容性，本题希望实现装饰器@deprecated达到这个功能。\n",
    "\n",
    "**需要基于类实现，请完成相应的函数。**\n",
    "\n",
    "示例如下："
   ]
  },
  {
   "cell_type": "code",
   "execution_count": 5,
   "metadata": {
    "pycharm": {
     "is_executing": false,
     "name": "#%%\n"
    }
   },
   "outputs": [
    {
     "name": "stdout",
     "output_type": "stream",
     "text": [
      "The function f version 1.1 is deprecated! This function will be removed soon\n"
     ]
    }
   ],
   "source": [
    "class deprecated(object):\n",
    "    def __init__(self, since, reason):\n",
    "        # TODO\n",
    "        self.since = since\n",
    "        self.reason = reason\n",
    "        \n",
    "    def __call__(self, func):\n",
    "        # TODO\n",
    "        def wrapper():\n",
    "            print(\"The function \"+func.__name__+\" version \"+self.since+\" is deprecated! \"+self.reason)\n",
    "        return wrapper\n",
    "\n",
    "# since: 指定已被弃用的版本\n",
    "# forRemoval: 表示在将来的既定版本中会被删除\n",
    "@deprecated(since = \"1.1\", reason = \"This function will be removed soon\")\n",
    "def f():\n",
    "    pass\n",
    "\n",
    "\n",
    "f()"
   ]
  },
  {
   "cell_type": "markdown",
   "metadata": {},
   "source": [
    "#### 1.4 复杂继承遍历（2分）\n",
    "\n",
    "类之间的继承关系如图，可以看成是一棵倒着的树。\n",
    "请实现按照 F -> E -> C -> B -> D -> A 的顺序遍历这棵树。\n",
    "建议使用super。\n",
    "\n",
    "```\n",
    "  A   B   C\n",
    "   \\   \\ /\n",
    "    D   E\n",
    "     \\ /\n",
    "      F\n",
    "```\n",
    "      "
   ]
  },
  {
   "cell_type": "code",
   "execution_count": 9,
   "metadata": {
    "pycharm": {
     "is_executing": false,
     "name": "#%%\n"
    }
   },
   "outputs": [
    {
     "name": "stdout",
     "output_type": "stream",
     "text": [
      "F\n",
      "E\n",
      "C\n",
      "B\n",
      "D\n",
      "A\n"
     ]
    }
   ],
   "source": [
    "class A():\n",
    "    # TODO\n",
    "    def __init__(self):\n",
    "        print('A')\n",
    "        super(A, self).__init__()\n",
    "\n",
    "\n",
    "class B():\n",
    "    # TODO\n",
    "    def __init__(self):\n",
    "        print('B')\n",
    "        super(B, self).__init__()\n",
    "\n",
    "\n",
    "class C():\n",
    "    # TODO\n",
    "    def __init__(self):\n",
    "        print('C')\n",
    "        super(C, self).__init__()\n",
    "\n",
    "\n",
    "class D(A):\n",
    "    # TODO\n",
    "    def __init__(self):\n",
    "        print('D')\n",
    "        super(D, self).__init__()\n",
    "\n",
    "\n",
    "class E(C, B):\n",
    "    # TODO\n",
    "    def __init__(self):\n",
    "        print('E')\n",
    "        super(E, self).__init__()\n",
    "\n",
    "class F(E, D):\n",
    "    # TODO\n",
    "    def __init__(self):\n",
    "        print('F')\n",
    "        super(F, self).__init__()\n",
    "        \n",
    "        \n",
    "f = F()"
   ]
  },
  {
   "cell_type": "markdown",
   "metadata": {},
   "source": [
    "#### 1.5 请实现一个自定义最小堆类并完成模板中相应的函数（4分+1分）\n",
    "\n",
    "- (1) 实现MinHeap类的insert函数，将k放入最小堆中，同时维护最小堆（2分）\n",
    "- (2) 实现MinHeap类的sort函数，返回从小到大的顺序序列，可以使用delete_min，也可以不使用（2分）\n",
    "- (3) （选做）实现一个支持迭代器的最小堆，可以用next()函数每次返回并pop出一个元素，直到队尾。建议通过重写\\_\\_iter\\_\\_和\\_\\_next\\_\\_函数（*1分）\n",
    "\n",
    "参考链接：https://docs.python.org/zh-cn/3/library/heapq.html"
   ]
  },
  {
   "cell_type": "code",
   "execution_count": 57,
   "metadata": {
    "pycharm": {
     "is_executing": false,
     "name": "#%%\n"
    }
   },
   "outputs": [
    {
     "name": "stdout",
     "output_type": "stream",
     "text": [
      "[5, 6, 7, 9, 10, 11, 13]\n"
     ]
    }
   ],
   "source": [
    "class MinHeap:\n",
    "    def __init__(self):\n",
    "        # 初始化\n",
    "        self.heap_list = [0]\n",
    "        self.current_size = 0\n",
    "\n",
    "    def insert(self, k):\n",
    "        # 将k放入最小堆中，同时维护最小堆\n",
    "        # TODO\n",
    "        self.heap_list.append(k)\n",
    "        self.current_size += 1\n",
    "        self.sift_up(self.current_size)\n",
    "\n",
    "    def sift_up(self, i):\n",
    "        # 向上移动二叉树中的值，维护最小堆\n",
    "        while i // 2 > 0:\n",
    "            if self.heap_list[i] < self.heap_list[i // 2]:\n",
    "                self.heap_list[i], self.heap_list[i // 2] = self.heap_list[i // 2], self.heap_list[i]\n",
    "            i = i // 2\n",
    "\n",
    "    def sift_down(self, i):\n",
    "        # 向下移动二叉树中的值，维护最小堆\n",
    "        while (i * 2) <= self.current_size:\n",
    "            mc = self.min_child(i)\n",
    "            if self.heap_list[i] > self.heap_list[mc]:\n",
    "                self.heap_list[i], self.heap_list[mc] = self.heap_list[mc], self.heap_list[i]\n",
    "            i = mc\n",
    "\n",
    "    def min_child(self, i):\n",
    "        if (i * 2) + 1 > self.current_size:\n",
    "            return i * 2\n",
    "        else:\n",
    "            if self.heap_list[i * 2] < self.heap_list[(i * 2) + 1]:\n",
    "                return i * 2\n",
    "            else:\n",
    "                return (i * 2) + 1\n",
    "\n",
    "    def delete_min(self):\n",
    "        # 删除最小值\n",
    "        if len(self.heap_list) == 1:\n",
    "            return 'Empty heap'\n",
    "\n",
    "        root = self.heap_list[1]\n",
    "        self.heap_list[1] = self.heap_list[self.current_size]\n",
    "        *self.heap_list, _ = self.heap_list\n",
    "        self.current_size -= 1\n",
    "\n",
    "        self.sift_down(1)\n",
    "        return root\n",
    "    \n",
    "    def sort(self):\n",
    "        # TODO\n",
    "        self.finallst = []\n",
    "        while self.current_size > 0:\n",
    "            self.finallst.append(self.heap_list[1])\n",
    "            self.delete_min()\n",
    "        print(self.finallst)\n",
    "    \n",
    "    def __iter__(self):\n",
    "        return self\n",
    "    \n",
    "    def __next__(self):\n",
    "        if self.current_size < 1:\n",
    "            raise StopIteration\n",
    "        self.tmp = self.heap_list[1]\n",
    "        self.delete_min()\n",
    "        return self.tmp\n",
    "\n",
    "\n",
    "my_heap = MinHeap()\n",
    "my_heap.insert(5)\n",
    "my_heap.insert(6)\n",
    "my_heap.insert(7)\n",
    "my_heap.insert(9)\n",
    "my_heap.insert(13)\n",
    "my_heap.insert(11)\n",
    "my_heap.insert(10)\n",
    "\n",
    "my_heap.sort()"
   ]
  },
  {
   "cell_type": "code",
   "execution_count": 58,
   "metadata": {
    "pycharm": {
     "is_executing": false,
     "name": "#%%\n"
    }
   },
   "outputs": [
    {
     "name": "stdout",
     "output_type": "stream",
     "text": [
      "5\n",
      "6\n",
      "7\n",
      "9\n",
      "10\n",
      "11\n",
      "13\n"
     ]
    }
   ],
   "source": [
    "# 选做，如果觉得不需要重建堆，可以把这部分注释掉\n",
    "my_heap.insert(5)\n",
    "my_heap.insert(6)\n",
    "my_heap.insert(7)\n",
    "my_heap.insert(9)\n",
    "my_heap.insert(13)\n",
    "my_heap.insert(11)\n",
    "my_heap.insert(10)\n",
    "\n",
    "for item in my_heap:\n",
    "    print(item)"
   ]
  }
 ],
 "metadata": {
  "kernelspec": {
   "display_name": "Python 3",
   "language": "python",
   "name": "python3"
  },
  "language_info": {
   "codemirror_mode": {
    "name": "ipython",
    "version": 3
   },
   "file_extension": ".py",
   "mimetype": "text/x-python",
   "name": "python",
   "nbconvert_exporter": "python",
   "pygments_lexer": "ipython3",
   "version": "3.8.5"
  },
  "pycharm": {
   "stem_cell": {
    "cell_type": "raw",
    "metadata": {
     "collapsed": false
    },
    "source": []
   }
  }
 },
 "nbformat": 4,
 "nbformat_minor": 1
}
