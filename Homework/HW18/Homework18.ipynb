{
 "cells": [
  {
   "cell_type": "markdown",
   "metadata": {
    "collapsed": true,
    "pycharm": {
     "name": "#%% md\n"
    }
   },
   "source": [
    "# 1. 神经网络结构设计与调优\n",
    "在人工构造的MNIST数据集的子集上进行训练/测试，要求：\n",
    "\n",
    "（1）参考课件中给出的代码，实现以下两种不同的网络结构（要求用numpy手动实现前向传播和反向传播等过程）：\n",
    "- 2层前馈网络，激活函数sigmoid或tanh，隐含层维度自定\n",
    "- 3层前馈网络，激活函数relu，隐含层维度自定\n",
    "\n",
    "（2）两个网络在测试集上分类准确率均$\\ge$85%\n",
    "\n",
    "（3）画出训练过程中训练集上loss和训练集上accuracy的变化曲线\n",
    "\n",
    "本次作业可能涉及到的激活函数的定义及其导函数：\n",
    "- $sigmoid(x)=1/(1+e^{-x})$, 导函数$sigmoid(x)(1-sigmoid(x))$\n",
    "- $tanh(x)=(e^x-e^{-x})/(e^x+e^{-x})$，导函数$1-tanh^2(x)$\n",
    "- $relu(x)=max(0,x)$，导函数$f(x)=\\begin{cases}1, x>0 \\\\ 0, x\\le0\\end{cases}$\n",
    "\n",
    "（附加）调优上一步实现的网络：\n",
    "- batch size，iteration\n",
    "- loss function（MSE，交叉熵……）\n",
    "- 优化器的参数（学习率，学习率调整策略，优化器类型……）\n",
    "- 网络权重初始化策略\n",
    "- 数据预处理/增强\n",
    "\n",
    "<font color=ff0000> ⚠️截止日期 5.16 中午 11:59，如果做了附加题调优，请在作业中注释出调优部分。⚠️</font>"
   ]
  },
  {
   "cell_type": "code",
   "execution_count": 159,
   "metadata": {
    "collapsed": false,
    "pycharm": {
     "is_executing": false,
     "name": "#%%\n"
    }
   },
   "outputs": [
    {
     "name": "stdout",
     "output_type": "stream",
     "text": [
      "(1000, 784)\n",
      "(1000,)\n",
      "(200, 784)\n",
      "(200,)\n"
     ]
    }
   ],
   "source": [
    "# 读取训练和测试数据\n",
    "# 本次作业为加快训练速度，只取1000个样本作为训练集，200个样本作为测试集\n",
    "# 每个样本原本是28*28的图片，reshape成784维向量输入神经网络\n",
    "# 只取（形状比较相近的）数字8和数字9两个类，做二分类，并将数字8的label重新标为0，数字9的label重新标为1\n",
    "# 两个类的训练样本数不均衡（1:3）\n",
    "# 本部分代码不可修改\n",
    "\n",
    "import numpy as np\n",
    "f = np.load('/Users/guomingfei/python2022/mnist.npz') \n",
    "x_train, y_train = f['x_train'], f['y_train'] \n",
    "x_test, y_test = f['x_test'], f['y_test'] \n",
    "\n",
    "def get_small_data(x_data, y_data, num1, num2):\n",
    "    cnt1, cnt2, final_x, final_y = 0, 0, [], []\n",
    "    for i in range(x_data.shape[0]):\n",
    "        x = x_data[i, :].reshape(-1).tolist()\n",
    "        y = y_data[i]\n",
    "        if y == 8 and cnt1 < num1:\n",
    "            final_x.append(x)\n",
    "            final_y.append(0)\n",
    "            cnt1 += 1\n",
    "        elif y == 9 and cnt2 < num2:\n",
    "            final_x.append(x)\n",
    "            final_y.append(1)\n",
    "            cnt2 += 1\n",
    "    return np.array(final_x), np.array(final_y)\n",
    "\n",
    "x_train, y_train = get_small_data(x_train, y_train, num1=250, num2=750)\n",
    "x_test, y_test = get_small_data(x_test, y_test, num1=100, num2=100)\n",
    "print(x_train.shape)\n",
    "print(y_train.shape)\n",
    "print(x_test.shape)\n",
    "print(y_test.shape)"
   ]
  },
  {
   "cell_type": "code",
   "execution_count": 105,
   "metadata": {
    "collapsed": false,
    "pycharm": {
     "is_executing": false,
     "name": "#%%\n"
    }
   },
   "outputs": [
    {
     "name": "stdout",
     "output_type": "stream",
     "text": [
      "Epoch: 1, Accuracy: 0.767\n",
      "Epoch: 6, Accuracy: 0.6953333333333334\n",
      "Epoch: 11, Accuracy: 0.8212727272727273\n",
      "Epoch: 16, Accuracy: 0.8724999999999999\n",
      "Epoch: 21, Accuracy: 0.9007142857142857\n",
      "Epoch: 26, Accuracy: 0.9191923076923076\n",
      "Epoch: 31, Accuracy: 0.931741935483871\n",
      "Epoch: 36, Accuracy: 0.9408333333333333\n",
      "Epoch: 41, Accuracy: 0.9478048780487804\n",
      "Epoch: 46, Accuracy: 0.9533260869565218\n"
     ]
    },
    {
     "data": {
      "image/png": "[encoded data removed]",
      "text/plain": [
       "<Figure size 432x288 with 1 Axes>"
      ]
     },
     "metadata": {
      "needs_background": "light"
     },
     "output_type": "display_data"
    }
   ],
   "source": [
    "# TODO\n",
    "# 2层前馈网络，以sigmoid或tanh作为激活函数\n"
   ]
  },
  {
   "cell_type": "code",
   "execution_count": 106,
   "metadata": {
    "collapsed": false,
    "pycharm": {
     "is_executing": false,
     "name": "#%%\n"
    }
   },
   "outputs": [
    {
     "name": "stdout",
     "output_type": "stream",
     "text": [
      "Test accuracy:  0.925\n"
     ]
    }
   ],
   "source": [
    "# TODO\n",
    "# 2层前馈网络test集上准确率\n"
   ]
  },
  {
   "cell_type": "code",
   "execution_count": 169,
   "metadata": {
    "collapsed": false,
    "pycharm": {
     "is_executing": false,
     "name": "#%%\n"
    }
   },
   "outputs": [
    {
     "name": "stdout",
     "output_type": "stream",
     "text": [
      "Epoch: 1, Accuracy: 0.7969999999999999\n",
      "Epoch: 6, Accuracy: 0.8958333333333334\n",
      "Epoch: 11, Accuracy: 0.9228181818181818\n",
      "Epoch: 16, Accuracy: 0.93825\n",
      "Epoch: 21, Accuracy: 0.9478095238095238\n",
      "Epoch: 26, Accuracy: 0.9544230769230769\n",
      "Epoch: 31, Accuracy: 0.9593548387096774\n",
      "Epoch: 36, Accuracy: 0.9633333333333333\n",
      "Epoch: 41, Accuracy: 0.9669024390243902\n",
      "Epoch: 46, Accuracy: 0.9699347826086956\n",
      "Epoch: 51, Accuracy: 0.9726666666666667\n",
      "Epoch: 56, Accuracy: 0.9749642857142857\n",
      "Epoch: 61, Accuracy: 0.9769672131147541\n",
      "Epoch: 66, Accuracy: 0.9787121212121213\n",
      "Epoch: 71, Accuracy: 0.9802112676056338\n",
      "Epoch: 76, Accuracy: 0.9815131578947368\n",
      "Epoch: 81, Accuracy: 0.9826543209876543\n",
      "Epoch: 86, Accuracy: 0.9836627906976744\n",
      "Epoch: 91, Accuracy: 0.9845604395604396\n",
      "Epoch: 96, Accuracy: 0.9853645833333333\n"
     ]
    },
    {
     "data": {
      "image/png": "[encoded data removed]",
      "text/plain": [
       "<Figure size 432x288 with 1 Axes>"
      ]
     },
     "metadata": {
      "needs_background": "light"
     },
     "output_type": "display_data"
    }
   ],
   "source": [
    "# TODO\n",
    "# 3层前馈网络，以relu作为激活函数"
   ]
  },
  {
   "cell_type": "code",
   "execution_count": 170,
   "metadata": {
    "collapsed": false,
    "pycharm": {
     "is_executing": false,
     "name": "#%%\n"
    }
   },
   "outputs": [
    {
     "name": "stdout",
     "output_type": "stream",
     "text": [
      "Test accuracy:  0.92\n"
     ]
    }
   ],
   "source": [
    "# TODO\n",
    "# 3层前馈网络test集上准确率"
   ]
  }
 ],
 "metadata": {
  "interpreter": {
   "hash": "79519f96375e4fd383fdfe7f241b08e17aafdbbba98d62a2cd6b64f01699b8f4"
  },
  "kernelspec": {
   "display_name": "Python 3.7.11 ('mypytorch')",
   "language": "python",
   "name": "python3"
  },
  "language_info": {
   "codemirror_mode": {
    "name": "ipython",
    "version": 2
   },
   "file_extension": ".py",
   "mimetype": "text/x-python",
   "name": "python",
   "nbconvert_exporter": "python",
   "pygments_lexer": "ipython2",
   "version": "3.7.13"
  },
  "pycharm": {
   "stem_cell": {
    "cell_type": "raw",
    "metadata": {
     "collapsed": false
    },
    "source": []
   }
  }
 },
 "nbformat": 4,
 "nbformat_minor": 0
}
