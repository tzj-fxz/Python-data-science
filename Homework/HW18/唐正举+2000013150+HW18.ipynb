{
 "cells": [
  {
   "cell_type": "markdown",
   "metadata": {
    "collapsed": true,
    "pycharm": {
     "name": "#%% md\n"
    }
   },
   "source": [
    "# 1. 神经网络结构设计与调优\n",
    "在人工构造的MNIST数据集的子集上进行训练/测试，要求：\n",
    "\n",
    "（1）参考课件中给出的代码，实现以下两种不同的网络结构（要求用numpy手动实现前向传播和反向传播等过程）：\n",
    "- 2层前馈网络，激活函数sigmoid或tanh，隐含层维度自定\n",
    "- 3层前馈网络，激活函数relu，隐含层维度自定\n",
    "\n",
    "（2）两个网络在测试集上分类准确率均$\\ge$85%\n",
    "\n",
    "（3）画出训练过程中训练集上loss和训练集上accuracy的变化曲线\n",
    "\n",
    "本次作业可能涉及到的激活函数的定义及其导函数：\n",
    "- $sigmoid(x)=1/(1+e^{-x})$, 导函数$sigmoid(x)(1-sigmoid(x))$\n",
    "- $tanh(x)=(e^x-e^{-x})/(e^x+e^{-x})$，导函数$1-tanh^2(x)$\n",
    "- $relu(x)=max(0,x)$，导函数$f(x)=\\begin{cases}1, x>0 \\\\ 0, x\\le0\\end{cases}$\n",
    "\n",
    "（附加）调优上一步实现的网络：\n",
    "- batch size，iteration\n",
    "- loss function（MSE，交叉熵……）\n",
    "- 优化器的参数（学习率，学习率调整策略，优化器类型……）\n",
    "- 网络权重初始化策略\n",
    "- 数据预处理/增强\n",
    "\n",
    "<font color=ff0000> ⚠️截止日期 5.16 中午 11:59，如果做了附加题调优，请在作业中注释出调优部分。⚠️</font>"
   ]
  },
  {
   "cell_type": "code",
   "execution_count": 2,
   "metadata": {
    "collapsed": false,
    "pycharm": {
     "is_executing": false,
     "name": "#%%\n"
    }
   },
   "outputs": [
    {
     "name": "stdout",
     "output_type": "stream",
     "text": [
      "(1000, 784)\n",
      "(1000,)\n",
      "(200, 784)\n",
      "(200,)\n"
     ]
    }
   ],
   "source": [
    "# 读取训练和测试数据\n",
    "# 本次作业为加快训练速度，只取1000个样本作为训练集，200个样本作为测试集\n",
    "# 每个样本原本是28*28的图片，reshape成784维向量输入神经网络\n",
    "# 只取（形状比较相近的）数字8和数字9两个类，做二分类，并将数字8的label重新标为0，数字9的label重新标为1\n",
    "# 两个类的训练样本数不均衡（1:3）\n",
    "# 本部分代码不可修改\n",
    "\n",
    "import numpy as np\n",
    "f = np.load('mnist.npz') \n",
    "x_train, y_train = f['x_train'], f['y_train'] \n",
    "x_test, y_test = f['x_test'], f['y_test'] \n",
    "\n",
    "def get_small_data(x_data, y_data, num1, num2):\n",
    "    cnt1, cnt2, final_x, final_y = 0, 0, [], []\n",
    "    for i in range(x_data.shape[0]):\n",
    "        x = x_data[i, :].reshape(-1).tolist()\n",
    "        y = y_data[i]\n",
    "        if y == 8 and cnt1 < num1:\n",
    "            final_x.append(x)\n",
    "            final_y.append(0)\n",
    "            cnt1 += 1\n",
    "        elif y == 9 and cnt2 < num2:\n",
    "            final_x.append(x)\n",
    "            final_y.append(1)\n",
    "            cnt2 += 1\n",
    "    return np.array(final_x), np.array(final_y)\n",
    "\n",
    "x_train, y_train = get_small_data(x_train, y_train, num1=250, num2=750)\n",
    "x_test, y_test = get_small_data(x_test, y_test, num1=100, num2=100)\n",
    "print(x_train.shape)\n",
    "print(y_train.shape)\n",
    "print(x_test.shape)\n",
    "print(y_test.shape)"
   ]
  },
  {
   "cell_type": "code",
   "execution_count": 3,
   "metadata": {},
   "outputs": [
    {
     "data": {
      "text/plain": [
       "{'divide': 'warn', 'over': 'warn', 'under': 'ignore', 'invalid': 'warn'}"
      ]
     },
     "execution_count": 3,
     "metadata": {},
     "output_type": "execute_result"
    }
   ],
   "source": [
    "# 数据预处理：归一化操作\n",
    "x_train = np.concatenate((x_train, np.ones((x_train.shape[0], 1))), axis=1)\n",
    "x_train = x_train/255\n",
    "x_test = np.concatenate((x_test, np.ones((x_test.shape[0], 1))), axis=1)\n",
    "x_test = x_test/255\n",
    "np.seterr(divide='ignore', invalid='ignore')"
   ]
  },
  {
   "cell_type": "code",
   "execution_count": 4,
   "metadata": {},
   "outputs": [],
   "source": [
    "def sigmoid(x):\n",
    "    return 1 / (1 + np.exp(-x))\n",
    "\n",
    "def grad_sigmoid(x):\n",
    "    return sigmoid(x)*(1-sigmoid(x))\n",
    "\n",
    "def tanh(x):\n",
    "    return (np.exp(x)-np.exp(-x)) / (np.exp(x)+np.exp(-x))\n",
    "\n",
    "def grad_tanh(x):\n",
    "    return 1 - tanh(x)**2\n",
    "\n",
    "def relu(x):\n",
    "    return np.where(x >= 0, x, 0)\n",
    "\n",
    "def grad_relu(x):\n",
    "    return np.where(x >= 0, 1, 0)\n",
    "\n",
    "def entropy(y1, y2):\n",
    "    return np.sum(y2*np.log(y1)+(1-y2)*np.log(1-y1))/y_train.shape[0]\n",
    "\n",
    "def mse(y1, y2):\n",
    "    return np.sum(((y1-y2)**2)/2)/y_train.shape[0]"
   ]
  },
  {
   "cell_type": "code",
   "execution_count": 307,
   "metadata": {},
   "outputs": [],
   "source": [
    "def nn(w1, w2, batch_num):\n",
    "    cur_train = x_train[batch_size*batch_num:batch_size*(batch_num+1),:]\n",
    "    cur_label = y_train[batch_size*batch_num:batch_size*(batch_num+1)].reshape(-1, 1)\n",
    "    z_1 = np.dot(cur_train, w1)\n",
    "    a_1 = sigmoid(z_1)\n",
    "    z_2 = np.dot(a_1, w2)\n",
    "    y_pred = sigmoid(z_2)\n",
    "\n",
    "    w2_g = np.dot(a_1.T, (y_pred-cur_label)*grad_sigmoid(z_2))\n",
    "    w1_g = np.dot(cur_train.T, np.dot((y_pred-cur_label)*grad_sigmoid(z_2), w2.T)*grad_sigmoid(z_1))\n",
    "    grad = {'w1': w1_g, 'w2': w2_g}\n",
    "    return y_pred, cur_label, grad\n",
    "    "
   ]
  },
  {
   "cell_type": "code",
   "execution_count": 308,
   "metadata": {},
   "outputs": [],
   "source": [
    "w1 = np.random.uniform(low=-1, high=1, size=(785, 60))\n",
    "w2 = np.random.uniform(low=-1, high=1, size=(60, 1))\n",
    "# 增加iteration数，学习效果更好\n",
    "epoch_num = 200\n",
    "# batch size设为100，小批量训练增加权重更新次数\n",
    "batch_size = 100\n",
    "learning_rate = 0.002\n",
    "loss_val, accu = [], []"
   ]
  },
  {
   "cell_type": "code",
   "execution_count": 309,
   "metadata": {
    "collapsed": false,
    "pycharm": {
     "is_executing": false,
     "name": "#%%\n"
    }
   },
   "outputs": [
    {
     "name": "stdout",
     "output_type": "stream",
     "text": [
      "Epoch: 9, Loss: 0.8296510730905836, Accuracy: 0.734\n",
      "Epoch: 19, Loss: 0.4626045713580833, Accuracy: 0.784\n",
      "Epoch: 29, Loss: 0.29248579113808054, Accuracy: 0.888\n",
      "Epoch: 39, Loss: 0.2282188717452571, Accuracy: 0.928\n",
      "Epoch: 49, Loss: 0.19490862376037352, Accuracy: 0.942\n",
      "Epoch: 59, Loss: 0.17406025188194654, Accuracy: 0.954\n",
      "Epoch: 69, Loss: 0.1594804466482443, Accuracy: 0.959\n",
      "Epoch: 79, Loss: 0.14850726205991754, Accuracy: 0.963\n",
      "Epoch: 89, Loss: 0.13980612300339712, Accuracy: 0.964\n",
      "Epoch: 99, Loss: 0.13263589311043933, Accuracy: 0.966\n",
      "Epoch: 109, Loss: 0.12655276570425372, Accuracy: 0.967\n",
      "Epoch: 119, Loss: 0.1212748456374051, Accuracy: 0.969\n",
      "Epoch: 129, Loss: 0.1166142625772635, Accuracy: 0.97\n",
      "Epoch: 139, Loss: 0.11244067385787675, Accuracy: 0.972\n",
      "Epoch: 149, Loss: 0.10866052869997475, Accuracy: 0.973\n",
      "Epoch: 159, Loss: 0.1052047264487699, Accuracy: 0.974\n",
      "Epoch: 169, Loss: 0.10202097070799261, Accuracy: 0.977\n",
      "Epoch: 179, Loss: 0.09906887077959609, Accuracy: 0.978\n",
      "Epoch: 189, Loss: 0.0963167094187831, Accuracy: 0.978\n",
      "Epoch: 199, Loss: 0.0937392402048051, Accuracy: 0.978\n"
     ]
    }
   ],
   "source": [
    "# TODO\n",
    "# 2层前馈网络，以sigmoid作为激活函数\n",
    "for epoch in range(epoch_num):\n",
    "    loss_val_epoch, acc = 0, 0\n",
    "    for batch in range(x_train.shape[0]//batch_size):\n",
    "        y_pred, y_label, grad = nn(w1, w2, batch)\n",
    "        \n",
    "        w1 = w1 - learning_rate*grad['w1']\n",
    "        w2 = w2 - learning_rate*grad['w2']\n",
    "        # 交叉熵损失函数\n",
    "        loss_val_epoch += (-entropy(y_pred, y_label))\n",
    "        acc += np.sum((y_pred>=0.5) == y_label)\n",
    "    \n",
    "    loss_val.append(loss_val_epoch)\n",
    "    accu.append(acc/y_train.shape[0])\n",
    "    if epoch % 10 == 9:\n",
    "        print(\"Epoch: {}, Loss: {}, Accuracy: {}\".format(epoch, loss_val[-1], accu[-1]))"
   ]
  },
  {
   "cell_type": "code",
   "execution_count": 310,
   "metadata": {},
   "outputs": [
    {
     "data": {
      "image/png": "[encoded data removed]",
      "text/plain": [
       "<Figure size 432x288 with 1 Axes>"
      ]
     },
     "metadata": {
      "needs_background": "light"
     },
     "output_type": "display_data"
    }
   ],
   "source": [
    "import matplotlib.pyplot as plt\n",
    "fig = plt.figure()\n",
    "plt.plot(loss_val, label=\"loss\")\n",
    "plt.plot(accu, label=\"accuracy\")\n",
    "plt.title(\"Result\")\n",
    "plt.xlabel(\"Epoch\")\n",
    "plt.ylim(0, 1)\n",
    "plt.legend()\n",
    "plt.show()"
   ]
  },
  {
   "cell_type": "code",
   "execution_count": 311,
   "metadata": {
    "collapsed": false,
    "pycharm": {
     "is_executing": false,
     "name": "#%%\n"
    }
   },
   "outputs": [
    {
     "name": "stdout",
     "output_type": "stream",
     "text": [
      "Test accuracy: 0.915\n"
     ]
    }
   ],
   "source": [
    "# TODO\n",
    "# 2层前馈网络test集上准确率\n",
    "y_pred_test = sigmoid(np.dot(sigmoid(np.dot(x_test, w1)), w2))\n",
    "accu_test = np.sum((y_pred_test >= 0.5) == y_test.reshape(-1,1))/y_test.shape[0]\n",
    "print(\"Test accuracy: {}\".format(accu_test))"
   ]
  },
  {
   "cell_type": "code",
   "execution_count": 71,
   "metadata": {
    "collapsed": false,
    "pycharm": {
     "is_executing": false,
     "name": "#%%\n"
    }
   },
   "outputs": [],
   "source": [
    "# TODO\n",
    "# 3层前馈网络，以relu作为激活函数"
   ]
  },
  {
   "cell_type": "code",
   "execution_count": 19,
   "metadata": {},
   "outputs": [],
   "source": [
    "def nn3relu(w1, w2, w3, batch_num):\n",
    "    cur_train = x_train[batch_size*batch_num:batch_size*(batch_num+1),:]\n",
    "    cur_label = y_train[batch_size*batch_num:batch_size*(batch_num+1)].reshape(-1, 1)\n",
    "    z_1 = np.dot(cur_train, w1)\n",
    "    a_1 = relu(z_1)\n",
    "    z_2 = np.dot(a_1, w2)\n",
    "    a_2 = relu(z_2)\n",
    "    z_3 = np.dot(a_2, w3)\n",
    "    y_pred = np.where(z_3>0, 1, 0)\n",
    "\n",
    "    w3_g = np.dot(a_2.T, (y_pred-cur_label))\n",
    "    w2_g = np.dot(a_1.T, np.dot((y_pred-cur_label), w3.T)*grad_relu(z_2))\n",
    "    w1_g = np.dot(cur_train.T, np.dot(np.dot((y_pred-cur_label), w3.T)*grad_relu(z_2), w2.T)*grad_relu(z_1))\n",
    "    grad = {'w1': w1_g, 'w2': w2_g, 'w3': w3_g}\n",
    "    return y_pred, cur_label, grad\n",
    "    "
   ]
  },
  {
   "cell_type": "code",
   "execution_count": 32,
   "metadata": {},
   "outputs": [],
   "source": [
    "w1 = np.random.uniform(low=-1, high=1, size=(785, 256))\n",
    "w2 = np.random.uniform(low=-1, high=1, size=(256, 32))\n",
    "w3 = np.random.uniform(low=-1, high=1, size=(32, 1))\n",
    "epoch_num = 200\n",
    "batch_size = 100\n",
    "# 减小learning-rate，避免relu神经元出现dead情况\n",
    "learning_rate = 1e-5\n",
    "loss_val, accu = [], []"
   ]
  },
  {
   "cell_type": "code",
   "execution_count": 33,
   "metadata": {},
   "outputs": [
    {
     "name": "stdout",
     "output_type": "stream",
     "text": [
      "Epoch: 9, Loss: 0.08900000000000002, Accuracy: 0.822\n",
      "Epoch: 19, Loss: 0.05600000000000001, Accuracy: 0.888\n",
      "Epoch: 29, Loss: 0.038000000000000006, Accuracy: 0.924\n",
      "Epoch: 39, Loss: 0.031, Accuracy: 0.938\n",
      "Epoch: 49, Loss: 0.030000000000000006, Accuracy: 0.94\n",
      "Epoch: 59, Loss: 0.0245, Accuracy: 0.951\n",
      "Epoch: 69, Loss: 0.020500000000000004, Accuracy: 0.959\n",
      "Epoch: 79, Loss: 0.018000000000000002, Accuracy: 0.964\n",
      "Epoch: 89, Loss: 0.018000000000000002, Accuracy: 0.964\n",
      "Epoch: 99, Loss: 0.013000000000000001, Accuracy: 0.974\n",
      "Epoch: 109, Loss: 0.014000000000000002, Accuracy: 0.972\n",
      "Epoch: 119, Loss: 0.013500000000000002, Accuracy: 0.973\n",
      "Epoch: 129, Loss: 0.015, Accuracy: 0.97\n",
      "Epoch: 139, Loss: 0.013000000000000001, Accuracy: 0.974\n",
      "Epoch: 149, Loss: 0.010500000000000002, Accuracy: 0.979\n",
      "Epoch: 159, Loss: 0.012, Accuracy: 0.976\n",
      "Epoch: 169, Loss: 0.0095, Accuracy: 0.981\n",
      "Epoch: 179, Loss: 0.008, Accuracy: 0.984\n",
      "Epoch: 189, Loss: 0.006000000000000002, Accuracy: 0.988\n",
      "Epoch: 199, Loss: 0.007000000000000001, Accuracy: 0.986\n"
     ]
    }
   ],
   "source": [
    "for epoch in range(epoch_num):\n",
    "    loss_val_epoch, acc = 0, 0\n",
    "    for batch in range(x_train.shape[0]//batch_size):\n",
    "        y_pred, y_label, grad = nn3relu(w1, w2, w3, batch)\n",
    "        \n",
    "        w1 = w1 - learning_rate*grad['w1']\n",
    "        w2 = w2 - learning_rate*grad['w2']\n",
    "        w3 = w3 - learning_rate*grad['w3']\n",
    "        # MSE损失函数\n",
    "        loss_val_epoch += (mse(y_pred, y_label))\n",
    "        acc += np.sum((y_pred>=0.5) == y_label)\n",
    "    \n",
    "    loss_val.append(loss_val_epoch)\n",
    "    accu.append(acc/y_train.shape[0])\n",
    "    if epoch % 10 == 9:\n",
    "        print(\"Epoch: {}, Loss: {}, Accuracy: {}\".format(epoch, loss_val[-1], accu[-1]))"
   ]
  },
  {
   "cell_type": "code",
   "execution_count": 34,
   "metadata": {},
   "outputs": [
    {
     "data": {
      "image/png": "[encoded data removed]",
      "text/plain": [
       "<Figure size 432x288 with 1 Axes>"
      ]
     },
     "metadata": {
      "needs_background": "light"
     },
     "output_type": "display_data"
    }
   ],
   "source": [
    "import matplotlib.pyplot as plt\n",
    "fig = plt.figure()\n",
    "plt.plot(loss_val, label=\"loss\")\n",
    "plt.plot(accu, label=\"accuracy\")\n",
    "plt.title(\"Result\")\n",
    "plt.xlabel(\"Epoch\")\n",
    "plt.ylim(0, 1)\n",
    "plt.legend()\n",
    "plt.show()"
   ]
  },
  {
   "cell_type": "code",
   "execution_count": 35,
   "metadata": {
    "collapsed": false,
    "pycharm": {
     "is_executing": false,
     "name": "#%%\n"
    }
   },
   "outputs": [
    {
     "name": "stdout",
     "output_type": "stream",
     "text": [
      "Test accuracy: 0.885\n"
     ]
    }
   ],
   "source": [
    "# TODO\n",
    "# 3层前馈网络test集上准确率\n",
    "y_pred_test = np.dot(relu(np.dot(relu(np.dot(x_test, w1)), w2)), w3)\n",
    "y_pred_test = np.where(y_pred_test>0, 1, 0)\n",
    "accu_test = 1-np.sum(np.logical_xor(y_pred_test, y_test.reshape(-1,1)))/y_test.shape[0]\n",
    "print(\"Test accuracy: {}\".format(accu_test))"
   ]
  }
 ],
 "metadata": {
  "interpreter": {
   "hash": "79519f96375e4fd383fdfe7f241b08e17aafdbbba98d62a2cd6b64f01699b8f4"
  },
  "kernelspec": {
   "display_name": "Python 3.7.11 ('mypytorch')",
   "language": "python",
   "name": "python3"
  },
  "language_info": {
   "codemirror_mode": {
    "name": "ipython",
    "version": 3
   },
   "file_extension": ".py",
   "mimetype": "text/x-python",
   "name": "python",
   "nbconvert_exporter": "python",
   "pygments_lexer": "ipython3",
   "version": "3.7.13"
  },
  "pycharm": {
   "stem_cell": {
    "cell_type": "raw",
    "metadata": {
     "collapsed": false
    },
    "source": []
   }
  }
 },
 "nbformat": 4,
 "nbformat_minor": 0
}
