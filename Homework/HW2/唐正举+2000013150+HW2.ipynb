{
 "cells": [
  {
   "cell_type": "markdown",
   "metadata": {},
   "source": [
    "## HW2-0228\n",
    "\n",
    "\n",
    "ddl：本周四（3月3日）中午12点\n",
    "\n",
    "有问题请联系微信群联系姜腾"
   ]
  },
  {
   "cell_type": "markdown",
   "metadata": {},
   "source": [
    "## 1 基础题"
   ]
  },
  {
   "cell_type": "markdown",
   "metadata": {},
   "source": [
    "#### 1.1 分割范围（考察列表生成式，字符串分割）\n",
    "输入数字范围的字符串，中间用-连接，以逗号隔开，将字符串表示的范围转化为数字的**生成器**。\n",
    "\n",
    "举例：\n",
    "```python\n",
    ">>> parse_ranges(\"1-2,4-5,8-10\")\n",
    "<generator object parse_ranges.<locals>.<genexpr> at 0x7ffe7bd0a4d0>\n",
    ">>> list(parse_ranges(\"1-2,4-5,8-10\"))\n",
    "[1, 2, 4, 5, 8, 9, 10]\n",
    "```"
   ]
  },
  {
   "cell_type": "code",
   "execution_count": 12,
   "metadata": {},
   "outputs": [
    {
     "name": "stdout",
     "output_type": "stream",
     "text": [
      "<generator object parse_ranges.<locals>.<genexpr> at 0x000001359B0B79E0>\n",
      "[1, 2, 4, 5, 8, 9, 10]\n"
     ]
    }
   ],
   "source": [
    "def parse_ranges(ranges_string=\"\"):\n",
    "    # todo\n",
    "    rang = ranges_string.split(',')\n",
    "    rang2 = [x.split('-') for x in rang]\n",
    "    rang3 = (y for x in rang2 for y in range(int(x[0]), int(x[1])+1))\n",
    "    return rang3\n",
    "    pass\n",
    "\n",
    "print(parse_ranges(\"1-2,4-5,8-10\"))\n",
    "print(list(parse_ranges(\"1-2,4-5,8-10\")))"
   ]
  },
  {
   "cell_type": "markdown",
   "metadata": {},
   "source": [
    "#### 1.2 改进的cache装饰器（考察装饰器和函数可变参数列表）\n",
    "\n",
    "课上实现了有记忆存储的cache装饰器，但是对输入的参数有限制。现在希望实现一个@cached装饰器，支持对\\*args和\\*kwargs的输入同样的缓存支持。\n",
    "\n",
    "注：无需考虑输入不可哈希的情况（学有余力者可以在输入不可哈希时抛出异常，不算分）"
   ]
  },
  {
   "cell_type": "code",
   "execution_count": 26,
   "metadata": {},
   "outputs": [],
   "source": [
    "import time\n",
    "\n",
    "def cached(func):\n",
    "    # todo\n",
    "    memory = {}\n",
    "    def inner(farg, *args, **kwargs):\n",
    "        tup = (farg, args, *kwargs)\n",
    "        if tup not in memory:\n",
    "            memory[tup] = func(farg, *args, **kwargs)\n",
    "        return memory[tup]\n",
    "    return inner\n",
    "    pass\n",
    "    \n",
    "@cached\n",
    "def test_func(farg,*args,**kwargs):\n",
    "    time.sleep(2)\n",
    "    return farg,args,kwargs"
   ]
  },
  {
   "cell_type": "code",
   "execution_count": 27,
   "metadata": {},
   "outputs": [
    {
     "name": "stdout",
     "output_type": "stream",
     "text": [
      "2.0033047199249268 sec\n",
      "0.0009999275207519531 sec\n"
     ]
    }
   ],
   "source": [
    "time_start = time.time()\n",
    "test_func(1,2,3,a=4)\n",
    "print(f'{time.time() - time_start} sec')\n",
    "time_start = time.time()\n",
    "test_func(1,2,3,a=4)\n",
    "print(f'{time.time() - time_start} sec')"
   ]
  },
  {
   "cell_type": "markdown",
   "metadata": {},
   "source": [
    "#### 1.3 用lambda表达式和map函数编写一个程序，生成一个key为1到20之间整数，value为对应数的平方的字典(1和20都包含在内)。"
   ]
  },
  {
   "cell_type": "code",
   "execution_count": 17,
   "metadata": {},
   "outputs": [
    {
     "name": "stdout",
     "output_type": "stream",
     "text": [
      "{1: 1, 2: 4, 3: 9, 4: 16, 5: 25, 6: 36, 7: 49, 8: 64, 9: 81, 10: 100, 11: 121, 12: 144, 13: 169, 14: 196, 15: 225, 16: 256, 17: 289, 18: 324, 19: 361, 20: 400}\n"
     ]
    }
   ],
   "source": [
    "# todo\n",
    "lst = [x for x in range(1, 21)]\n",
    "val = list(map(lambda x: x*x, lst))\n",
    "dic = {x:y for x, y in zip(lst, val)}\n",
    "print(dic)"
   ]
  },
  {
   "cell_type": "markdown",
   "metadata": {},
   "source": [
    "#### 1.4 递归函数\n",
    "以方程：$x^3-0.2x^2-0.2x-1.2=0$为例，根据牛顿迭代法编写程序，求该方程的根，精度为0.00000001（该方程只有一个根）\n",
    "\n",
    "提示：牛顿迭代法——设方程$f(x)=0$的根为$r$，取$x_0$作为$r$的初始近似值，过点($x_0$, $f(x_0)$)作$f(x)$的切线，与x轴交点的横坐标为$x_1=x_0-\\frac{f(x_0)}{f'(x_0)}$，$x_1$称为$r$的一次近似值。再过点$(x_1,f(x_1)$作切线，继续迭代……\n",
    "$x_{n+1}=x_n-\\frac{f(x_n)}{f'(x_n)}$"
   ]
  },
  {
   "cell_type": "code",
   "execution_count": 18,
   "metadata": {},
   "outputs": [
    {
     "name": "stdout",
     "output_type": "stream",
     "text": [
      "1.2000000000545015\n"
     ]
    }
   ],
   "source": [
    "# todo\n",
    "def func(x):\n",
    "    f = x**3 - 0.2*(x**2) - 0.2*x - 1.2\n",
    "    f_ = 3*(x**2) - 0.4*x - 0.2\n",
    "    x_ = x - f/f_\n",
    "    if (abs(x-x_)<0.00000001):\n",
    "        return x\n",
    "    return func(x_)\n",
    "\n",
    "sol = func(2)\n",
    "print(sol)"
   ]
  },
  {
   "cell_type": "markdown",
   "metadata": {},
   "source": [
    "## 2 进阶题"
   ]
  },
  {
   "cell_type": "markdown",
   "metadata": {},
   "source": [
    "#### 2.1 运行下面的代码，根据异常信息进行分析，定位出错误源头，并修复"
   ]
  },
  {
   "cell_type": "code",
   "execution_count": 19,
   "metadata": {},
   "outputs": [
    {
     "name": "stdout",
     "output_type": "stream",
     "text": [
      "100 + 200 + 345 = 645.0\n",
      "99 + 88 + 7.6 = 194.6\n"
     ]
    }
   ],
   "source": [
    "from functools import reduce\n",
    "\n",
    "def str2num(s):\n",
    "    return float(s)\n",
    "\n",
    "def calc(exp):\n",
    "    ss = exp.split('+')\n",
    "    ns = map(str2num, ss)\n",
    "    return reduce(lambda acc, x: acc + x, ns)\n",
    "\n",
    "def main():\n",
    "    r = calc('100 + 200 + 345')\n",
    "    print('100 + 200 + 345 =', r)\n",
    "    r = calc('99 + 88 + 7.6')\n",
    "    print('99 + 88 + 7.6 =', r)\n",
    "\n",
    "main()"
   ]
  },
  {
   "cell_type": "markdown",
   "metadata": {},
   "source": [
    "### 以下2.2与2.3的bonus question大家都可以尝试，如果两个尝试都正确*只算一个的分数*。"
   ]
  },
  {
   "cell_type": "markdown",
   "metadata": {},
   "source": [
    "#### 2.2 废弃功能提醒装饰器\n",
    "有些时候我们希望用户用新功能逐渐替代老功能，但是又希望保有兼容性，本题希望实现装饰器@deprecated达到这个功能。**注意，希望可以只在函数第一次被定义时抛出提示，之后不再抛出。**示例如下：\n",
    "\n",
    "```python\n",
    "@deprecated\n",
    "def f(): \n",
    "    pass\n",
    "\n",
    ">>> f()\n",
    "Function deprecated, do not use.\n",
    ">>> f()\n",
    ">>> f()\n",
    "```"
   ]
  },
  {
   "cell_type": "code",
   "execution_count": 20,
   "metadata": {},
   "outputs": [],
   "source": [
    "import functools\n",
    "\n",
    "def deprecate(func):\n",
    "    # todo\n",
    "    num = 0\n",
    "    def inner():\n",
    "        nonlocal num\n",
    "        if num == 0:\n",
    "            func()\n",
    "            print(\"Function deprecated, do not use.\")\n",
    "            num += 1\n",
    "    return inner\n",
    "    pass\n",
    "\n",
    "@deprecate\n",
    "def f(): \n",
    "    pass"
   ]
  },
  {
   "cell_type": "code",
   "execution_count": 21,
   "metadata": {},
   "outputs": [
    {
     "name": "stdout",
     "output_type": "stream",
     "text": [
      "Function deprecated, do not use.\n"
     ]
    }
   ],
   "source": [
    "f()"
   ]
  },
  {
   "cell_type": "code",
   "execution_count": 22,
   "metadata": {},
   "outputs": [],
   "source": [
    "f()"
   ]
  },
  {
   "cell_type": "markdown",
   "metadata": {},
   "source": [
    "#### bonus 2.1.1（两个bonus只算一个分）\n",
    "对废弃功能提醒装饰器进行如下的改进：\n",
    "1. 同时打印本函数的名字\n",
    "1. 接受自定义提醒语句\n",
    "\n",
    "举例：\n",
    "```python\n",
    "@deprecate('use f1 instead')\n",
    "def f(): \n",
    "    pass\n",
    "\n",
    ">>> f()\n",
    "Function f is deprecated, use f1 instead\n",
    ">>> f()\n",
    ">>> f()\n",
    "```"
   ]
  },
  {
   "cell_type": "code",
   "execution_count": 1,
   "metadata": {},
   "outputs": [],
   "source": [
    "import functools\n",
    "\n",
    "def deprecate(msg):\n",
    "    # todo\n",
    "    def decorator(func):\n",
    "        num = 0\n",
    "        def inner(str=\"\"):\n",
    "            nonlocal num\n",
    "            if num == 0:\n",
    "                print(func.__name__,\"is deprecated, \"+msg)\n",
    "                num += 1\n",
    "            return func()\n",
    "        return inner\n",
    "    return decorator\n",
    "    pass\n",
    "\n",
    "@deprecate('use f1 instead')\n",
    "def f(): \n",
    "    pass"
   ]
  },
  {
   "cell_type": "code",
   "execution_count": 2,
   "metadata": {},
   "outputs": [
    {
     "name": "stdout",
     "output_type": "stream",
     "text": [
      "f is deprecated, use f1 instead\n"
     ]
    }
   ],
   "source": [
    "f()"
   ]
  },
  {
   "cell_type": "code",
   "execution_count": 3,
   "metadata": {},
   "outputs": [],
   "source": [
    "f()"
   ]
  },
  {
   "cell_type": "markdown",
   "metadata": {},
   "source": [
    "#### 2.3 用字典表示图\n",
    "本题中我们将用边表示的无向图构建一个字典表示的无向图，这种表示在图的遍历中很有效，最后我们选择性地可以尝试找到该图的两个节点之间的最短路径（提示：用BFS算法）。\n",
    "\n",
    "举例：\n",
    "```python\n",
    ">>> edges = [[\"A\", \"B\"], [\"A\", \"E\"], \n",
    "     [\"A\", \"C\"], [\"B\", \"D\"], \n",
    "     [\"B\", \"E\"], [\"C\", \"F\"], \n",
    "     [\"C\", \"G\"], [\"D\", \"E\"]]\n",
    ">>> build_graph(edges)\n",
    "{'A': ['B', 'E', 'C'], \n",
    " 'B': ['A', 'D', 'E'],\n",
    " 'E': ['A', 'B', 'D'],\n",
    " 'C': ['A', 'F', 'G'],\n",
    " 'D': ['B', 'E'],\n",
    " 'F': ['C'],\n",
    " 'G': ['C']}\n",
    "\n",
    "```"
   ]
  },
  {
   "cell_type": "code",
   "execution_count": 26,
   "metadata": {},
   "outputs": [
    {
     "data": {
      "text/plain": [
       "{'A': ['B', 'E', 'C'],\n",
       " 'B': ['A', 'D', 'E'],\n",
       " 'E': ['A', 'B', 'D'],\n",
       " 'C': ['A', 'F', 'G'],\n",
       " 'D': ['B', 'E'],\n",
       " 'F': ['C'],\n",
       " 'G': ['C']}"
      ]
     },
     "execution_count": 26,
     "metadata": {},
     "output_type": "execute_result"
    }
   ],
   "source": [
    "from collections import defaultdict\n",
    "\n",
    "# 建图\n",
    "def build_graph(edges):\n",
    "    # todo\n",
    "    dic = {}\n",
    "    for edge in edges:\n",
    "        if edge[0] not in dic:\n",
    "            dic[edge[0]] = [edge[1]]\n",
    "        else:\n",
    "            dic[edge[0]] += edge[1]\n",
    "        if edge[1] not in dic:\n",
    "            dic[edge[1]] = [edge[0]]\n",
    "        else:\n",
    "            dic[edge[1]] += edge[0]\n",
    "    return dic\n",
    "    pass\n",
    "\n",
    "edges = [\n",
    "    [\"A\", \"B\"], [\"A\", \"E\"],\n",
    "    [\"A\", \"C\"], [\"B\", \"D\"],\n",
    "    [\"B\", \"E\"], [\"C\", \"F\"],\n",
    "    [\"C\", \"G\"], [\"D\", \"E\"]\n",
    "]\n",
    "\n",
    "graph = build_graph(edges)\n",
    "graph"
   ]
  },
  {
   "cell_type": "markdown",
   "metadata": {},
   "source": [
    "#### bonus 2.3.1:(打印输出两节点间最短路径)，两个bonus只算一个分"
   ]
  },
  {
   "cell_type": "code",
   "execution_count": 27,
   "metadata": {},
   "outputs": [
    {
     "name": "stdout",
     "output_type": "stream",
     "text": [
      "Shortest path = A B D\n"
     ]
    }
   ],
   "source": [
    "#Find the shortest path in the graph using dictionaries\n",
    "\n",
    "def BFS_SP(graph, start, goal):\n",
    "    # todo\n",
    "    point = [x for x in graph.keys()]\n",
    "    q = [start]\n",
    "    num = 0\n",
    "    path = [start]\n",
    "    while num < len(point):\n",
    "        tmp = q[num]\n",
    "        num += 1\n",
    "        for x in graph[tmp[-1]]:\n",
    "            if x not in q:\n",
    "                q.append(tmp+x)\n",
    "                if x == goal:\n",
    "                    print(\"Shortest path = \", end='')\n",
    "                    for i in tmp:\n",
    "                        print(i, end=' ')\n",
    "                    print(x)\n",
    "                    num = len(point)\n",
    "                    break\n",
    "    pass\n",
    "\n",
    "BFS_SP(graph, 'A', 'D')"
   ]
  },
  {
   "cell_type": "code",
   "execution_count": null,
   "metadata": {},
   "outputs": [],
   "source": []
  }
 ],
 "metadata": {
  "kernelspec": {
   "display_name": "Python 3",
   "language": "python",
   "name": "python3"
  },
  "language_info": {
   "codemirror_mode": {
    "name": "ipython",
    "version": 3
   },
   "file_extension": ".py",
   "mimetype": "text/x-python",
   "name": "python",
   "nbconvert_exporter": "python",
   "pygments_lexer": "ipython3",
   "version": "3.8.5"
  }
 },
 "nbformat": 4,
 "nbformat_minor": 5
}
