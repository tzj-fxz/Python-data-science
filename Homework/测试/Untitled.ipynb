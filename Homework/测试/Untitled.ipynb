{
 "cells": [
  {
   "cell_type": "code",
   "execution_count": 20,
   "metadata": {},
   "outputs": [
    {
     "name": "stdout",
     "output_type": "stream",
     "text": [
      "Overwriting unt.py\n"
     ]
    }
   ],
   "source": [
    "%%writefile unt.py\n",
    "import time\n",
    "from multiprocessing import Process, Lock\n",
    "\n",
    "def f(i, l):\n",
    "    l.acquire()\n",
    "    try:\n",
    "        print(\"Hello from \",i)\n",
    "        time.sleep(1)\n",
    "    finally:\n",
    "        l.release()\n",
    "\n",
    "if __name__=='__main__':\n",
    "    lock = Lock()\n",
    "    for num in range(10):\n",
    "        Process(target=f, args=(num,lock)).start()"
   ]
  },
  {
   "cell_type": "code",
   "execution_count": 11,
   "metadata": {},
   "outputs": [],
   "source": []
  },
  {
   "cell_type": "code",
   "execution_count": 12,
   "metadata": {},
   "outputs": [],
   "source": []
  },
  {
   "cell_type": "code",
   "execution_count": 27,
   "metadata": {},
   "outputs": [
    {
     "name": "stdout",
     "output_type": "stream",
     "text": [
      "2\n",
      "56\n",
      "3\n",
      "5\n"
     ]
    }
   ],
   "source": [
    "def cal(x):\n",
    "    x = 1\n",
    "    y = 1\n",
    "    expr = None\n",
    "    while x < 100:\n",
    "        if expr == None:\n",
    "            x, y = y, x+y\n",
    "            expr = yield y\n",
    "        else:\n",
    "            expr = yield (eval(expr))\n",
    "    \n",
    "fun = cal(3\n",
    "print(fun.send(None))\n",
    "print(fun.send(\"8*7\"))\n",
    "print(fun.send(None))\n",
    "print(fun.send(None))"
   ]
  },
  {
   "cell_type": "code",
   "execution_count": 34,
   "metadata": {
    "scrolled": true
   },
   "outputs": [],
   "source": [
    "def t1():\n",
    "    timen = 19\n",
    "    slic = 4\n",
    "    while timen > 0:\n",
    "        timen -= slic\n",
    "        print(\"task 1 remain \", timen)\n",
    "        k = yield timen\n",
    "    print(\"task 1 finish\")\n",
    "\n",
    "def t2():\n",
    "    timen = 23\n",
    "    slic = 5\n",
    "    while timen > 0:\n",
    "        timen -= slic\n",
    "        print(\"task 2 remain \", timen)\n",
    "        k = yield timen\n",
    "        print(k)\n",
    "    print(\"task 2 finish\")"
   ]
  },
  {
   "cell_type": "code",
   "execution_count": 35,
   "metadata": {},
   "outputs": [
    {
     "name": "stdout",
     "output_type": "stream",
     "text": [
      "task 1 remain  15\n",
      "task 2 remain  18\n",
      "task 1 remain  11\n",
      "True\n",
      "task 2 remain  13\n",
      "task 1 remain  7\n",
      "True\n",
      "task 2 remain  8\n",
      "task 1 remain  3\n",
      "True\n",
      "task 2 remain  3\n",
      "task 1 remain  -1\n",
      "True\n",
      "task 2 remain  -2\n",
      "task 1 finish\n",
      "True\n",
      "task 2 finish\n",
      "All finish\n"
     ]
    }
   ],
   "source": [
    "task1 = t1()\n",
    "task2 = t2()\n",
    "\n",
    "task = [task1, task2]\n",
    "next(task1)\n",
    "next(task2)\n",
    "while len(task) > 0:\n",
    "    for t in task:\n",
    "        try:\n",
    "            remaintime = t.send(True)\n",
    "        except StopIteration:\n",
    "            task.remove(t)\n",
    "print(\"All finish\")"
   ]
  },
  {
   "cell_type": "code",
   "execution_count": 41,
   "metadata": {},
   "outputs": [],
   "source": [
    "def apply_handle(func, arg, callback):\n",
    "    result = func(*arg)\n",
    "    callback.send(result)\n",
    "    \n",
    "def cal(x, y, st):\n",
    "    if st == '+':\n",
    "        return x+y\n",
    "    if st == '*':\n",
    "        return x*y\n",
    "\n",
    "def make_handle():\n",
    "    count = 0;\n",
    "    while True:\n",
    "        result = yield\n",
    "        count += 1\n",
    "        print(\"count = {}, result = {}\".format(count, result))"
   ]
  },
  {
   "cell_type": "code",
   "execution_count": 42,
   "metadata": {},
   "outputs": [],
   "source": [
    "handle = make_handle()\n",
    "next(handle)"
   ]
  },
  {
   "cell_type": "code",
   "execution_count": 47,
   "metadata": {},
   "outputs": [
    {
     "name": "stdout",
     "output_type": "stream",
     "text": [
      "count = 5, result = 5\n",
      "count = 6, result = 12\n"
     ]
    }
   ],
   "source": [
    "apply_handle(cal, (2, 3, '+'), callback=handle)\n",
    "apply_handle(cal, (3, 4, '*'), callback=handle)"
   ]
  }
 ],
 "metadata": {
  "kernelspec": {
   "display_name": "Python 3",
   "language": "python",
   "name": "python3"
  },
  "language_info": {
   "codemirror_mode": {
    "name": "ipython",
    "version": 3
   },
   "file_extension": ".py",
   "mimetype": "text/x-python",
   "name": "python",
   "nbconvert_exporter": "python",
   "pygments_lexer": "ipython3",
   "version": "3.8.5"
  }
 },
 "nbformat": 4,
 "nbformat_minor": 4
}
