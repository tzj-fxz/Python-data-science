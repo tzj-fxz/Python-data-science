{
 "cells": [
  {
   "cell_type": "markdown",
   "metadata": {},
   "source": [
    "## Homework5-0314\n",
    "   **截止日期：**<font color=ff0000>**3.17(周四)晚** </font>\n",
    "   <br><br>**注：**本次作业中完成对应题目的选做题可以不用完成原题"
   ]
  },
  {
   "cell_type": "markdown",
   "metadata": {},
   "source": [
    "### 1 正则表达式(2分)：\n",
    "具体格式要求如下：\n",
    "<br>账号：由英文字母组成，不限大小写。\n",
    "<br>密码：由英文字母与数字组成且以英文字母开头，最少八位。\n",
    "<br>电话：11位数字，且以1开头。\n",
    "<br>生日：年-月-日(YYYY-MM-DD)。"
   ]
  },
  {
   "cell_type": "code",
   "execution_count": 11,
   "metadata": {},
   "outputs": [
    {
     "name": "stdout",
     "output_type": "stream",
     "text": [
      "<re.Match object; span=(0, 10), match='2022-03-14'>\n"
     ]
    }
   ],
   "source": [
    "import re\n",
    "account=\"\"\n",
    "password=\"\"\n",
    "telephone=\"\"\n",
    "birthday=\"\"\n",
    "#TODO\n",
    "account = \"[A-Za-z]+\"\n",
    "password = \"[A-Za-z]\\w{7,}\"\n",
    "telephone = \"1[0-9]{10}\"\n",
    "birthday = \"\\d{4}-[0-1][0-9]-[0-3][0-9]\"\n",
    "\n",
    "assert re.match(account,\"PyThoN\")\n",
    "assert re.match(password,\"Python2022\")\n",
    "assert re.match(telephone,\"12345678910\")\n",
    "assert re.match(birthday,\"2022-03-14\")"
   ]
  },
  {
   "cell_type": "markdown",
   "metadata": {},
   "source": [
    "### 1.5(选做)邮箱的正则表达式匹配（2+0.5分）\n",
    "邮箱中间须有@，@之前由英文字母、数字、下划线(_)、短横(-)组成，之后由英文字母、数字、下划线(_)、短横(-)、英文句号(.)组成，且必须有至少一个英文句号(.)。（0.5分）"
   ]
  },
  {
   "cell_type": "code",
   "execution_count": 36,
   "metadata": {},
   "outputs": [],
   "source": [
    "email = \"[\\w_-]+@[\\w_-]+(\\.[\\w_-]+)+\"\n",
    "assert re.match(email,\"2-102@pku.edu.cn\")"
   ]
  },
  {
   "cell_type": "markdown",
   "metadata": {},
   "source": [
    "### 2 yield初步（2分)：\n",
    "使用yield实现有以下隐含功能的迭代器：默认情况返回给定字符串中的下一个单词；如果send一个字符串，则将其改为全小写并返回。"
   ]
  },
  {
   "cell_type": "code",
   "execution_count": 51,
   "metadata": {},
   "outputs": [],
   "source": [
    "s=\"Guido van Rossum began working on Python in the late 1980s as a successor to the ABC programming language and first released it in 1991 as Python 0.9.0.\"\n",
    "#TODO\n",
    "def gen(st):\n",
    "    recv = None\n",
    "    num = 0\n",
    "    wordlist = st.split(' ')\n",
    "    while num < len(wordlist):\n",
    "        if recv != None:\n",
    "            recv = yield recv.lower()\n",
    "        else:\n",
    "            recv = yield wordlist[num]\n",
    "            num += 1\n",
    "    \n",
    "f = gen(s)\n",
    "\n",
    "#以下为测试\n",
    "#print(next(f))\n",
    "#print(next(f))\n",
    "#print(f.send('ASPaKD'))\n",
    "#print(next(f))\n",
    "#for i in f:\n",
    "#    print(i)"
   ]
  },
  {
   "cell_type": "markdown",
   "metadata": {},
   "source": [
    "### 3 async/await初步（2分）\n",
    "采用异步非并发与并发的方式完成代码，并比较完成时间。"
   ]
  },
  {
   "cell_type": "markdown",
   "metadata": {},
   "source": [
    "### 3.5(选做) async/await初步(2+0.5分)\n",
    "(选做)(+0.5)如果worker_1只能完成耗时为1或3的任务，worker_2只能完成耗时为5的任务，请完成以下功能：worker发现自己无法完成当前任务，就把该任务交给另一个worker完成（只需修改task_list即可），代码可随意修改。"
   ]
  },
  {
   "cell_type": "code",
   "execution_count": 3,
   "metadata": {},
   "outputs": [
    {
     "name": "stdout",
     "output_type": "stream",
     "text": [
      "started at 10:49:08\n",
      "finished at 10:49:22\n",
      "以上为异步非并发情况\n",
      "started at 10:49:22\n",
      "finished at 10:49:32\n",
      "以上为并发情况\n"
     ]
    }
   ],
   "source": [
    "import asyncio,time\n",
    "async def working(time):\n",
    "    await asyncio.sleep(time)\n",
    "    \n",
    "towork1 = []\n",
    "towork2 = []\n",
    "\n",
    "async def worker_1():\n",
    "    task_list=[5,1,3]\n",
    "    for task in task_list:\n",
    "        if task != 1 and task != 3:\n",
    "            towork2.append(task)\n",
    "        else:\n",
    "            await working(task)\n",
    "        while len(towork1) != 0:\n",
    "            task_list.append(towork1[0])\n",
    "            towork1.remove(towork1[0])\n",
    "    \n",
    "async def worker_2():\n",
    "    task_list=[3,1,5]\n",
    "    for task in task_list:\n",
    "        if task != 5:\n",
    "            towork1.append(task)\n",
    "        else:\n",
    "            await working(task)\n",
    "        while len(towork2) != 0:\n",
    "            task_list.append(towork2[0])\n",
    "            towork2.remove(towork2[0])\n",
    "\n",
    "async def main():\n",
    "    print(f\"started at {time.strftime('%X')}\")\n",
    "    #TODO\n",
    "    await worker_1()\n",
    "    await worker_2()\n",
    "    print(f\"finished at {time.strftime('%X')}\")\n",
    "    print(\"以上为异步非并发情况\")\n",
    "    #以上为异步非并发\n",
    "    #以下为并发\n",
    "    towork1.clear()\n",
    "    towork2.clear()\n",
    "    print(f\"started at {time.strftime('%X')}\")\n",
    "    work1 = asyncio.create_task(worker_1())\n",
    "    work2 = asyncio.create_task(worker_2())\n",
    "    await work1\n",
    "    await work2\n",
    "    print(f\"finished at {time.strftime('%X')}\")\n",
    "    print(\"以上为并发情况\")\n",
    "\n",
    "await main()"
   ]
  },
  {
   "cell_type": "markdown",
   "metadata": {},
   "source": [
    "### 4 协程实现轮转调度（2分）\n",
    "在课件上的轮转调度框架的基础上，完成题目：\n",
    "<br>worker1与worker2分别有三种不同等级（1,2,3）的任务，task中储存了这几种任务对应的数目（例如worker1有3个等级为1的任务），worker1与worker2一次只可完成一个任务。\n",
    "<br>请实现：Handle可指定一种等级(例如等级2)的任务，worker1与worker2只需完成该等级的所有任务。\n",
    "    \n",
    "### 4.5(选做) 协程实现轮转调度（2+0.5分）：\n",
    "worker1与worker2按照1-2-3的等级依次完成任务，如果当前等级任务数目为0，则输出“Worker1/2 takes a break.”(认为其完成了该等级任务，不影响循环进行)，如果worker1或worker2已完成所有任务，则由剩下的一个worker独自按照1-2-3的顺序完成任务。例如：worker1完成1级任务->worker2完成2级任务->worker1完成3级任务->worker2完成1级任务……（代码可随意修改！）\n"
   ]
  },
  {
   "cell_type": "code",
   "execution_count": 36,
   "metadata": {},
   "outputs": [
    {
     "name": "stdout",
     "output_type": "stream",
     "text": [
      "worker1:2 remains.task number 1\n",
      "worker2:2 remains.task number 2\n",
      "worker1:2 remains.task number 3\n",
      "worker2:1 remains.task number 1\n",
      "worker1:0 remains.task number 2\n",
      "worker1 finishes task number 2\n",
      "worker2:2 remains.task number 3\n",
      "worker1:1 remains.task number 1\n",
      "worker2:1 remains.task number 2\n",
      "worker1:1 remains.task number 3\n",
      "worker2:0 remains.task number 1\n",
      "worker2 finishes task number 1\n",
      "worker1 takes a break\n",
      "worker2:1 remains.task number 3\n",
      "worker1:0 remains.task number 1\n",
      "worker1 finishes task number 1\n",
      "worker2:0 remains.task number 2\n",
      "worker2 finishes task number 2\n",
      "worker1:0 remains.task number 3\n",
      "worker1 finishes task number 3\n",
      "worker2 takes a break\n",
      "worker1 finished!\n",
      "worker2 takes a break\n",
      "worker2:0 remains.task number 3\n",
      "worker2 finishes task number 3\n",
      "worker2 finished!\n",
      "All finished!\n"
     ]
    }
   ],
   "source": [
    "waiting_list=[]\n",
    "worknum = 0\n",
    "\n",
    "def worker1():\n",
    "    task={1:3,2:1,3:3}\n",
    "    tasknum = sum(task.values())\n",
    "    while True:\n",
    "        if tasknum == 0:\n",
    "            break\n",
    "        rank=yield\n",
    "        if task[rank] == 0:\n",
    "            print(\"worker1 takes a break\")\n",
    "            yield\n",
    "        if task[rank]>0:\n",
    "            task[rank]=task[rank]-1\n",
    "            tasknum -= 1\n",
    "            print(f'worker1:{task[rank]} remains.task number', rank)\n",
    "            if task[rank] == 0:\n",
    "                print(\"worker1 finishes task number\", rank)\n",
    "            yield\n",
    "    print('worker1 finished!')\n",
    "    \n",
    "def worker2():\n",
    "    task={1:2,2:3,3:3}\n",
    "    tasknum = sum(task.values())\n",
    "    while True:\n",
    "        if tasknum == 0:\n",
    "            break\n",
    "        rank=yield\n",
    "        if task[rank] == 0:\n",
    "            print(\"worker2 takes a break\")\n",
    "            yield\n",
    "        if task[rank]>0:\n",
    "            task[rank]=task[rank]-1\n",
    "            tasknum -= 1\n",
    "            print(f'worker2:{task[rank]} remains.task number', rank)\n",
    "            if task[rank] == 0:\n",
    "                print(\"worker2 finishes task number\", rank)\n",
    "            yield\n",
    "    print('worker2 finished!')\n",
    "    \n",
    "    \n",
    "class Handle(object):\n",
    "    \n",
    "    def __init__(self,gen):\n",
    "        self.gen=gen\n",
    "\n",
    "    def call(self):\n",
    "        #TODO\n",
    "        global worknum\n",
    "        next(self.gen)\n",
    "        self.gen.send(worknum%3+1)\n",
    "        worknum += 1\n",
    "        \n",
    "    \n",
    "def RoundRobin(*worker):\n",
    "    waiting_list.extend(Handle(c) for c in worker)\n",
    "    #TODO\n",
    "    while waiting_list:\n",
    "        for workerwithhandle in waiting_list:\n",
    "            try:\n",
    "                workerwithhandle.call()\n",
    "            except StopIteration:\n",
    "                waiting_list.remove(workerwithhandle)\n",
    "    print('All finished!')\n",
    "    \n",
    "w1=worker1()\n",
    "w2=worker2()\n",
    "\n",
    "RoundRobin(w1,w2)"
   ]
  },
  {
   "cell_type": "markdown",
   "metadata": {},
   "source": [
    "### 5 生产者/消费者（2分）\n",
    "采用生产者消费者模型完成给定数据集的检索。这里生产者将检索字符串放入队列中，消费者读取并查找包含字符串的文章，返回给生产者。\n",
    "<br>需查找：包含（1）全国XX委员会（2）中国XX协会（3）中美建交"
   ]
  },
  {
   "cell_type": "code",
   "execution_count": 26,
   "metadata": {},
   "outputs": [],
   "source": [
    "news=[]\n",
    "with open('news.txt','r',encoding='utf-8') as f:\n",
    "    news=f.readlines()"
   ]
  },
  {
   "cell_type": "code",
   "execution_count": 29,
   "metadata": {},
   "outputs": [
    {
     "name": "stdout",
     "output_type": "stream",
     "text": [
      "consumer starts.\n",
      "producer starts.\n",
      "[0, 8, 39, 50, 74, 86, 90, 92]\n",
      "[57, 63, 92]\n",
      "[1, 3, 27, 41, 42, 63, 74, 86, 90, 92]\n",
      "consumer ends.\n",
      "producer ends.\n",
      "0.0020003318786621094 s\n"
     ]
    }
   ],
   "source": [
    "#查找的文章以news中的文章序号呈现\n",
    "import nest_asyncio\n",
    "import asyncio,time\n",
    "import re\n",
    "nest_asyncio.apply()\n",
    "\n",
    "async def consumer(q):\n",
    "    print('consumer starts.')\n",
    "    #TODO\n",
    "    while True:\n",
    "        searchst = await q.get()\n",
    "        if searchst is None:\n",
    "            q.task_done()\n",
    "            break\n",
    "        else:\n",
    "            l = []\n",
    "            for newspiece in range(len(news)):\n",
    "                if re.search(searchst, news[newspiece]) != None:\n",
    "                    l.append(newspiece)\n",
    "            print(l)\n",
    "            q.task_done()\n",
    "    print(\"consumer ends.\")\n",
    "\n",
    "async def producer(q):\n",
    "    print('producer starts.')\n",
    "    #TODO\n",
    "    searchlist=['全国.*委员会', '中国.*协会', '中美建交']\n",
    "    for st in searchlist:\n",
    "        await q.put(st)\n",
    "    await q.put(None)\n",
    "    await q.join()\n",
    "    print(\"producer ends.\")\n",
    "    \n",
    "q=asyncio.Queue(maxsize=10)\n",
    "t0=time.time()\n",
    "loop=asyncio.get_event_loop()\n",
    "tasks=[producer(q),consumer(q)]\n",
    "loop.run_until_complete(asyncio.wait(tasks))\n",
    "#loop.close()\n",
    "print(time.time()-t0,\"s\")"
   ]
  },
  {
   "cell_type": "markdown",
   "metadata": {},
   "source": [
    "### 5.5(选做) 生产者/消费者（2+0.5分）\n",
    "完成本地C/S架构的生产者消费者模型,并完成以上任务。"
   ]
  },
  {
   "cell_type": "code",
   "execution_count": 1,
   "metadata": {},
   "outputs": [
    {
     "name": "stdout",
     "output_type": "stream",
     "text": [
      "Overwriting server.py\n"
     ]
    }
   ],
   "source": [
    "%%writefile server.py\n",
    "#TODO\n",
    "#服务端，jupyter上不宜运行，故将代码保存到本地，再通过命令行运行\n",
    "import socket\n",
    "import time\n",
    "import re\n",
    "\n",
    "news=[]\n",
    "with open('news.txt','r',encoding='utf-8') as f:\n",
    "    news=f.readlines()\n",
    "\n",
    "print(\"initializing server host information\")\n",
    "port = 2828\n",
    "host = '0.0.0.0'\n",
    "address = (host, port)\n",
    "print(\"initializing server host socket\")\n",
    "server = socket.socket(socket.AF_INET, socket.SOCK_STREAM)\n",
    "server.bind(address)\n",
    "server.listen(6)\n",
    "print(\"waiting for connecting\")\n",
    "while True:\n",
    "    conn, addr = server.accept()\n",
    "    print(\"client information:\", addr)\n",
    "    matchst = conn.recv(100).decode('utf-8', errors='ignore')\n",
    "    while matchst != '':\n",
    "        l = []\n",
    "        for newspiece in range(len(news)):\n",
    "            if re.search(matchst, news[newspiece]) != None:\n",
    "                l.append(newspiece)\n",
    "        conn.send(str(l).encode('utf-8'))\n",
    "        matchst = conn.recv(100).decode('utf-8', errors='ignore')\n",
    "    conn.close()"
   ]
  },
  {
   "cell_type": "code",
   "execution_count": 1,
   "metadata": {},
   "outputs": [
    {
     "name": "stdout",
     "output_type": "stream",
     "text": [
      "Overwriting client.py\n"
     ]
    }
   ],
   "source": [
    "%%writefile client.py\n",
    "#客户端，jupyter上不宜运行，故将代码保存到本地，再通过命令行运行\n",
    "import socket\n",
    "import time\n",
    "host = '127.0.0.1'\n",
    "port = 2828\n",
    "client = socket.socket()\n",
    "client.connect((host, port))\n",
    "\n",
    "searchlist=['全国.*委员会', '中国.*协会', '中美建交']\n",
    "for st in searchlist:\n",
    "    client.send(st.encode('utf-8'))\n",
    "    data = client.recv(100).decode('utf-8', errors='ignore')\n",
    "    print(data)\n",
    "client.send(''.encode('utf-8'))\n",
    "client.close()"
   ]
  }
 ],
 "metadata": {
  "kernelspec": {
   "display_name": "base1",
   "language": "python",
   "name": "base"
  },
  "language_info": {
   "codemirror_mode": {
    "name": "ipython",
    "version": 3
   },
   "file_extension": ".py",
   "mimetype": "text/x-python",
   "name": "python",
   "nbconvert_exporter": "python",
   "pygments_lexer": "ipython3",
   "version": "3.8.5"
  }
 },
 "nbformat": 4,
 "nbformat_minor": 4
}
