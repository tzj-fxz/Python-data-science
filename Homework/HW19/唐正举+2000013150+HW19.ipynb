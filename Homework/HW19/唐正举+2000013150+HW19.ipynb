{
 "cells": [
  {
   "cell_type": "markdown",
   "id": "46327276",
   "metadata": {},
   "source": [
    "# HW19\n",
    "本次作业包括对PyTorch的简单练习和简单CNN模型的搭建，帮助大家熟悉PyTorch框架，截止时间为本周五2022.5.20 23：59。"
   ]
  },
  {
   "cell_type": "markdown",
   "id": "ab0a06fa",
   "metadata": {},
   "source": [
    "# 1. PyTorch基础练习(3')\n",
    "请注意，本题要求全部基于pytorch实现，不能使用pytorch的.tolist()或者.numpy()等函数将tensor转换成list或者numpy array来处理。"
   ]
  },
  {
   "cell_type": "markdown",
   "id": "6ff6d5cf",
   "metadata": {},
   "source": [
    "（1）首先，创建一个服从标准正态分布的$3\\times 4$的tensor $A$，和一个服从标准正态分布的$2\\times6$的tensor $B$(0.5')"
   ]
  },
  {
   "cell_type": "code",
   "execution_count": 2,
   "id": "a57c6726",
   "metadata": {},
   "outputs": [
    {
     "data": {
      "text/plain": [
       "(tensor([[ 0.8360,  1.1885,  0.4091, -0.3380],\n",
       "         [-1.3274,  3.0550, -0.7050, -0.0658],\n",
       "         [-1.7500,  0.6503,  1.1392, -0.2366]], requires_grad=True),\n",
       " tensor([[-0.9402,  0.8033,  0.0701,  0.0027,  1.3824, -1.2114],\n",
       "         [-2.2931, -2.4131, -0.1651, -0.1384,  0.6314, -0.1873]],\n",
       "        requires_grad=True))"
      ]
     },
     "execution_count": 2,
     "metadata": {},
     "output_type": "execute_result"
    }
   ],
   "source": [
    "import torch\n",
    "A = torch.normal(0, 1, size=(3, 4), requires_grad=True)\n",
    "B = torch.normal(0, 1, size=(2, 6), requires_grad=True)\n",
    "A, B"
   ]
  },
  {
   "cell_type": "markdown",
   "id": "732fc738",
   "metadata": {},
   "source": [
    "（2）使用view操作将$B$的形状也转换成$3\\times 4$，计算$A+B$和$AB^\\top$（矩阵乘法）(0.5')"
   ]
  },
  {
   "cell_type": "code",
   "execution_count": 74,
   "id": "063b5053",
   "metadata": {},
   "outputs": [
    {
     "data": {
      "text/plain": [
       "(tensor([[-2.4638,  0.3747,  0.8200, -1.1299],\n",
       "         [-0.5332, -1.1904, -1.9282, -0.3511],\n",
       "         [ 0.0410,  0.1514, -0.3328,  0.2773]], grad_fn=<AddBackward0>),\n",
       " tensor([[-2.6103,  0.0725,  0.5387],\n",
       "         [ 3.6323, -1.7039,  0.0168],\n",
       "         [ 0.5843, -0.0422, -0.2333]], grad_fn=<MmBackward>))"
      ]
     },
     "execution_count": 74,
     "metadata": {},
     "output_type": "execute_result"
    }
   ],
   "source": [
    "B = B.view((3, 4))\n",
    "A+B, torch.mm(A, B.T)"
   ]
  },
  {
   "cell_type": "markdown",
   "id": "9692859b",
   "metadata": {},
   "source": [
    "（3）取出矩阵$A$的所有大于0的值，并按照行的顺序排列成一个一维的tensor $C$。(1')\n",
    "\n",
    "例如：[[0, 0.1, 0.2], [-0.3, 0.4, -0.5]]需要转换成[0.1, 0.2, 0.4]"
   ]
  },
  {
   "cell_type": "code",
   "execution_count": 75,
   "id": "6b157a91",
   "metadata": {},
   "outputs": [
    {
     "data": {
      "text/plain": [
       "tensor([0.5739, 0.3185, 0.0097, 0.3349, 0.3891, 0.5677],\n",
       "       grad_fn=<MaskedSelectBackward>)"
      ]
     },
     "execution_count": 75,
     "metadata": {},
     "output_type": "execute_result"
    }
   ],
   "source": [
    "C = torch.masked_select(A, A.gt(0))\n",
    "C"
   ]
  },
  {
   "cell_type": "markdown",
   "id": "6b427e19",
   "metadata": {},
   "source": [
    "（4）将$C$的每个元素平方，得到$D$。计算$D$的平均值$mean(D)$，并求出$mean(D)$对$A$的梯度(1')"
   ]
  },
  {
   "cell_type": "code",
   "execution_count": 76,
   "id": "2617c236",
   "metadata": {},
   "outputs": [
    {
     "data": {
      "text/plain": [
       "tensor([[0.1913, 0.0000, 0.1062, 0.0000],\n",
       "        [0.0000, 0.0032, 0.1116, 0.0000],\n",
       "        [0.0000, 0.1297, 0.0000, 0.1892]])"
      ]
     },
     "execution_count": 76,
     "metadata": {},
     "output_type": "execute_result"
    }
   ],
   "source": [
    "D = C*C\n",
    "E = torch.mean(D)\n",
    "E.backward()\n",
    "A.grad"
   ]
  },
  {
   "cell_type": "markdown",
   "id": "1825f06a",
   "metadata": {},
   "source": [
    "# 2.神经网络拟合函数(3')"
   ]
  },
  {
   "cell_type": "markdown",
   "id": "1997ba84",
   "metadata": {},
   "source": [
    "请使用torch.nn这一模块实现通过神经网络拟合函数的任务，利用4次多项式函数来拟合余弦函数（定义域：$[-\\pi,\\pi]$）。\n",
    "\n",
    "请作图展示拟合后的效果。\n",
    "同学们可以参考课件的代码完成。"
   ]
  },
  {
   "cell_type": "code",
   "execution_count": 82,
   "id": "c578cbcb",
   "metadata": {},
   "outputs": [],
   "source": [
    "import torch\n",
    "from torch import nn,optim,flatten\n",
    "from torch.utils.data import DataLoader\n",
    "from torchvision import datasets\n",
    "from torchvision.transforms import ToTensor, Lambda\n",
    "import math\n",
    "import numpy as np\n",
    "from matplotlib import pyplot as plt\n",
    "torch.manual_seed(1) #设置随机种子以保证实验的可重复性\n",
    "class Polynomial4(nn.Module):\n",
    "    def __init__(self):\n",
    "        super().__init__()\n",
    "        self.para = nn.ParameterList(parameters=[nn.Parameter(torch.randn(())) for i in range(5)])\n",
    "\n",
    "    def forward(self, x):\n",
    "        ans = 0\n",
    "        for i in range(5):\n",
    "            ans += self.para[i]*(x**i)\n",
    "        return ans\n",
    "\n",
    "    def __str__(self):\n",
    "        s = f'y = {self.para[0].item()} '\n",
    "        for i in range(1, 5):\n",
    "            s += f'+ {self.para[i].item()} x^{i}'\n",
    "        return s"
   ]
  },
  {
   "cell_type": "code",
   "execution_count": 86,
   "id": "96e2669d",
   "metadata": {},
   "outputs": [
    {
     "name": "stdout",
     "output_type": "stream",
     "text": [
      "Loss: 2378.4462890625\n",
      "Loss: 1497.7415771484375\n",
      "Loss: 1017.6356201171875\n",
      "Loss: 621.166748046875\n",
      "Loss: 337.1750793457031\n",
      "Loss: 160.81344604492188\n",
      "Loss: 66.6024169921875\n",
      "Loss: 23.888046264648438\n",
      "Loss: 7.758081912994385\n",
      "Loss: 2.8059067726135254\n",
      "Result: y = 0.9782954454421997 + 0.026164377108216286 x^1+ -0.4522450566291809 x^2+ -0.0037993639707565308 x^3+ 0.026153378188610077 x^4\n"
     ]
    }
   ],
   "source": [
    "# 请仿照课上的PPT完成训练过程，下面的代码只是作为参考，可以随意修改\n",
    "# TODO\n",
    "x = torch.linspace(-math.pi,math.pi,steps = 4000)\n",
    "y = torch.cos(x)\n",
    "model = Polynomial4()\n",
    "optimizer = optim.Adam(params=model.parameters(), lr=1e-2)\n",
    "criterion = nn.MSELoss(reduction=\"sum\")\n",
    "\n",
    "for iter in range(3000):\n",
    "    y_pred = model.forward(x)\n",
    "    \n",
    "    loss = criterion(y_pred, y)\n",
    "    if iter % 300 == 299:\n",
    "        print(f\"Loss: {loss}\")\n",
    "    \n",
    "    optimizer.zero_grad()\n",
    "    loss.backward()\n",
    "    optimizer.step()\n",
    "\n",
    "print(f'Result: {model.__str__()}')"
   ]
  },
  {
   "cell_type": "code",
   "execution_count": 99,
   "id": "1dad7e77",
   "metadata": {},
   "outputs": [
    {
     "data": {
      "image/png": "[encoded data removed]",
      "text/plain": [
       "<Figure size 432x288 with 1 Axes>"
      ]
     },
     "metadata": {
      "needs_background": "light"
     },
     "output_type": "display_data"
    }
   ],
   "source": [
    "# 请利用matplotlib完成作图，画出余弦函数以及拟合的多项式函数在定义域内的图像\n",
    "plt.plot(x, y, label=\"original\")\n",
    "plt.plot(x, model.forward(x).detach().numpy(), label=\"Polynomial4\")\n",
    "plt.legend()\n",
    "plt.show()"
   ]
  },
  {
   "cell_type": "markdown",
   "id": "fdbae1a5",
   "metadata": {},
   "source": [
    "# 3 基于卷积神经网络的图像分类(4')\n",
    "本节我们将在FashionMINST数据集上完成简单的图像分类任务，对于网络的设计和最终的分类成绩本次作业没有确切的要求，不过如果稍微调一下参的话取得80%+的正确率应该不算难。"
   ]
  },
  {
   "cell_type": "code",
   "execution_count": 100,
   "id": "7de4572d",
   "metadata": {},
   "outputs": [
    {
     "name": "stdout",
     "output_type": "stream",
     "text": [
      "Downloading http://fashion-mnist.s3-website.eu-central-1.amazonaws.com/train-images-idx3-ubyte.gz to ./FashionMNIST\\raw\\train-images-idx3-ubyte.gz\n"
     ]
    },
    {
     "name": "stderr",
     "output_type": "stream",
     "text": [
      "100.0%"
     ]
    },
    {
     "name": "stdout",
     "output_type": "stream",
     "text": [
      "Extracting ./FashionMNIST\\raw\\train-images-idx3-ubyte.gz to ./FashionMNIST\\raw\n",
      "Downloading http://fashion-mnist.s3-website.eu-central-1.amazonaws.com/train-labels-idx1-ubyte.gz to ./FashionMNIST\\raw\\train-labels-idx1-ubyte.gz\n"
     ]
    },
    {
     "name": "stderr",
     "output_type": "stream",
     "text": [
      "111.0%"
     ]
    },
    {
     "name": "stdout",
     "output_type": "stream",
     "text": [
      "Extracting ./FashionMNIST\\raw\\train-labels-idx1-ubyte.gz to ./FashionMNIST\\raw\n",
      "Downloading http://fashion-mnist.s3-website.eu-central-1.amazonaws.com/t10k-images-idx3-ubyte.gz to ./FashionMNIST\\raw\\t10k-images-idx3-ubyte.gz\n"
     ]
    },
    {
     "name": "stderr",
     "output_type": "stream",
     "text": [
      "100.0%"
     ]
    },
    {
     "name": "stdout",
     "output_type": "stream",
     "text": [
      "Extracting ./FashionMNIST\\raw\\t10k-images-idx3-ubyte.gz to ./FashionMNIST\\raw\n",
      "Downloading http://fashion-mnist.s3-website.eu-central-1.amazonaws.com/t10k-labels-idx1-ubyte.gz to ./FashionMNIST\\raw\\t10k-labels-idx1-ubyte.gz\n"
     ]
    },
    {
     "name": "stderr",
     "output_type": "stream",
     "text": [
      "159.1%d:\\Anaconda3\\envs\\mypytorch\\lib\\site-packages\\torchvision\\datasets\\mnist.py:469: UserWarning: The given NumPy array is not writeable, and PyTorch does not support non-writeable tensors. This means you can write to the underlying (supposedly non-writeable) NumPy array using the tensor. You may want to copy the array to protect its data or make it writeable before converting it to a tensor. This type of warning will be suppressed for the rest of this program. (Triggered internally at  ..\\torch\\csrc\\utils\\tensor_numpy.cpp:141.)\n",
      "  return torch.from_numpy(parsed.astype(m[2], copy=False)).view(*s)\n"
     ]
    },
    {
     "name": "stdout",
     "output_type": "stream",
     "text": [
      "Extracting ./FashionMNIST\\raw\\t10k-labels-idx1-ubyte.gz to ./FashionMNIST\\raw\n",
      "Processing...\n",
      "Done!\n"
     ]
    }
   ],
   "source": [
    "#数据下载，这里可以直接下现成的Dataset，如果同学们想更进一步学习的话应该了解torch.utils.data.Dataset类的写法\n",
    "training_data = datasets.FashionMNIST(\n",
    "    root=\"./\", train=True, download=True, transform=ToTensor())\n",
    "test_data = datasets.FashionMNIST(\n",
    "    root=\"./\", train=False, download=True, transform=ToTensor())"
   ]
  },
  {
   "cell_type": "code",
   "execution_count": 101,
   "id": "819af870",
   "metadata": {
    "scrolled": true
   },
   "outputs": [
    {
     "data": {
      "image/png": "[encoded data removed]",
      "text/plain": [
       "<Figure size 720x720 with 25 Axes>"
      ]
     },
     "metadata": {},
     "output_type": "display_data"
    }
   ],
   "source": [
    "# 进行简单的可视化\n",
    "labels = ['T-shirt/top', 'Trouser', 'Pullover', 'Dress', 'Coat',\n",
    "               'Sandal', 'Shirt', 'Sneaker', 'Bag', 'Ankle boot']\n",
    "plt.figure(figsize=(10,10))\n",
    "for i in range(25):\n",
    "    plt.subplot(5,5,i+1)\n",
    "    plt.xticks([])\n",
    "    plt.yticks([])\n",
    "    plt.grid(False)\n",
    "    plt.imshow(training_data[i][0].squeeze(0), cmap=plt.cm.binary)\n",
    "    plt.xlabel(labels[training_data[i][1]])\n",
    "plt.show()"
   ]
  },
  {
   "cell_type": "code",
   "execution_count": 102,
   "id": "130d31f9",
   "metadata": {},
   "outputs": [],
   "source": [
    "train_dataloader = DataLoader(training_data, batch_size=64)\n",
    "test_dataloader = DataLoader(test_data, batch_size=64)"
   ]
  },
  {
   "cell_type": "code",
   "execution_count": 142,
   "id": "d113b85b",
   "metadata": {},
   "outputs": [],
   "source": [
    "class NeuralNetwork(nn.Module):\n",
    "    def __init__(self):\n",
    "        super().__init__()\n",
    "        #自行设计神经网络结构\n",
    "        self.convnet = nn.Sequential(\n",
    "            nn.Conv2d(1, 8, kernel_size=(5, 5)), # convolution kernel\n",
    "            nn.BatchNorm2d(8), # batch normalization\n",
    "            nn.ReLU(), # relu\n",
    "            nn.MaxPool2d(kernel_size=(2, 2), stride=2), # maxpooling\n",
    "            nn.Conv2d(8, 32, kernel_size=(3, 3)),\n",
    "            nn.BatchNorm2d(32),\n",
    "            nn.ReLU(),\n",
    "            nn.MaxPool2d(kernel_size=(2, 2), stride=2),\n",
    "            nn.Conv2d(32, 128, kernel_size=(5, 5)),\n",
    "            nn.BatchNorm2d(128),\n",
    "            nn.ReLU()\n",
    "        )\n",
    "        self.fc = nn.Sequential(\n",
    "            nn.Linear(128, 32),\n",
    "            nn.ReLU(),\n",
    "            nn.Linear(32, 10),\n",
    "            nn.LogSoftmax(dim=-1) # softmax\n",
    "        )\n",
    "    \n",
    "    def forward(self, x) :\n",
    "        output = self.convnet(x)\n",
    "        output = output.view(x.size(0), -1)\n",
    "        output = self.fc(output)\n",
    "        return output"
   ]
  },
  {
   "cell_type": "code",
   "execution_count": 161,
   "id": "7664487b",
   "metadata": {
    "scrolled": false
   },
   "outputs": [
    {
     "name": "stdout",
     "output_type": "stream",
     "text": [
      "Epoch 1\n",
      "-------------------------------\n",
      "0 / 60000 , loss: 2.308132\n",
      "6400 / 60000 , loss: 1.505196\n",
      "12800 / 60000 , loss: 0.920206\n",
      "19200 / 60000 , loss: 0.912836\n",
      "25600 / 60000 , loss: 0.714924\n",
      "32000 / 60000 , loss: 0.644132\n",
      "38400 / 60000 , loss: 0.569884\n",
      "44800 / 60000 , loss: 0.622642\n",
      "51200 / 60000 , loss: 0.556564\n",
      "57600 / 60000 , loss: 0.479540\n",
      "Epoch 2\n",
      "-------------------------------\n",
      "0 / 60000 , loss: 0.392711\n",
      "6400 / 60000 , loss: 0.466306\n",
      "12800 / 60000 , loss: 0.291011\n",
      "19200 / 60000 , loss: 0.503853\n",
      "25600 / 60000 , loss: 0.370251\n",
      "32000 / 60000 , loss: 0.545215\n",
      "38400 / 60000 , loss: 0.376657\n",
      "44800 / 60000 , loss: 0.549673\n",
      "51200 / 60000 , loss: 0.460618\n",
      "57600 / 60000 , loss: 0.419416\n",
      "Epoch 3\n",
      "-------------------------------\n",
      "0 / 60000 , loss: 0.269717\n",
      "6400 / 60000 , loss: 0.336646\n",
      "12800 / 60000 , loss: 0.227137\n",
      "19200 / 60000 , loss: 0.435766\n",
      "25600 / 60000 , loss: 0.287495\n",
      "32000 / 60000 , loss: 0.488105\n",
      "38400 / 60000 , loss: 0.303291\n",
      "44800 / 60000 , loss: 0.460184\n",
      "51200 / 60000 , loss: 0.388600\n",
      "57600 / 60000 , loss: 0.393534\n",
      "Epoch 4\n",
      "-------------------------------\n",
      "0 / 60000 , loss: 0.219232\n",
      "6400 / 60000 , loss: 0.308093\n",
      "12800 / 60000 , loss: 0.191384\n",
      "19200 / 60000 , loss: 0.383622\n",
      "25600 / 60000 , loss: 0.266157\n",
      "32000 / 60000 , loss: 0.444228\n",
      "38400 / 60000 , loss: 0.267364\n",
      "44800 / 60000 , loss: 0.386442\n",
      "51200 / 60000 , loss: 0.335582\n",
      "57600 / 60000 , loss: 0.360965\n",
      "Epoch 5\n",
      "-------------------------------\n",
      "0 / 60000 , loss: 0.195358\n",
      "6400 / 60000 , loss: 0.308898\n",
      "12800 / 60000 , loss: 0.173111\n",
      "19200 / 60000 , loss: 0.333664\n",
      "25600 / 60000 , loss: 0.249681\n",
      "32000 / 60000 , loss: 0.403828\n",
      "38400 / 60000 , loss: 0.238575\n",
      "44800 / 60000 , loss: 0.333379\n",
      "51200 / 60000 , loss: 0.301195\n",
      "57600 / 60000 , loss: 0.330535\n",
      "Epoch 6\n",
      "-------------------------------\n",
      "0 / 60000 , loss: 0.175124\n",
      "6400 / 60000 , loss: 0.293172\n",
      "12800 / 60000 , loss: 0.154347\n",
      "19200 / 60000 , loss: 0.293279\n",
      "25600 / 60000 , loss: 0.236664\n",
      "32000 / 60000 , loss: 0.387624\n",
      "38400 / 60000 , loss: 0.211082\n",
      "44800 / 60000 , loss: 0.300197\n",
      "51200 / 60000 , loss: 0.271223\n",
      "57600 / 60000 , loss: 0.307651\n",
      "Epoch 7\n",
      "-------------------------------\n",
      "0 / 60000 , loss: 0.162938\n",
      "6400 / 60000 , loss: 0.279528\n",
      "12800 / 60000 , loss: 0.142424\n",
      "19200 / 60000 , loss: 0.266399\n",
      "25600 / 60000 , loss: 0.231067\n",
      "32000 / 60000 , loss: 0.372514\n",
      "38400 / 60000 , loss: 0.205922\n",
      "44800 / 60000 , loss: 0.280700\n",
      "51200 / 60000 , loss: 0.255672\n",
      "57600 / 60000 , loss: 0.293438\n",
      "Epoch 8\n",
      "-------------------------------\n",
      "0 / 60000 , loss: 0.157822\n",
      "6400 / 60000 , loss: 0.271482\n",
      "12800 / 60000 , loss: 0.130694\n",
      "19200 / 60000 , loss: 0.243323\n",
      "25600 / 60000 , loss: 0.227097\n",
      "32000 / 60000 , loss: 0.350497\n",
      "38400 / 60000 , loss: 0.192473\n",
      "44800 / 60000 , loss: 0.260779\n",
      "51200 / 60000 , loss: 0.231212\n",
      "57600 / 60000 , loss: 0.271015\n",
      "Epoch 9\n",
      "-------------------------------\n",
      "0 / 60000 , loss: 0.152874\n",
      "6400 / 60000 , loss: 0.253738\n",
      "12800 / 60000 , loss: 0.124346\n",
      "19200 / 60000 , loss: 0.216558\n",
      "25600 / 60000 , loss: 0.219206\n",
      "32000 / 60000 , loss: 0.343768\n",
      "38400 / 60000 , loss: 0.184462\n",
      "44800 / 60000 , loss: 0.243196\n",
      "51200 / 60000 , loss: 0.208806\n",
      "57600 / 60000 , loss: 0.252758\n",
      "Epoch 10\n",
      "-------------------------------\n",
      "0 / 60000 , loss: 0.141885\n",
      "6400 / 60000 , loss: 0.238377\n",
      "12800 / 60000 , loss: 0.114918\n",
      "19200 / 60000 , loss: 0.200352\n",
      "25600 / 60000 , loss: 0.212118\n",
      "32000 / 60000 , loss: 0.330302\n",
      "38400 / 60000 , loss: 0.176953\n",
      "44800 / 60000 , loss: 0.221007\n",
      "51200 / 60000 , loss: 0.190026\n",
      "57600 / 60000 , loss: 0.233786\n",
      "Epoch 11\n",
      "-------------------------------\n",
      "0 / 60000 , loss: 0.133839\n",
      "6400 / 60000 , loss: 0.225120\n",
      "12800 / 60000 , loss: 0.107017\n",
      "19200 / 60000 , loss: 0.186813\n",
      "25600 / 60000 , loss: 0.203808\n",
      "32000 / 60000 , loss: 0.316472\n",
      "38400 / 60000 , loss: 0.169413\n",
      "44800 / 60000 , loss: 0.210595\n",
      "51200 / 60000 , loss: 0.177537\n",
      "57600 / 60000 , loss: 0.216498\n",
      "Epoch 12\n",
      "-------------------------------\n",
      "0 / 60000 , loss: 0.125931\n",
      "6400 / 60000 , loss: 0.217713\n",
      "12800 / 60000 , loss: 0.101968\n",
      "19200 / 60000 , loss: 0.170926\n",
      "25600 / 60000 , loss: 0.198242\n",
      "32000 / 60000 , loss: 0.323216\n",
      "38400 / 60000 , loss: 0.167316\n",
      "44800 / 60000 , loss: 0.198301\n",
      "51200 / 60000 , loss: 0.162137\n",
      "57600 / 60000 , loss: 0.205700\n",
      "Epoch 13\n",
      "-------------------------------\n",
      "0 / 60000 , loss: 0.116029\n",
      "6400 / 60000 , loss: 0.203417\n",
      "12800 / 60000 , loss: 0.091914\n",
      "19200 / 60000 , loss: 0.160667\n",
      "25600 / 60000 , loss: 0.186667\n",
      "32000 / 60000 , loss: 0.306850\n",
      "38400 / 60000 , loss: 0.157670\n",
      "44800 / 60000 , loss: 0.179460\n",
      "51200 / 60000 , loss: 0.144644\n",
      "57600 / 60000 , loss: 0.189647\n",
      "Epoch 14\n",
      "-------------------------------\n",
      "0 / 60000 , loss: 0.111346\n",
      "6400 / 60000 , loss: 0.188223\n",
      "12800 / 60000 , loss: 0.086706\n",
      "19200 / 60000 , loss: 0.155882\n",
      "25600 / 60000 , loss: 0.181591\n",
      "32000 / 60000 , loss: 0.300570\n",
      "38400 / 60000 , loss: 0.150004\n",
      "44800 / 60000 , loss: 0.165490\n",
      "51200 / 60000 , loss: 0.130347\n",
      "57600 / 60000 , loss: 0.176894\n",
      "Epoch 15\n",
      "-------------------------------\n",
      "0 / 60000 , loss: 0.107685\n",
      "6400 / 60000 , loss: 0.173065\n",
      "12800 / 60000 , loss: 0.078355\n",
      "19200 / 60000 , loss: 0.146043\n",
      "25600 / 60000 , loss: 0.173311\n",
      "32000 / 60000 , loss: 0.291911\n",
      "38400 / 60000 , loss: 0.146587\n",
      "44800 / 60000 , loss: 0.149599\n",
      "51200 / 60000 , loss: 0.111229\n",
      "57600 / 60000 , loss: 0.164294\n",
      "Epoch 16\n",
      "-------------------------------\n",
      "0 / 60000 , loss: 0.101250\n",
      "6400 / 60000 , loss: 0.163085\n",
      "12800 / 60000 , loss: 0.071836\n",
      "19200 / 60000 , loss: 0.138406\n",
      "25600 / 60000 , loss: 0.166386\n",
      "32000 / 60000 , loss: 0.286160\n",
      "38400 / 60000 , loss: 0.137913\n",
      "44800 / 60000 , loss: 0.140594\n",
      "51200 / 60000 , loss: 0.101294\n",
      "57600 / 60000 , loss: 0.147895\n",
      "Epoch 17\n",
      "-------------------------------\n",
      "0 / 60000 , loss: 0.093947\n",
      "6400 / 60000 , loss: 0.154666\n",
      "12800 / 60000 , loss: 0.063696\n",
      "19200 / 60000 , loss: 0.122416\n",
      "25600 / 60000 , loss: 0.154155\n",
      "32000 / 60000 , loss: 0.282793\n",
      "38400 / 60000 , loss: 0.124342\n",
      "44800 / 60000 , loss: 0.135616\n",
      "51200 / 60000 , loss: 0.089225\n",
      "57600 / 60000 , loss: 0.134010\n",
      "Epoch 18\n",
      "-------------------------------\n",
      "0 / 60000 , loss: 0.088883\n",
      "6400 / 60000 , loss: 0.146592\n",
      "12800 / 60000 , loss: 0.056326\n",
      "19200 / 60000 , loss: 0.116945\n",
      "25600 / 60000 , loss: 0.155943\n",
      "32000 / 60000 , loss: 0.273905\n",
      "38400 / 60000 , loss: 0.122715\n",
      "44800 / 60000 , loss: 0.120208\n",
      "51200 / 60000 , loss: 0.084661\n",
      "57600 / 60000 , loss: 0.121063\n",
      "Epoch 19\n",
      "-------------------------------\n",
      "0 / 60000 , loss: 0.086155\n",
      "6400 / 60000 , loss: 0.134081\n",
      "12800 / 60000 , loss: 0.054352\n",
      "19200 / 60000 , loss: 0.103007\n",
      "25600 / 60000 , loss: 0.146334\n",
      "32000 / 60000 , loss: 0.269028\n",
      "38400 / 60000 , loss: 0.120361\n",
      "44800 / 60000 , loss: 0.107082\n",
      "51200 / 60000 , loss: 0.078226\n",
      "57600 / 60000 , loss: 0.108016\n",
      "Epoch 20\n",
      "-------------------------------\n",
      "0 / 60000 , loss: 0.078368\n",
      "6400 / 60000 , loss: 0.123966\n",
      "12800 / 60000 , loss: 0.049189\n",
      "19200 / 60000 , loss: 0.093847\n",
      "25600 / 60000 , loss: 0.141081\n",
      "32000 / 60000 , loss: 0.263379\n",
      "38400 / 60000 , loss: 0.114298\n",
      "44800 / 60000 , loss: 0.097018\n",
      "51200 / 60000 , loss: 0.068884\n",
      "57600 / 60000 , loss: 0.092877\n",
      "Epoch 21\n",
      "-------------------------------\n",
      "0 / 60000 , loss: 0.071857\n",
      "6400 / 60000 , loss: 0.119151\n",
      "12800 / 60000 , loss: 0.041123\n",
      "19200 / 60000 , loss: 0.084226\n",
      "25600 / 60000 , loss: 0.132523\n",
      "32000 / 60000 , loss: 0.248545\n",
      "38400 / 60000 , loss: 0.094523\n",
      "44800 / 60000 , loss: 0.084183\n",
      "51200 / 60000 , loss: 0.066349\n",
      "57600 / 60000 , loss: 0.080789\n",
      "Epoch 22\n",
      "-------------------------------\n",
      "0 / 60000 , loss: 0.066769\n",
      "6400 / 60000 , loss: 0.102994\n",
      "12800 / 60000 , loss: 0.038679\n",
      "19200 / 60000 , loss: 0.073824\n",
      "25600 / 60000 , loss: 0.129015\n",
      "32000 / 60000 , loss: 0.217479\n",
      "38400 / 60000 , loss: 0.087193\n",
      "44800 / 60000 , loss: 0.069913\n",
      "51200 / 60000 , loss: 0.064259\n",
      "57600 / 60000 , loss: 0.072492\n",
      "Epoch 23\n",
      "-------------------------------\n",
      "0 / 60000 , loss: 0.054802\n",
      "6400 / 60000 , loss: 0.094981\n",
      "12800 / 60000 , loss: 0.031536\n",
      "19200 / 60000 , loss: 0.066986\n",
      "25600 / 60000 , loss: 0.121326\n",
      "32000 / 60000 , loss: 0.212494\n",
      "38400 / 60000 , loss: 0.080454\n",
      "44800 / 60000 , loss: 0.067602\n",
      "51200 / 60000 , loss: 0.060534\n",
      "57600 / 60000 , loss: 0.066113\n",
      "Epoch 24\n",
      "-------------------------------\n",
      "0 / 60000 , loss: 0.050739\n",
      "6400 / 60000 , loss: 0.083328\n",
      "12800 / 60000 , loss: 0.032288\n",
      "19200 / 60000 , loss: 0.068967\n",
      "25600 / 60000 , loss: 0.108454\n",
      "32000 / 60000 , loss: 0.218036\n",
      "38400 / 60000 , loss: 0.076266\n",
      "44800 / 60000 , loss: 0.055802\n",
      "51200 / 60000 , loss: 0.048875\n",
      "57600 / 60000 , loss: 0.066092\n",
      "Epoch 25\n",
      "-------------------------------\n",
      "0 / 60000 , loss: 0.045278\n",
      "6400 / 60000 , loss: 0.076180\n",
      "12800 / 60000 , loss: 0.026918\n",
      "19200 / 60000 , loss: 0.057694\n",
      "25600 / 60000 , loss: 0.099814\n",
      "32000 / 60000 , loss: 0.198874\n",
      "38400 / 60000 , loss: 0.063344\n",
      "44800 / 60000 , loss: 0.044286\n",
      "51200 / 60000 , loss: 0.040382\n",
      "57600 / 60000 , loss: 0.058008\n",
      "Epoch 26\n",
      "-------------------------------\n",
      "0 / 60000 , loss: 0.038962\n",
      "6400 / 60000 , loss: 0.071443\n",
      "12800 / 60000 , loss: 0.024906\n",
      "19200 / 60000 , loss: 0.049550\n",
      "25600 / 60000 , loss: 0.082043\n",
      "32000 / 60000 , loss: 0.183145\n",
      "38400 / 60000 , loss: 0.058689\n",
      "44800 / 60000 , loss: 0.040460\n",
      "51200 / 60000 , loss: 0.041418\n",
      "57600 / 60000 , loss: 0.055094\n",
      "Epoch 27\n",
      "-------------------------------\n",
      "0 / 60000 , loss: 0.030684\n",
      "6400 / 60000 , loss: 0.061228\n",
      "12800 / 60000 , loss: 0.026778\n",
      "19200 / 60000 , loss: 0.046110\n",
      "25600 / 60000 , loss: 0.075578\n",
      "32000 / 60000 , loss: 0.175004\n",
      "38400 / 60000 , loss: 0.056648\n",
      "44800 / 60000 , loss: 0.036482\n",
      "51200 / 60000 , loss: 0.035101\n",
      "57600 / 60000 , loss: 0.049897\n",
      "Epoch 28\n",
      "-------------------------------\n",
      "0 / 60000 , loss: 0.032754\n",
      "6400 / 60000 , loss: 0.053661\n",
      "12800 / 60000 , loss: 0.024695\n",
      "19200 / 60000 , loss: 0.040893\n",
      "25600 / 60000 , loss: 0.074727\n",
      "32000 / 60000 , loss: 0.149571\n",
      "38400 / 60000 , loss: 0.055573\n",
      "44800 / 60000 , loss: 0.035238\n",
      "51200 / 60000 , loss: 0.032742\n",
      "57600 / 60000 , loss: 0.047627\n",
      "Epoch 29\n",
      "-------------------------------\n",
      "0 / 60000 , loss: 0.025549\n",
      "6400 / 60000 , loss: 0.050040\n",
      "12800 / 60000 , loss: 0.022243\n",
      "19200 / 60000 , loss: 0.034332\n",
      "25600 / 60000 , loss: 0.053919\n",
      "32000 / 60000 , loss: 0.137953\n",
      "38400 / 60000 , loss: 0.052474\n",
      "44800 / 60000 , loss: 0.026503\n",
      "51200 / 60000 , loss: 0.036097\n",
      "57600 / 60000 , loss: 0.042854\n",
      "Epoch 30\n",
      "-------------------------------\n",
      "0 / 60000 , loss: 0.020927\n",
      "6400 / 60000 , loss: 0.046774\n",
      "12800 / 60000 , loss: 0.022200\n",
      "19200 / 60000 , loss: 0.026891\n",
      "25600 / 60000 , loss: 0.050930\n",
      "32000 / 60000 , loss: 0.122493\n",
      "38400 / 60000 , loss: 0.062082\n",
      "44800 / 60000 , loss: 0.024672\n",
      "51200 / 60000 , loss: 0.031035\n",
      "57600 / 60000 , loss: 0.033130\n",
      "训练完成!\n"
     ]
    }
   ],
   "source": [
    "def train_loop(dataloader, model, loss_fn, optimizer):\n",
    "    cnt, totloss = 0, 0\n",
    "    for batch, (image, label) in enumerate(dataloader):\n",
    "        # TODO，训练函数\n",
    "        optimizer.zero_grad()\n",
    "        label_pred = model.forward(image)\n",
    "        loss = loss_fn(label_pred, label)\n",
    "        if batch % 100 == 0:\n",
    "            print(\"{} / {} , loss: {:.6f}\".format(batch*len(label), len(training_data), loss.item()))\n",
    "            totloss += loss.item()\n",
    "            cnt += 1\n",
    "        loss.backward()\n",
    "        optimizer.step()\n",
    "    loss_list.append(totloss/cnt)\n",
    "\n",
    "model = NeuralNetwork()\n",
    "criterion = nn.CrossEntropyLoss(reduction='mean')\n",
    "optimizer = optim.SGD(params=model.parameters(), lr=0.01)\n",
    "scheduler = optim.lr_scheduler.StepLR(optimizer, step_size=5, gamma=0.5) # learning rate schema\n",
    "\n",
    "epochs = 30\n",
    "loss_list = []\n",
    "for t in range(epochs):\n",
    "    print(f\"Epoch {t+1}\\n-------------------------------\")\n",
    "    #TODO\n",
    "    train_loop(train_dataloader, model, criterion, optimizer)\n",
    "\n",
    "print(\"训练完成!\")"
   ]
  },
  {
   "cell_type": "code",
   "execution_count": 162,
   "id": "036d6d80",
   "metadata": {},
   "outputs": [
    {
     "data": {
      "image/png": "[encoded data removed]",
      "text/plain": [
       "<Figure size 432x288 with 1 Axes>"
      ]
     },
     "metadata": {
      "needs_background": "light"
     },
     "output_type": "display_data"
    }
   ],
   "source": [
    "plt.plot(loss_list, label='loss per epoch')\n",
    "plt.legend()\n",
    "plt.show()"
   ]
  },
  {
   "cell_type": "code",
   "execution_count": 164,
   "id": "c84afa7f",
   "metadata": {},
   "outputs": [
    {
     "name": "stdout",
     "output_type": "stream",
     "text": [
      "Accuracy: 89.19%\n"
     ]
    }
   ],
   "source": [
    "def test_loop(dataloader, model, loss_fn):\n",
    "    with torch.no_grad():\n",
    "        ans, cnt = 0, 0\n",
    "        for image, label in dataloader:\n",
    "        #TODO，测试函数\n",
    "            label_pred = model(image).detach().numpy()\n",
    "            ans += np.sum((np.argmax(label_pred, axis=1)==label.detach().numpy()))\n",
    "            cnt += len(label)\n",
    "        correct = ans / cnt\n",
    "        print(\"Accuracy: {:.2f}%\" .format(correct * 100))\n",
    "\n",
    "test_loop(test_dataloader, model, criterion)"
   ]
  }
 ],
 "metadata": {
  "interpreter": {
   "hash": "79519f96375e4fd383fdfe7f241b08e17aafdbbba98d62a2cd6b64f01699b8f4"
  },
  "kernelspec": {
   "display_name": "Python 3.7.13 ('mypytorch')",
   "language": "python",
   "name": "python3"
  },
  "language_info": {
   "codemirror_mode": {
    "name": "ipython",
    "version": 3
   },
   "file_extension": ".py",
   "mimetype": "text/x-python",
   "name": "python",
   "nbconvert_exporter": "python",
   "pygments_lexer": "ipython3",
   "version": "3.7.13"
  }
 },
 "nbformat": 4,
 "nbformat_minor": 5
}
