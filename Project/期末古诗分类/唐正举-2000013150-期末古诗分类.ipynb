{
 "cells": [
  {
   "cell_type": "markdown",
   "id": "fc59bb75-c8e8-4784-b8a3-21eb1c6aa1ca",
   "metadata": {},
   "source": [
    "# RNN序列编码-分类期末大作业\n",
    "\n",
    "本次大作业要求手动实现双向LSTM+基于attention的聚合模型，并用于古诗作者预测的序列分类任务。**请先阅读ppt中的作业说明。**"
   ]
  },
  {
   "cell_type": "code",
   "execution_count": 334,
   "id": "9638967f-db5b-425e-9c5b-167b2d871165",
   "metadata": {},
   "outputs": [
    {
     "data": {
      "text/plain": [
       "<torch._C.Generator at 0x1ce39f95670>"
      ]
     },
     "execution_count": 334,
     "metadata": {},
     "output_type": "execute_result"
    }
   ],
   "source": [
    "import torch\n",
    "import torch.nn as nn\n",
    "import torch.nn.functional as F\n",
    "from numba import jit\n",
    "\n",
    "import random\n",
    "import numpy as np\n",
    "\n",
    "from tqdm import tqdm\n",
    "\n",
    "device = torch.device(\"cuda\")\n",
    "\n",
    "random.seed(1)\n",
    "np.random.seed(1)\n",
    "torch.manual_seed(1)"
   ]
  },
  {
   "cell_type": "markdown",
   "id": "58e0fee5-d222-4d07-8d6c-a5a1a97ac1b2",
   "metadata": {},
   "source": [
    "## 1. 加载数据"
   ]
  },
  {
   "cell_type": "markdown",
   "id": "207c3e8f-d806-4137-997b-1b3018839f4a",
   "metadata": {},
   "source": [
    "数据位于`data`文件夹中，每一行对应一个样例，格式为“诗句 作者”。下面的代码将数据文件读取到`train_data`, `valid_data`和`test_data`中，并根据训练集中的数据构造词表`word2idx`/`idx2word`和标签集合`label2idx`/`idx2label`。"
   ]
  },
  {
   "cell_type": "code",
   "execution_count": 335,
   "id": "408f1a0a-afb3-4c8c-968e-2a037bc6c6ff",
   "metadata": {},
   "outputs": [],
   "source": [
    "word2idx = {\"<unk>\": 0}\n",
    "label2idx = {}\n",
    "idx2word = [\"<unk>\"]\n",
    "idx2label = []\n",
    "\n",
    "train_data = []\n",
    "with open(\"./data/train.txt\", encoding='utf-8') as f:\n",
    "    for line in f:\n",
    "        text, author = line.strip().split()\n",
    "        for c in text:\n",
    "            if c not in word2idx:\n",
    "                word2idx[c] = len(idx2word)\n",
    "                idx2word.append(c)\n",
    "        if author not in label2idx:\n",
    "            label2idx[author] = len(idx2label)\n",
    "            idx2label.append(author)\n",
    "        train_data.append((text, author))\n",
    "\n",
    "valid_data = []\n",
    "with open(\"./data/valid.txt\", encoding='utf-8') as f:\n",
    "    for line in f:\n",
    "        text, author = line.strip().split()\n",
    "        valid_data.append((text, author))\n",
    "\n",
    "test_data = []\n",
    "with open(\"./data/test.txt\", encoding='utf-8') as f:\n",
    "    for line in f:\n",
    "        text, author = line.strip().split()\n",
    "        test_data.append((text, author))"
   ]
  },
  {
   "cell_type": "code",
   "execution_count": 336,
   "id": "b1977f00-e7ad-43e8-8a5a-689fdb515c1f",
   "metadata": {},
   "outputs": [
    {
     "name": "stdout",
     "output_type": "stream",
     "text": [
      "4941 4941 5 5\n",
      "11271 1408 1410\n"
     ]
    }
   ],
   "source": [
    "print(len(word2idx), len(idx2word), len(label2idx), len(idx2label))\n",
    "print(len(train_data), len(valid_data), len(test_data))"
   ]
  },
  {
   "cell_type": "markdown",
   "id": "8a0a1eb4-e262-4bf8-9fd4-4ab52eebf476",
   "metadata": {},
   "source": [
    "**请完成下面的函数，其功能为给定一句古诗和一个作者，构造RNN的输入。** 这里需要用到上面构造的词表和标签集合，对于不在词表中的字用\\<unk\\>代替。"
   ]
  },
  {
   "cell_type": "code",
   "execution_count": 337,
   "id": "68e13c2f-064b-42a0-8f00-d39da3fff1a2",
   "metadata": {},
   "outputs": [],
   "source": [
    "def make_data(text, author):\n",
    "    \"\"\"\n",
    "    输入\n",
    "        text: str\n",
    "        author: str\n",
    "    输出\n",
    "        x: LongTensor, shape = (1, text_length)\n",
    "        y: LongTensor, shape = (1,)\n",
    "    \"\"\"\n",
    "    # 构建词表\n",
    "    x = torch.zeros(len(text), dtype=torch.long)\n",
    "    for c in range(len(text)):\n",
    "        if text[c] in word2idx:\n",
    "            x[c] = word2idx[text[c]]\n",
    "        else:\n",
    "            x[c] = word2idx['<unk>']\n",
    "    # 构建标签\n",
    "    if author in label2idx:\n",
    "        y = torch.tensor([label2idx[author]], dtype=torch.long)\n",
    "    else:\n",
    "        y = torch.tensor([label2idx['<unk>']], dtype=torch.long)\n",
    "    return x, y"
   ]
  },
  {
   "cell_type": "code",
   "execution_count": 338,
   "id": "f0763d28",
   "metadata": {},
   "outputs": [
    {
     "name": "stdout",
     "output_type": "stream",
     "text": [
      "雲台高議正紛紛，誰定當時蕩寇勳。 李商隱 16\n",
      "(tensor([ 182,  237,  109, 1898,  820, 1103, 1103,    8,  181,  377,  799,   32,\n",
      "         817, 2241, 2274,   16]), tensor([0]))\n"
     ]
    }
   ],
   "source": [
    "print(text, author, len(text))\n",
    "print(make_data(text, author))"
   ]
  },
  {
   "cell_type": "markdown",
   "id": "30b2ee07-19c9-4568-aaff-019fe46a4bd3",
   "metadata": {},
   "source": [
    "## 2. LSTM算子（单个时间片作为输入）"
   ]
  },
  {
   "cell_type": "code",
   "execution_count": 339,
   "id": "596a5c0b-9d6d-4166-ae52-a68f7490ca43",
   "metadata": {},
   "outputs": [],
   "source": [
    "class LSTM(nn.Module):\n",
    "    def __init__(self, input_size, hidden_size):\n",
    "        super(LSTM, self).__init__()\n",
    "        self.f = nn.Linear(input_size + hidden_size, hidden_size)\n",
    "        self.i = nn.Linear(input_size + hidden_size, hidden_size)\n",
    "        self.o = nn.Linear(input_size + hidden_size, hidden_size)\n",
    "        self.g = nn.Linear(input_size + hidden_size, hidden_size)\n",
    "    \n",
    "    def forward(self, ht, ct, xt):\n",
    "        # ht: 1 * hidden_size\n",
    "        # ct: 1 * hidden_size\n",
    "        # xt: 1 * input_size\n",
    "        input_combined = torch.cat((xt, ht), 1)\n",
    "        ft = torch.sigmoid(self.f(input_combined))\n",
    "        it = torch.sigmoid(self.i(input_combined))\n",
    "        ot = torch.sigmoid(self.o(input_combined))\n",
    "        gt = torch.tanh(self.g(input_combined))\n",
    "        ct = ft * ct + it * gt\n",
    "        ht = ot * torch.tanh(ct)\n",
    "        return ht, ct"
   ]
  },
  {
   "cell_type": "markdown",
   "id": "a7cc96e0-1f06-43a7-aeb8-08e837c2eede",
   "metadata": {},
   "source": [
    "## 3. 实现双向LSTM（整个序列作为输入）\n",
    "\n",
    "**要求使用上面提供的LSTM算子，不要调用torch.nn.LSTM**"
   ]
  },
  {
   "cell_type": "code",
   "execution_count": 340,
   "id": "8a27bc3e-5c90-4af2-b842-9eb4d5fc0550",
   "metadata": {},
   "outputs": [],
   "source": [
    "class BiLSTM(nn.Module):\n",
    "    def __init__(self, input_size, hidden_size):\n",
    "        super(BiLSTM, self).__init__()\n",
    "        # TODO\n",
    "        self.lstm_forward = LSTM(input_size, hidden_size)\n",
    "        self.lstm_backward = LSTM(input_size, hidden_size)\n",
    "        self.hidden_size = hidden_size # 隐藏层维度\n",
    "        self.input_size = input_size   # 输入（embedding）维度\n",
    "        self.register_buffer(\"_float\", torch.zeros(1, hidden_size))\n",
    "    \n",
    "    def init_h_and_c(self):\n",
    "        h = torch.zeros_like(self._float).to(device)\n",
    "        c = torch.zeros_like(self._float).to(device)\n",
    "        return h, c\n",
    "    \n",
    "    def forward(self, x):\n",
    "        \"\"\"\n",
    "        输入\n",
    "            x: 1 * length * input_size\n",
    "        输出\n",
    "            hiddens\n",
    "        \"\"\"\n",
    "        # TODO\n",
    "        length = x.shape[0]\n",
    "        hiddens_forward, hiddens_backward, hiddens = [], [], []\n",
    "\n",
    "        # 从前往后的LSTM\n",
    "        hidden_forward, cell_forward = self.init_h_and_c()\n",
    "        for i in range(length):\n",
    "            hidden_forward, cell_forward = self.lstm_forward(hidden_forward, cell_forward, x[i,:].unsqueeze(0))\n",
    "            hiddens_forward.append(hidden_forward)\n",
    "\n",
    "        hiddens_forward = torch.stack(hiddens_forward, dim=0).squeeze(1)\n",
    "        \n",
    "        # 从后往前的LSTM\n",
    "        hidden_backward = torch.zeros(self.hidden_size).unsqueeze(0).to(device)\n",
    "        cell_backward = torch.zeros(self.hidden_size).unsqueeze(0).to(device)\n",
    "        for i in range(length-1, -1, -1):\n",
    "            hidden_backward, cell_backward = self.lstm_backward(hidden_backward, cell_backward, x[i,:].unsqueeze(0))\n",
    "            hiddens_backward.append(hidden_backward)\n",
    "        \n",
    "        hiddens_backward = torch.stack(hiddens_backward, dim=0).squeeze(1)\n",
    "        hiddens_backward = torch.flip(hiddens_backward, dims=[0])\n",
    "\n",
    "        # 将两个hidden向量拼接起来\n",
    "        hiddens = torch.cat((hiddens_forward, hiddens_backward), -1).unsqueeze(0)\n",
    "\n",
    "        return hiddens"
   ]
  },
  {
   "cell_type": "markdown",
   "id": "f0cc8fca-caff-4a6d-abf1-0ced79692cc2",
   "metadata": {},
   "source": [
    "## 4. 实现基于attention的聚合机制"
   ]
  },
  {
   "cell_type": "code",
   "execution_count": 341,
   "id": "0122d8c3-ba8e-4b02-a9ae-8e06102ddcdd",
   "metadata": {},
   "outputs": [],
   "source": [
    "class Attention(nn.Module):\n",
    "    def __init__(self, hidden_size):\n",
    "        super(Attention, self).__init__()\n",
    "        # TODO\n",
    "        self.q = nn.Linear(hidden_size, 1, bias=False) # attention层\n",
    "        self.softmax = nn.Softmax(dim=0)\n",
    "        self.hidden_size = hidden_size\n",
    "    \n",
    "    def forward(self, hiddens):\n",
    "        \"\"\"\n",
    "        输入\n",
    "            hiddens: 1 * length * hidden_size\n",
    "        输出\n",
    "            attn_outputs: 1 * hidden_size\n",
    "        \"\"\"\n",
    "        # TODO\n",
    "        # 计算每个时间片隐藏状态向量的权重\n",
    "        a = self.q(hiddens.squeeze(0)).reshape(-1)\n",
    "        alpha = self.softmax(a)\n",
    "\n",
    "        # 加权求和得到经过q向量attention后的隐藏状态\n",
    "        attn_outputs = torch.mm(hiddens[0].T, alpha.unsqueeze(1))\n",
    "        \n",
    "        #print(\"Attention: \", attn_outputs.shape)\n",
    "        return attn_outputs.reshape(1, -1)"
   ]
  },
  {
   "cell_type": "markdown",
   "id": "6b62bbf4-b565-4ec2-aebb-1d5fcbb7e048",
   "metadata": {},
   "source": [
    "## 5. 利用上述模块搭建序列分类模型\n",
    "\n",
    "参考模型结构：Embedding – BiLSTM – Attention – Linear – LogSoftmax"
   ]
  },
  {
   "cell_type": "code",
   "execution_count": 342,
   "id": "e90edb70-7c1d-4839-9f0b-c8e8dbf9a8ee",
   "metadata": {},
   "outputs": [],
   "source": [
    "class EncoderRNN(nn.Module):\n",
    "    def __init__(self, num_vocab, embedding_dim, hidden_size, num_classes):\n",
    "        \"\"\"\n",
    "        参数\n",
    "            num_vocab: 词表大小\n",
    "            embedding_dim: 词向量维数\n",
    "            hidden_size: 隐状态维数\n",
    "            num_classes: 类别数量\n",
    "        \"\"\"\n",
    "        super(EncoderRNN, self).__init__()\n",
    "        # TODO\n",
    "        self.embed = nn.Embedding(num_vocab, embedding_dim) # embedding层\n",
    "        self.bilstm = BiLSTM(embedding_dim, hidden_size) # 双向LSTM\n",
    "        self.atten = Attention(2*hidden_size) # attention层\n",
    "        self.linear = nn.Linear(2*hidden_size, num_classes) # 线性层\n",
    "        self.logsoftmax = nn.LogSoftmax(dim=-1) # softmax层\n",
    "    \n",
    "    def forward(self, x):\n",
    "        \"\"\"\n",
    "        输入\n",
    "            x: 1 * length, LongTensor\n",
    "        输出\n",
    "            outputs\n",
    "        \"\"\"\n",
    "        # TODO\n",
    "        embeddings = []\n",
    "        for i in range(len(x)):\n",
    "            embeddings.append(self.embed(x[i])) \n",
    "        embeddings = torch.stack(embeddings, dim=0) # 构建embedding向量\n",
    "        hiddens = self.bilstm(embeddings) # 双向LSTM模型计算隐藏层\n",
    "        atten_o = self.atten(hiddens) # 注意力机制\n",
    "        lin = self.linear(atten_o)\n",
    "        #print(\"Linear: \", lin)\n",
    "        outputs = self.logsoftmax(lin)\n",
    "        return outputs"
   ]
  },
  {
   "cell_type": "markdown",
   "id": "0325df21-7e77-4883-8909-9352e90a37fe",
   "metadata": {},
   "source": [
    "## 6. 请利用上述模型在古诗作者分类任务上进行训练和测试\n",
    "\n",
    "要求选取在验证集上效果最好的模型，输出测试集上的准确率、confusion matrix以及macro-precision/recall/F1，并打印部分测试样例及预测结果。"
   ]
  },
  {
   "cell_type": "code",
   "execution_count": 346,
   "id": "56a57606-cbbd-4532-bbac-8cb974fac21d",
   "metadata": {},
   "outputs": [],
   "source": [
    "# TODO\n",
    "model = EncoderRNN(num_vocab=len(idx2word), embedding_dim=256, hidden_size=256, num_classes=len(idx2label))\n",
    "model.to(device)\n",
    "optimizer = torch.optim.SGD(model.parameters(), lr=0.5)\n",
    "criterion = nn.NLLLoss()\n",
    "\n",
    "\n",
    "def train_loop(model, optimizer, criterion):\n",
    "    model.train()\n",
    "    epochloss, curloss = 0, 0\n",
    "    cnt = 0\n",
    "    for sample in tqdm(train_data):\n",
    "        cnt += 1\n",
    "\n",
    "        # 训练样本\n",
    "        x, y = make_data(sample[0], sample[1])\n",
    "        x = x.to(device)\n",
    "        y = y.to(device)\n",
    "        output = model(x)\n",
    "\n",
    "        # 计算loss，回传梯度\n",
    "        loss = criterion(output, y)\n",
    "        optimizer.zero_grad()\n",
    "        loss.backward()\n",
    "\n",
    "        # 剪裁梯度\n",
    "        torch.nn.utils.clip_grad_norm_(model.parameters(), 1)\n",
    "        \n",
    "        optimizer.step()\n",
    "        epochloss += loss.item()\n",
    "        curloss += loss.item()\n",
    "        if cnt % 1000 == 0:\n",
    "            print('cur loss: ', curloss / 1000)\n",
    "            curloss = 0\n",
    "\n",
    "    epochloss /= len(train_data)\n",
    "    return epochloss\n",
    "\n",
    "\n",
    "def test_loop(model, data):\n",
    "    model.eval()\n",
    "    precision = 0.0\n",
    "    pred = []\n",
    "    for sample in tqdm(data):\n",
    "        x, y = make_data(sample[0], sample[1])\n",
    "        x = x.to(device)\n",
    "        y = y.to(device)\n",
    "        output = model(x).squeeze(0)\n",
    "\n",
    "        # 验证准确率\n",
    "        if torch.argmax(output) == y.item():\n",
    "            precision += 1\n",
    "        pred.append(idx2label[torch.argmax(output)])\n",
    "    precision /= len(data)\n",
    "    return pred, precision\n"
   ]
  },
  {
   "cell_type": "code",
   "execution_count": 348,
   "id": "d909d75f",
   "metadata": {},
   "outputs": [
    {
     "name": "stderr",
     "output_type": "stream",
     "text": [
      "  9%|▉         | 1002/11271 [01:19<11:48, 14.49it/s]"
     ]
    },
    {
     "name": "stdout",
     "output_type": "stream",
     "text": [
      "cur loss:  1.5445391139080475\n"
     ]
    },
    {
     "name": "stderr",
     "output_type": "stream",
     "text": [
      " 18%|█▊        | 2001/11271 [02:35<11:24, 13.54it/s]"
     ]
    },
    {
     "name": "stdout",
     "output_type": "stream",
     "text": [
      "cur loss:  1.5589832499754694\n"
     ]
    },
    {
     "name": "stderr",
     "output_type": "stream",
     "text": [
      " 27%|██▋       | 3003/11271 [03:58<09:58, 13.80it/s]"
     ]
    },
    {
     "name": "stdout",
     "output_type": "stream",
     "text": [
      "cur loss:  1.5764304139546452\n"
     ]
    },
    {
     "name": "stderr",
     "output_type": "stream",
     "text": [
      " 36%|███▌      | 4002/11271 [05:27<11:54, 10.18it/s]"
     ]
    },
    {
     "name": "stdout",
     "output_type": "stream",
     "text": [
      "cur loss:  1.4219529069088634\n"
     ]
    },
    {
     "name": "stderr",
     "output_type": "stream",
     "text": [
      " 44%|████▍     | 5001/11271 [07:12<12:16,  8.51it/s]"
     ]
    },
    {
     "name": "stdout",
     "output_type": "stream",
     "text": [
      "cur loss:  1.4223912592182693\n"
     ]
    },
    {
     "name": "stderr",
     "output_type": "stream",
     "text": [
      " 53%|█████▎    | 6001/11271 [09:01<09:10,  9.57it/s]"
     ]
    },
    {
     "name": "stdout",
     "output_type": "stream",
     "text": [
      "cur loss:  1.4358705505474054\n"
     ]
    },
    {
     "name": "stderr",
     "output_type": "stream",
     "text": [
      " 62%|██████▏   | 7001/11271 [10:37<06:23, 11.14it/s]"
     ]
    },
    {
     "name": "stdout",
     "output_type": "stream",
     "text": [
      "cur loss:  1.387554075803134\n"
     ]
    },
    {
     "name": "stderr",
     "output_type": "stream",
     "text": [
      " 71%|███████   | 8002/11271 [12:13<05:22, 10.13it/s]"
     ]
    },
    {
     "name": "stdout",
     "output_type": "stream",
     "text": [
      "cur loss:  1.3555014838477732\n"
     ]
    },
    {
     "name": "stderr",
     "output_type": "stream",
     "text": [
      " 80%|███████▉  | 9001/11271 [13:46<03:11, 11.83it/s]"
     ]
    },
    {
     "name": "stdout",
     "output_type": "stream",
     "text": [
      "cur loss:  1.3799726909553012\n"
     ]
    },
    {
     "name": "stderr",
     "output_type": "stream",
     "text": [
      " 89%|████████▊ | 10001/11271 [15:12<01:46, 11.89it/s]"
     ]
    },
    {
     "name": "stdout",
     "output_type": "stream",
     "text": [
      "cur loss:  1.357834182461092\n"
     ]
    },
    {
     "name": "stderr",
     "output_type": "stream",
     "text": [
      " 98%|█████████▊| 11002/11271 [16:38<00:26, 10.11it/s]"
     ]
    },
    {
     "name": "stdout",
     "output_type": "stream",
     "text": [
      "cur loss:  1.3158911308842445\n"
     ]
    },
    {
     "name": "stderr",
     "output_type": "stream",
     "text": [
      "100%|██████████| 11271/11271 [17:07<00:00, 10.97it/s]\n"
     ]
    },
    {
     "name": "stdout",
     "output_type": "stream",
     "text": [
      "epoch loss:  1.4226021496376233\n"
     ]
    },
    {
     "name": "stderr",
     "output_type": "stream",
     "text": [
      "100%|██████████| 1408/1408 [00:45<00:00, 30.77it/s]\n"
     ]
    },
    {
     "name": "stdout",
     "output_type": "stream",
     "text": [
      "pred:  0.5056818181818182\n",
      "我醉君複樂，陶然共忘機。 李白 李白\n",
      "遠聞房太守，歸葬陸渾山。一德興王后，孤魂久客間。 杜甫 李白\n",
      "西涉清洛源，頗驚人世喧。采秀臥王屋，因窺洞天門。 李白 杜甫\n",
      "郢門一為客，巴月三成弦。朔風正搖落，行子愁歸旋。 李白 李白\n",
      "每遇登臨好風景，羨他天性少情人。 劉禹錫 杜甫\n",
      "檀槽一抹廣陵春，定子初開睡臉新。 李商隱 李商隱\n",
      "出郭眄細岑，披榛得微路。溪行一流水，曲折方屢渡。 杜甫 杜甫\n",
      "少年入內教歌舞，不識君王到老時。 杜牧 杜甫\n",
      "洪壚作高山，元氣鼓其橐。俄然神功就，峻拔在寥廓。 劉禹錫 杜甫\n",
      "眥血下沾襟，天高問無期。卻尋故鄉路，孤影空相隨。 劉禹錫 杜甫\n"
     ]
    },
    {
     "name": "stderr",
     "output_type": "stream",
     "text": [
      "  9%|▉         | 1002/11271 [01:27<13:36, 12.57it/s]"
     ]
    },
    {
     "name": "stdout",
     "output_type": "stream",
     "text": [
      "cur loss:  1.2456389562530064\n"
     ]
    },
    {
     "name": "stderr",
     "output_type": "stream",
     "text": [
      " 18%|█▊        | 2001/11271 [03:00<14:16, 10.82it/s]"
     ]
    },
    {
     "name": "stdout",
     "output_type": "stream",
     "text": [
      "cur loss:  1.1339200440296282\n"
     ]
    },
    {
     "name": "stderr",
     "output_type": "stream",
     "text": [
      " 27%|██▋       | 3002/11271 [04:37<12:17, 11.21it/s]"
     ]
    },
    {
     "name": "stdout",
     "output_type": "stream",
     "text": [
      "cur loss:  1.2375334033186467\n"
     ]
    },
    {
     "name": "stderr",
     "output_type": "stream",
     "text": [
      " 36%|███▌      | 4002/11271 [06:14<11:16, 10.74it/s]"
     ]
    },
    {
     "name": "stdout",
     "output_type": "stream",
     "text": [
      "cur loss:  1.0966636547041524\n"
     ]
    },
    {
     "name": "stderr",
     "output_type": "stream",
     "text": [
      " 44%|████▍     | 5001/11271 [07:46<10:58,  9.51it/s]"
     ]
    },
    {
     "name": "stdout",
     "output_type": "stream",
     "text": [
      "cur loss:  1.0362098291316093\n"
     ]
    },
    {
     "name": "stderr",
     "output_type": "stream",
     "text": [
      " 53%|█████▎    | 6001/11271 [09:23<08:04, 10.88it/s]"
     ]
    },
    {
     "name": "stdout",
     "output_type": "stream",
     "text": [
      "cur loss:  1.0883337331408511\n"
     ]
    },
    {
     "name": "stderr",
     "output_type": "stream",
     "text": [
      " 62%|██████▏   | 7001/11271 [10:54<06:29, 10.96it/s]"
     ]
    },
    {
     "name": "stdout",
     "output_type": "stream",
     "text": [
      "cur loss:  1.0453002320571974\n"
     ]
    },
    {
     "name": "stderr",
     "output_type": "stream",
     "text": [
      " 71%|███████   | 8001/11271 [12:12<04:02, 13.46it/s]"
     ]
    },
    {
     "name": "stdout",
     "output_type": "stream",
     "text": [
      "cur loss:  1.0057576402043562\n"
     ]
    },
    {
     "name": "stderr",
     "output_type": "stream",
     "text": [
      " 80%|███████▉  | 9002/11271 [13:29<02:53, 13.12it/s]"
     ]
    },
    {
     "name": "stdout",
     "output_type": "stream",
     "text": [
      "cur loss:  1.0310183924038425\n"
     ]
    },
    {
     "name": "stderr",
     "output_type": "stream",
     "text": [
      " 89%|████████▊ | 10002/11271 [14:46<01:34, 13.46it/s]"
     ]
    },
    {
     "name": "stdout",
     "output_type": "stream",
     "text": [
      "cur loss:  0.9866191175196158\n"
     ]
    },
    {
     "name": "stderr",
     "output_type": "stream",
     "text": [
      " 98%|█████████▊| 11001/11271 [16:27<00:24, 10.93it/s]"
     ]
    },
    {
     "name": "stdout",
     "output_type": "stream",
     "text": [
      "cur loss:  0.9012021144866389\n"
     ]
    },
    {
     "name": "stderr",
     "output_type": "stream",
     "text": [
      "100%|██████████| 11271/11271 [16:52<00:00, 11.13it/s]\n"
     ]
    },
    {
     "name": "stdout",
     "output_type": "stream",
     "text": [
      "epoch loss:  1.063835565701171\n"
     ]
    },
    {
     "name": "stderr",
     "output_type": "stream",
     "text": [
      "100%|██████████| 1408/1408 [00:59<00:00, 23.59it/s]\n"
     ]
    },
    {
     "name": "stdout",
     "output_type": "stream",
     "text": [
      "pred:  0.5355113636363636\n",
      "我醉君複樂，陶然共忘機。 李白 李白\n",
      "遠聞房太守，歸葬陸渾山。一德興王后，孤魂久客間。 杜甫 李白\n",
      "西涉清洛源，頗驚人世喧。采秀臥王屋，因窺洞天門。 李白 李白\n",
      "郢門一為客，巴月三成弦。朔風正搖落，行子愁歸旋。 李白 劉禹錫\n",
      "每遇登臨好風景，羨他天性少情人。 劉禹錫 杜甫\n",
      "檀槽一抹廣陵春，定子初開睡臉新。 李商隱 李商隱\n",
      "出郭眄細岑，披榛得微路。溪行一流水，曲折方屢渡。 杜甫 李白\n",
      "少年入內教歌舞，不識君王到老時。 杜牧 杜甫\n",
      "洪壚作高山，元氣鼓其橐。俄然神功就，峻拔在寥廓。 劉禹錫 杜甫\n",
      "眥血下沾襟，天高問無期。卻尋故鄉路，孤影空相隨。 劉禹錫 杜甫\n"
     ]
    },
    {
     "name": "stderr",
     "output_type": "stream",
     "text": [
      "  9%|▉         | 1002/11271 [01:32<14:17, 11.98it/s]"
     ]
    },
    {
     "name": "stdout",
     "output_type": "stream",
     "text": [
      "cur loss:  0.8713648284455751\n"
     ]
    },
    {
     "name": "stderr",
     "output_type": "stream",
     "text": [
      " 18%|█▊        | 2001/11271 [02:47<10:45, 14.37it/s]"
     ]
    },
    {
     "name": "stdout",
     "output_type": "stream",
     "text": [
      "cur loss:  0.8061810025643212\n"
     ]
    },
    {
     "name": "stderr",
     "output_type": "stream",
     "text": [
      " 27%|██▋       | 3003/11271 [03:59<09:17, 14.83it/s]"
     ]
    },
    {
     "name": "stdout",
     "output_type": "stream",
     "text": [
      "cur loss:  0.9032727406373099\n"
     ]
    },
    {
     "name": "stderr",
     "output_type": "stream",
     "text": [
      " 36%|███▌      | 4002/11271 [05:10<09:11, 13.19it/s]"
     ]
    },
    {
     "name": "stdout",
     "output_type": "stream",
     "text": [
      "cur loss:  0.8656114131936385\n"
     ]
    },
    {
     "name": "stderr",
     "output_type": "stream",
     "text": [
      " 44%|████▍     | 5002/11271 [06:30<08:47, 11.89it/s]"
     ]
    },
    {
     "name": "stdout",
     "output_type": "stream",
     "text": [
      "cur loss:  0.6743468553514835\n"
     ]
    },
    {
     "name": "stderr",
     "output_type": "stream",
     "text": [
      " 53%|█████▎    | 6001/11271 [07:47<08:53,  9.88it/s]"
     ]
    },
    {
     "name": "stdout",
     "output_type": "stream",
     "text": [
      "cur loss:  0.699084207720695\n"
     ]
    },
    {
     "name": "stderr",
     "output_type": "stream",
     "text": [
      " 62%|██████▏   | 7001/11271 [09:22<08:04,  8.81it/s]"
     ]
    },
    {
     "name": "stdout",
     "output_type": "stream",
     "text": [
      "cur loss:  0.7861206557690248\n"
     ]
    },
    {
     "name": "stderr",
     "output_type": "stream",
     "text": [
      " 71%|███████   | 8000/11271 [11:05<05:28,  9.94it/s]"
     ]
    },
    {
     "name": "stdout",
     "output_type": "stream",
     "text": [
      "cur loss:  0.6147544647480253\n"
     ]
    },
    {
     "name": "stderr",
     "output_type": "stream",
     "text": [
      " 80%|███████▉  | 9001/11271 [13:02<04:12,  8.97it/s]"
     ]
    },
    {
     "name": "stdout",
     "output_type": "stream",
     "text": [
      "cur loss:  0.5686032346916083\n"
     ]
    },
    {
     "name": "stderr",
     "output_type": "stream",
     "text": [
      " 89%|████████▊ | 10001/11271 [15:07<02:54,  7.28it/s]"
     ]
    },
    {
     "name": "stdout",
     "output_type": "stream",
     "text": [
      "cur loss:  0.6546551048040862\n"
     ]
    },
    {
     "name": "stderr",
     "output_type": "stream",
     "text": [
      " 98%|█████████▊| 11000/11271 [16:56<00:25, 10.80it/s]"
     ]
    },
    {
     "name": "stdout",
     "output_type": "stream",
     "text": [
      "cur loss:  0.6301440271709906\n"
     ]
    },
    {
     "name": "stderr",
     "output_type": "stream",
     "text": [
      "100%|██████████| 11271/11271 [17:25<00:00, 10.78it/s]\n"
     ]
    },
    {
     "name": "stdout",
     "output_type": "stream",
     "text": [
      "epoch loss:  0.7295450979774938\n"
     ]
    },
    {
     "name": "stderr",
     "output_type": "stream",
     "text": [
      "100%|██████████| 1408/1408 [01:01<00:00, 22.91it/s]\n"
     ]
    },
    {
     "name": "stdout",
     "output_type": "stream",
     "text": [
      "pred:  0.5348011363636364\n",
      "我醉君複樂，陶然共忘機。 李白 李白\n",
      "遠聞房太守，歸葬陸渾山。一德興王后，孤魂久客間。 杜甫 杜甫\n",
      "西涉清洛源，頗驚人世喧。采秀臥王屋，因窺洞天門。 李白 李白\n",
      "郢門一為客，巴月三成弦。朔風正搖落，行子愁歸旋。 李白 劉禹錫\n",
      "每遇登臨好風景，羨他天性少情人。 劉禹錫 杜甫\n",
      "檀槽一抹廣陵春，定子初開睡臉新。 李商隱 李商隱\n",
      "出郭眄細岑，披榛得微路。溪行一流水，曲折方屢渡。 杜甫 杜甫\n",
      "少年入內教歌舞，不識君王到老時。 杜牧 李商隱\n",
      "洪壚作高山，元氣鼓其橐。俄然神功就，峻拔在寥廓。 劉禹錫 杜甫\n",
      "眥血下沾襟，天高問無期。卻尋故鄉路，孤影空相隨。 劉禹錫 杜甫\n"
     ]
    },
    {
     "name": "stderr",
     "output_type": "stream",
     "text": [
      "  9%|▉         | 1002/11271 [01:30<14:14, 12.02it/s]"
     ]
    },
    {
     "name": "stdout",
     "output_type": "stream",
     "text": [
      "cur loss:  0.5408929766849294\n"
     ]
    },
    {
     "name": "stderr",
     "output_type": "stream",
     "text": [
      " 18%|█▊        | 2001/11271 [02:59<12:59, 11.89it/s]"
     ]
    },
    {
     "name": "stdout",
     "output_type": "stream",
     "text": [
      "cur loss:  0.46386953865961233\n"
     ]
    },
    {
     "name": "stderr",
     "output_type": "stream",
     "text": [
      " 27%|██▋       | 3001/11271 [04:27<15:39,  8.80it/s]"
     ]
    },
    {
     "name": "stdout",
     "output_type": "stream",
     "text": [
      "cur loss:  0.53913797394629\n"
     ]
    },
    {
     "name": "stderr",
     "output_type": "stream",
     "text": [
      " 35%|███▌      | 4001/11271 [06:02<10:32, 11.49it/s]"
     ]
    },
    {
     "name": "stdout",
     "output_type": "stream",
     "text": [
      "cur loss:  0.5972420189214076\n"
     ]
    },
    {
     "name": "stderr",
     "output_type": "stream",
     "text": [
      " 44%|████▍     | 5001/11271 [07:31<09:52, 10.57it/s]"
     ]
    },
    {
     "name": "stdout",
     "output_type": "stream",
     "text": [
      "cur loss:  0.49358340040312537\n"
     ]
    },
    {
     "name": "stderr",
     "output_type": "stream",
     "text": [
      " 53%|█████▎    | 6001/11271 [09:00<07:47, 11.28it/s]"
     ]
    },
    {
     "name": "stdout",
     "output_type": "stream",
     "text": [
      "cur loss:  0.39707165177936166\n"
     ]
    },
    {
     "name": "stderr",
     "output_type": "stream",
     "text": [
      " 62%|██████▏   | 7002/11271 [10:32<06:06, 11.66it/s]"
     ]
    },
    {
     "name": "stdout",
     "output_type": "stream",
     "text": [
      "cur loss:  0.44929690772520714\n"
     ]
    },
    {
     "name": "stderr",
     "output_type": "stream",
     "text": [
      " 71%|███████   | 8001/11271 [11:57<04:36, 11.85it/s]"
     ]
    },
    {
     "name": "stdout",
     "output_type": "stream",
     "text": [
      "cur loss:  0.29722725633391406\n"
     ]
    },
    {
     "name": "stderr",
     "output_type": "stream",
     "text": [
      " 80%|███████▉  | 9001/11271 [13:24<03:20, 11.32it/s]"
     ]
    },
    {
     "name": "stdout",
     "output_type": "stream",
     "text": [
      "cur loss:  0.36294359285545136\n"
     ]
    },
    {
     "name": "stderr",
     "output_type": "stream",
     "text": [
      " 89%|████████▊ | 10002/11271 [14:52<01:50, 11.49it/s]"
     ]
    },
    {
     "name": "stdout",
     "output_type": "stream",
     "text": [
      "cur loss:  0.351477133480942\n"
     ]
    },
    {
     "name": "stderr",
     "output_type": "stream",
     "text": [
      " 98%|█████████▊| 11001/11271 [16:30<00:29,  9.30it/s]"
     ]
    },
    {
     "name": "stdout",
     "output_type": "stream",
     "text": [
      "cur loss:  0.3357288915680831\n"
     ]
    },
    {
     "name": "stderr",
     "output_type": "stream",
     "text": [
      "100%|██████████| 11271/11271 [17:01<00:00, 11.04it/s]\n"
     ]
    },
    {
     "name": "stdout",
     "output_type": "stream",
     "text": [
      "epoch loss:  0.4362375339703302\n"
     ]
    },
    {
     "name": "stderr",
     "output_type": "stream",
     "text": [
      "100%|██████████| 1408/1408 [01:14<00:00, 18.78it/s]\n"
     ]
    },
    {
     "name": "stdout",
     "output_type": "stream",
     "text": [
      "pred:  0.5504261363636364\n",
      "我醉君複樂，陶然共忘機。 李白 李白\n",
      "遠聞房太守，歸葬陸渾山。一德興王后，孤魂久客間。 杜甫 李白\n",
      "西涉清洛源，頗驚人世喧。采秀臥王屋，因窺洞天門。 李白 李白\n",
      "郢門一為客，巴月三成弦。朔風正搖落，行子愁歸旋。 李白 李白\n",
      "每遇登臨好風景，羨他天性少情人。 劉禹錫 杜甫\n",
      "檀槽一抹廣陵春，定子初開睡臉新。 李商隱 杜牧\n",
      "出郭眄細岑，披榛得微路。溪行一流水，曲折方屢渡。 杜甫 李白\n",
      "少年入內教歌舞，不識君王到老時。 杜牧 杜牧\n",
      "洪壚作高山，元氣鼓其橐。俄然神功就，峻拔在寥廓。 劉禹錫 杜甫\n",
      "眥血下沾襟，天高問無期。卻尋故鄉路，孤影空相隨。 劉禹錫 杜甫\n"
     ]
    },
    {
     "name": "stderr",
     "output_type": "stream",
     "text": [
      "  9%|▉         | 1001/11271 [02:00<16:34, 10.32it/s]"
     ]
    },
    {
     "name": "stdout",
     "output_type": "stream",
     "text": [
      "cur loss:  0.2926972826416932\n"
     ]
    },
    {
     "name": "stderr",
     "output_type": "stream",
     "text": [
      " 18%|█▊        | 2001/11271 [03:50<18:33,  8.33it/s]"
     ]
    },
    {
     "name": "stdout",
     "output_type": "stream",
     "text": [
      "cur loss:  0.26446440713433517\n"
     ]
    },
    {
     "name": "stderr",
     "output_type": "stream",
     "text": [
      " 27%|██▋       | 3001/11271 [05:50<15:30,  8.89it/s]"
     ]
    },
    {
     "name": "stdout",
     "output_type": "stream",
     "text": [
      "cur loss:  0.3166861525142105\n"
     ]
    },
    {
     "name": "stderr",
     "output_type": "stream",
     "text": [
      " 36%|███▌      | 4002/11271 [07:45<14:39,  8.27it/s]"
     ]
    },
    {
     "name": "stdout",
     "output_type": "stream",
     "text": [
      "cur loss:  0.31637002149502075\n"
     ]
    },
    {
     "name": "stderr",
     "output_type": "stream",
     "text": [
      " 44%|████▍     | 5001/11271 [09:42<11:48,  8.85it/s]"
     ]
    },
    {
     "name": "stdout",
     "output_type": "stream",
     "text": [
      "cur loss:  0.277832398094217\n"
     ]
    },
    {
     "name": "stderr",
     "output_type": "stream",
     "text": [
      " 53%|█████▎    | 6001/11271 [11:45<10:13,  8.59it/s]"
     ]
    },
    {
     "name": "stdout",
     "output_type": "stream",
     "text": [
      "cur loss:  0.20851731018014452\n"
     ]
    },
    {
     "name": "stderr",
     "output_type": "stream",
     "text": [
      " 62%|██████▏   | 7001/11271 [13:47<09:14,  7.70it/s]"
     ]
    },
    {
     "name": "stdout",
     "output_type": "stream",
     "text": [
      "cur loss:  0.24413569658389933\n"
     ]
    },
    {
     "name": "stderr",
     "output_type": "stream",
     "text": [
      " 71%|███████   | 8001/11271 [15:47<07:10,  7.60it/s]"
     ]
    },
    {
     "name": "stdout",
     "output_type": "stream",
     "text": [
      "cur loss:  0.18557159247118074\n"
     ]
    },
    {
     "name": "stderr",
     "output_type": "stream",
     "text": [
      " 80%|███████▉  | 9001/11271 [17:55<04:16,  8.86it/s]"
     ]
    },
    {
     "name": "stdout",
     "output_type": "stream",
     "text": [
      "cur loss:  0.15896868952498708\n"
     ]
    },
    {
     "name": "stderr",
     "output_type": "stream",
     "text": [
      " 89%|████████▊ | 10001/11271 [19:56<02:21,  9.00it/s]"
     ]
    },
    {
     "name": "stdout",
     "output_type": "stream",
     "text": [
      "cur loss:  0.17504546317552652\n"
     ]
    },
    {
     "name": "stderr",
     "output_type": "stream",
     "text": [
      " 98%|█████████▊| 11001/11271 [21:53<00:29,  9.02it/s]"
     ]
    },
    {
     "name": "stdout",
     "output_type": "stream",
     "text": [
      "cur loss:  0.16070500085657016\n"
     ]
    },
    {
     "name": "stderr",
     "output_type": "stream",
     "text": [
      "100%|██████████| 11271/11271 [22:26<00:00,  8.37it/s]\n"
     ]
    },
    {
     "name": "stdout",
     "output_type": "stream",
     "text": [
      "epoch loss:  0.23505649025438283\n"
     ]
    },
    {
     "name": "stderr",
     "output_type": "stream",
     "text": [
      "100%|██████████| 1408/1408 [01:07<00:00, 20.99it/s]\n"
     ]
    },
    {
     "name": "stdout",
     "output_type": "stream",
     "text": [
      "pred:  0.5447443181818182\n",
      "我醉君複樂，陶然共忘機。 李白 李白\n",
      "遠聞房太守，歸葬陸渾山。一德興王后，孤魂久客間。 杜甫 杜甫\n",
      "西涉清洛源，頗驚人世喧。采秀臥王屋，因窺洞天門。 李白 李白\n",
      "郢門一為客，巴月三成弦。朔風正搖落，行子愁歸旋。 李白 李白\n",
      "每遇登臨好風景，羨他天性少情人。 劉禹錫 劉禹錫\n",
      "檀槽一抹廣陵春，定子初開睡臉新。 李商隱 杜牧\n",
      "出郭眄細岑，披榛得微路。溪行一流水，曲折方屢渡。 杜甫 杜甫\n",
      "少年入內教歌舞，不識君王到老時。 杜牧 杜牧\n",
      "洪壚作高山，元氣鼓其橐。俄然神功就，峻拔在寥廓。 劉禹錫 杜甫\n",
      "眥血下沾襟，天高問無期。卻尋故鄉路，孤影空相隨。 劉禹錫 杜甫\n",
      "Best score:  0.5504261363636364\n"
     ]
    },
    {
     "name": "stderr",
     "output_type": "stream",
     "text": [
      "100%|██████████| 1410/1410 [01:05<00:00, 21.52it/s]"
     ]
    },
    {
     "name": "stdout",
     "output_type": "stream",
     "text": [
      "test score:  0.5589488636363636\n",
      "舊日重陽日，傳杯不放杯。即今蓬鬢改，但愧菊花開。 杜甫 杜甫\n",
      "熊羆交黑槊，賓客滿青油。今日文章主，梁王不姓劉。 劉禹錫 杜甫\n",
      "晝號夜哭兼幽顯，早晚星關雪涕收。 李商隱 杜甫\n",
      "玉壘高桐拂玉繩，上含非霧下含冰。 李商隱 李商隱\n",
      "相思樹上合歡枝，紫鳳青鸞共羽儀。 李商隱 劉禹錫\n",
      "空齋寂寂不生塵，藥物方書繞病身。纖草數莖勝靜地， 劉禹錫 劉禹錫\n",
      "陰騭今如此，天災未可無。莫憑牲玉請，便望救焦枯。 李商隱 李白\n",
      "露索秦宮井，風弦漢殿箏。幾時綿竹頌，擬薦子虛名。 李商隱 杜甫\n",
      "開從綠條上，散逐香風遠。故取花落時，悠揚占春晚。 劉禹錫 劉禹錫\n",
      "顧于韓蔡內，辨眼工小字。分日示諸王，鉤深法更秘。 杜甫 杜甫\n"
     ]
    },
    {
     "name": "stderr",
     "output_type": "stream",
     "text": [
      "\n"
     ]
    }
   ],
   "source": [
    "model.load_state_dict(torch.load(\"model_best.pt\"))\n",
    "\n",
    "best_score = 0.0\n",
    "# 模型训练\n",
    "for epoch in range(5):\n",
    "    loss = train_loop(model, optimizer, criterion)\n",
    "    print(\"epoch loss: \", loss)\n",
    "    pred, precision = test_loop(model, valid_data)\n",
    "    if precision > best_score:\n",
    "        torch.save(model.state_dict(), \"model_best.pt\")\n",
    "        best_score = precision\n",
    "    print(\"pred: \", precision)\n",
    "    for i in range(10):\n",
    "        print(valid_data[i][0], valid_data[i][1], pred[i])\n",
    "\n",
    "print(\"Best score: \", best_score)\n",
    "\n",
    "# 模型预测\n",
    "model.load_state_dict(torch.load(\"model_best.pt\"))\n",
    "pred, precision = test_loop(model, test_data)\n",
    "print(\"test score: \", precision)\n",
    "for i in range(10):\n",
    "    print(test_data[i][0], test_data[i][1], pred[i])"
   ]
  },
  {
   "cell_type": "code",
   "execution_count": 350,
   "id": "3ff6014b",
   "metadata": {},
   "outputs": [
    {
     "name": "stderr",
     "output_type": "stream",
     "text": [
      "  9%|▉         | 1002/11271 [01:10<11:03, 15.47it/s]"
     ]
    },
    {
     "name": "stdout",
     "output_type": "stream",
     "text": [
      "cur loss:  0.2926972826416932\n"
     ]
    },
    {
     "name": "stderr",
     "output_type": "stream",
     "text": [
      " 18%|█▊        | 2003/11271 [02:20<10:38, 14.51it/s]"
     ]
    },
    {
     "name": "stdout",
     "output_type": "stream",
     "text": [
      "cur loss:  0.26446440713433517\n"
     ]
    },
    {
     "name": "stderr",
     "output_type": "stream",
     "text": [
      " 27%|██▋       | 3003/11271 [03:31<09:29, 14.51it/s]"
     ]
    },
    {
     "name": "stdout",
     "output_type": "stream",
     "text": [
      "cur loss:  0.3166861525142105\n"
     ]
    },
    {
     "name": "stderr",
     "output_type": "stream",
     "text": [
      " 36%|███▌      | 4002/11271 [04:46<09:02, 13.41it/s]"
     ]
    },
    {
     "name": "stdout",
     "output_type": "stream",
     "text": [
      "cur loss:  0.31637002149502075\n"
     ]
    },
    {
     "name": "stderr",
     "output_type": "stream",
     "text": [
      " 44%|████▍     | 5002/11271 [06:04<08:40, 12.05it/s]"
     ]
    },
    {
     "name": "stdout",
     "output_type": "stream",
     "text": [
      "cur loss:  0.277832398094217\n"
     ]
    },
    {
     "name": "stderr",
     "output_type": "stream",
     "text": [
      " 53%|█████▎    | 6002/11271 [07:27<07:45, 11.32it/s]"
     ]
    },
    {
     "name": "stdout",
     "output_type": "stream",
     "text": [
      "cur loss:  0.20851731018014452\n"
     ]
    },
    {
     "name": "stderr",
     "output_type": "stream",
     "text": [
      " 62%|██████▏   | 7002/11271 [08:55<06:12, 11.46it/s]"
     ]
    },
    {
     "name": "stdout",
     "output_type": "stream",
     "text": [
      "cur loss:  0.24413569658389933\n"
     ]
    },
    {
     "name": "stderr",
     "output_type": "stream",
     "text": [
      " 71%|███████   | 8001/11271 [10:20<04:41, 11.62it/s]"
     ]
    },
    {
     "name": "stdout",
     "output_type": "stream",
     "text": [
      "cur loss:  0.18557159247118074\n"
     ]
    },
    {
     "name": "stderr",
     "output_type": "stream",
     "text": [
      " 80%|███████▉  | 9001/11271 [11:45<03:05, 12.23it/s]"
     ]
    },
    {
     "name": "stdout",
     "output_type": "stream",
     "text": [
      "cur loss:  0.15896868952498708\n"
     ]
    },
    {
     "name": "stderr",
     "output_type": "stream",
     "text": [
      " 89%|████████▊ | 10002/11271 [13:10<01:50, 11.52it/s]"
     ]
    },
    {
     "name": "stdout",
     "output_type": "stream",
     "text": [
      "cur loss:  0.17504546317552652\n"
     ]
    },
    {
     "name": "stderr",
     "output_type": "stream",
     "text": [
      " 98%|█████████▊| 11002/11271 [14:36<00:22, 11.70it/s]"
     ]
    },
    {
     "name": "stdout",
     "output_type": "stream",
     "text": [
      "cur loss:  0.16070500085657016\n"
     ]
    },
    {
     "name": "stderr",
     "output_type": "stream",
     "text": [
      "100%|██████████| 11271/11271 [14:59<00:00, 12.53it/s]\n"
     ]
    },
    {
     "name": "stdout",
     "output_type": "stream",
     "text": [
      "epoch loss:  0.23505649025438283\n"
     ]
    },
    {
     "name": "stderr",
     "output_type": "stream",
     "text": [
      "100%|██████████| 1408/1408 [00:51<00:00, 27.26it/s]\n"
     ]
    },
    {
     "name": "stdout",
     "output_type": "stream",
     "text": [
      "pred:  0.5447443181818182\n",
      "我醉君複樂，陶然共忘機。 李白 李白\n",
      "遠聞房太守，歸葬陸渾山。一德興王后，孤魂久客間。 杜甫 杜甫\n",
      "西涉清洛源，頗驚人世喧。采秀臥王屋，因窺洞天門。 李白 李白\n",
      "郢門一為客，巴月三成弦。朔風正搖落，行子愁歸旋。 李白 李白\n",
      "每遇登臨好風景，羨他天性少情人。 劉禹錫 劉禹錫\n",
      "檀槽一抹廣陵春，定子初開睡臉新。 李商隱 杜牧\n",
      "出郭眄細岑，披榛得微路。溪行一流水，曲折方屢渡。 杜甫 杜甫\n",
      "少年入內教歌舞，不識君王到老時。 杜牧 杜牧\n",
      "洪壚作高山，元氣鼓其橐。俄然神功就，峻拔在寥廓。 劉禹錫 杜甫\n",
      "眥血下沾襟，天高問無期。卻尋故鄉路，孤影空相隨。 劉禹錫 杜甫\n"
     ]
    },
    {
     "name": "stderr",
     "output_type": "stream",
     "text": [
      "  9%|▉         | 1001/11271 [01:29<13:54, 12.31it/s]"
     ]
    },
    {
     "name": "stdout",
     "output_type": "stream",
     "text": [
      "cur loss:  0.1542103111291437\n"
     ]
    },
    {
     "name": "stderr",
     "output_type": "stream",
     "text": [
      " 18%|█▊        | 2001/11271 [02:59<13:40, 11.30it/s]"
     ]
    },
    {
     "name": "stdout",
     "output_type": "stream",
     "text": [
      "cur loss:  0.11777445165541457\n"
     ]
    },
    {
     "name": "stderr",
     "output_type": "stream",
     "text": [
      " 27%|██▋       | 3002/11271 [04:26<11:19, 12.17it/s]"
     ]
    },
    {
     "name": "stdout",
     "output_type": "stream",
     "text": [
      "cur loss:  0.20603927342171954\n"
     ]
    },
    {
     "name": "stderr",
     "output_type": "stream",
     "text": [
      " 35%|███▌      | 4001/11271 [05:53<14:24,  8.41it/s]"
     ]
    },
    {
     "name": "stdout",
     "output_type": "stream",
     "text": [
      "cur loss:  0.1761094687960819\n"
     ]
    },
    {
     "name": "stderr",
     "output_type": "stream",
     "text": [
      " 44%|████▍     | 5001/11271 [07:54<11:46,  8.87it/s]"
     ]
    },
    {
     "name": "stdout",
     "output_type": "stream",
     "text": [
      "cur loss:  0.18898147061049106\n"
     ]
    },
    {
     "name": "stderr",
     "output_type": "stream",
     "text": [
      " 53%|█████▎    | 6001/11271 [09:38<09:26,  9.30it/s]"
     ]
    },
    {
     "name": "stdout",
     "output_type": "stream",
     "text": [
      "cur loss:  0.11117468394381691\n"
     ]
    },
    {
     "name": "stderr",
     "output_type": "stream",
     "text": [
      " 62%|██████▏   | 7002/11271 [11:14<05:54, 12.04it/s]"
     ]
    },
    {
     "name": "stdout",
     "output_type": "stream",
     "text": [
      "cur loss:  0.08615061915641144\n"
     ]
    },
    {
     "name": "stderr",
     "output_type": "stream",
     "text": [
      " 71%|███████   | 8001/11271 [13:03<08:08,  6.69it/s]"
     ]
    },
    {
     "name": "stdout",
     "output_type": "stream",
     "text": [
      "cur loss:  0.06332445388009626\n"
     ]
    },
    {
     "name": "stderr",
     "output_type": "stream",
     "text": [
      " 80%|███████▉  | 9000/11271 [15:02<03:27, 10.96it/s]"
     ]
    },
    {
     "name": "stdout",
     "output_type": "stream",
     "text": [
      "cur loss:  0.10239507024624876\n"
     ]
    },
    {
     "name": "stderr",
     "output_type": "stream",
     "text": [
      " 89%|████████▊ | 10002/11271 [16:58<01:39, 12.77it/s]"
     ]
    },
    {
     "name": "stdout",
     "output_type": "stream",
     "text": [
      "cur loss:  0.09265305876050936\n"
     ]
    },
    {
     "name": "stderr",
     "output_type": "stream",
     "text": [
      " 98%|█████████▊| 11002/11271 [18:36<00:24, 11.01it/s]"
     ]
    },
    {
     "name": "stdout",
     "output_type": "stream",
     "text": [
      "cur loss:  0.09872005386462868\n"
     ]
    },
    {
     "name": "stderr",
     "output_type": "stream",
     "text": [
      "100%|██████████| 11271/11271 [19:00<00:00,  9.88it/s]\n"
     ]
    },
    {
     "name": "stdout",
     "output_type": "stream",
     "text": [
      "epoch loss:  0.12440281718934729\n"
     ]
    },
    {
     "name": "stderr",
     "output_type": "stream",
     "text": [
      "100%|██████████| 1408/1408 [00:53<00:00, 26.40it/s]\n"
     ]
    },
    {
     "name": "stdout",
     "output_type": "stream",
     "text": [
      "pred:  0.5596590909090909\n",
      "我醉君複樂，陶然共忘機。 李白 李白\n",
      "遠聞房太守，歸葬陸渾山。一德興王后，孤魂久客間。 杜甫 杜甫\n",
      "西涉清洛源，頗驚人世喧。采秀臥王屋，因窺洞天門。 李白 李白\n",
      "郢門一為客，巴月三成弦。朔風正搖落，行子愁歸旋。 李白 劉禹錫\n",
      "每遇登臨好風景，羨他天性少情人。 劉禹錫 劉禹錫\n",
      "檀槽一抹廣陵春，定子初開睡臉新。 李商隱 杜牧\n",
      "出郭眄細岑，披榛得微路。溪行一流水，曲折方屢渡。 杜甫 杜甫\n",
      "少年入內教歌舞，不識君王到老時。 杜牧 杜牧\n",
      "洪壚作高山，元氣鼓其橐。俄然神功就，峻拔在寥廓。 劉禹錫 杜甫\n",
      "眥血下沾襟，天高問無期。卻尋故鄉路，孤影空相隨。 劉禹錫 杜甫\n",
      "Best score:  0.5596590909090909\n"
     ]
    },
    {
     "name": "stderr",
     "output_type": "stream",
     "text": [
      "100%|██████████| 1410/1410 [00:54<00:00, 25.91it/s]"
     ]
    },
    {
     "name": "stdout",
     "output_type": "stream",
     "text": [
      "test score:  0.5745738636363636\n",
      "舊日重陽日，傳杯不放杯。即今蓬鬢改，但愧菊花開。 杜甫 杜甫\n",
      "熊羆交黑槊，賓客滿青油。今日文章主，梁王不姓劉。 劉禹錫 杜甫\n",
      "晝號夜哭兼幽顯，早晚星關雪涕收。 李商隱 杜甫\n",
      "玉壘高桐拂玉繩，上含非霧下含冰。 李商隱 李商隱\n",
      "相思樹上合歡枝，紫鳳青鸞共羽儀。 李商隱 李白\n",
      "空齋寂寂不生塵，藥物方書繞病身。纖草數莖勝靜地， 劉禹錫 劉禹錫\n",
      "陰騭今如此，天災未可無。莫憑牲玉請，便望救焦枯。 李商隱 杜牧\n",
      "露索秦宮井，風弦漢殿箏。幾時綿竹頌，擬薦子虛名。 李商隱 杜甫\n",
      "開從綠條上，散逐香風遠。故取花落時，悠揚占春晚。 劉禹錫 劉禹錫\n",
      "顧于韓蔡內，辨眼工小字。分日示諸王，鉤深法更秘。 杜甫 杜甫\n"
     ]
    },
    {
     "name": "stderr",
     "output_type": "stream",
     "text": [
      "\n"
     ]
    }
   ],
   "source": [
    "model2 = EncoderRNN(num_vocab=len(idx2word), embedding_dim=256, hidden_size=256, num_classes=len(idx2label))\n",
    "model2.to(device)\n",
    "model2.load_state_dict(torch.load(\"model_best.pt\"))\n",
    "\n",
    "best_score2 = best_score\n",
    "for epoch in range(2):\n",
    "    loss = train_loop(model, optimizer, criterion)\n",
    "    print(\"epoch loss: \", loss)\n",
    "    pred, precision = test_loop(model, valid_data)\n",
    "    if precision > best_score2:\n",
    "        torch.save(model.state_dict(), \"model_best2.pt\")\n",
    "        best_score2 = precision\n",
    "    print(\"pred: \", precision)\n",
    "    for i in range(10):\n",
    "        print(valid_data[i][0], valid_data[i][1], pred[i])\n",
    "\n",
    "print(\"Best score: \", best_score2)\n",
    "\n",
    "model2.load_state_dict(torch.load(\"model_best2.pt\"))\n",
    "pred2, precision2 = test_loop(model, test_data)\n",
    "print(\"test score: \", precision2)\n",
    "for i in range(10):\n",
    "    print(test_data[i][0], test_data[i][1], pred2[i])\n"
   ]
  },
  {
   "cell_type": "code",
   "execution_count": 352,
   "id": "b68f0ffb",
   "metadata": {},
   "outputs": [
    {
     "name": "stderr",
     "output_type": "stream",
     "text": [
      "100%|██████████| 1410/1410 [00:43<00:00, 32.23it/s]\n"
     ]
    }
   ],
   "source": [
    "# 测试\n",
    "best_model = EncoderRNN(num_vocab=len(idx2word), embedding_dim=256, hidden_size=256, num_classes=len(idx2label))\n",
    "best_model.to(device)\n",
    "best_model.load_state_dict(torch.load(\"./model_best2.pt\"))\n",
    "predict, accuracy = test_loop(best_model, test_data)"
   ]
  },
  {
   "cell_type": "code",
   "execution_count": 360,
   "id": "7b767998",
   "metadata": {},
   "outputs": [
    {
     "name": "stdout",
     "output_type": "stream",
     "text": [
      "Accuracy:  0.573758865248227\n",
      "Confusion matrix: \n",
      " [[ 39  28  53  25  15]\n",
      " [ 15 299  47  36  17]\n",
      " [ 23  61 322  44  18]\n",
      " [ 18  38  47 115  19]\n",
      " [ 20  22  34  21  34]]\n",
      "Recall:  0.573758865248227\n",
      "F1 score:  0.573758865248227\n"
     ]
    }
   ],
   "source": [
    "# 预测指标\n",
    "from sklearn.metrics import confusion_matrix, f1_score, recall_score, accuracy_score\n",
    "y_pred = [label2idx[author] for author in predict]\n",
    "y_true = [label2idx[author] for (poem, author) in test_data]\n",
    "print(\"Accuracy: \", accuracy_score(y_true, y_pred))\n",
    "print(\"Confusion matrix: \\n\", confusion_matrix(y_true, y_pred))\n",
    "print(\"Recall: \", recall_score(y_true, y_pred, average='micro'))\n",
    "print(\"F1 score: \", f1_score(y_true, y_pred, average='micro'))"
   ]
  },
  {
   "cell_type": "code",
   "execution_count": 363,
   "id": "4ee03937",
   "metadata": {},
   "outputs": [
    {
     "name": "stdout",
     "output_type": "stream",
     "text": [
      "舊日重陽日，傳杯不放杯。即今蓬鬢改，但愧菊花開。 杜甫 杜甫\n",
      "熊羆交黑槊，賓客滿青油。今日文章主，梁王不姓劉。 劉禹錫 杜甫\n",
      "晝號夜哭兼幽顯，早晚星關雪涕收。 李商隱 杜甫\n",
      "玉壘高桐拂玉繩，上含非霧下含冰。 李商隱 李商隱\n",
      "相思樹上合歡枝，紫鳳青鸞共羽儀。 李商隱 李白\n",
      "空齋寂寂不生塵，藥物方書繞病身。纖草數莖勝靜地， 劉禹錫 劉禹錫\n",
      "陰騭今如此，天災未可無。莫憑牲玉請，便望救焦枯。 李商隱 杜牧\n",
      "露索秦宮井，風弦漢殿箏。幾時綿竹頌，擬薦子虛名。 李商隱 杜甫\n",
      "開從綠條上，散逐香風遠。故取花落時，悠揚占春晚。 劉禹錫 劉禹錫\n",
      "顧于韓蔡內，辨眼工小字。分日示諸王，鉤深法更秘。 杜甫 杜甫\n",
      "貧家羞好客，語拙覺辭繁。三朝空錯莫，對飯卻慚冤。 李白 杜甫\n",
      "吾愛王子晉，得道伊洛濱。金骨既不毀，玉顏長自春。 李白 李白\n",
      "開元皇帝東封時，百神受職爭賓士。千鈞猛簴順流下， 劉禹錫 杜甫\n",
      "微雨秋栽竹，孤燈夜讀書。憐君亦同志，晚歲傍山居。 杜牧 杜牧\n",
      "蘆白疑粘鬢，楓丹欲照心。歸期無雁報，旅抱有猿侵。 李商隱 李白\n",
      "烈士擊玉壺，壯心惜暮年。三杯拂劍舞秋月， 李白 李白\n",
      "江色綠且明，茫茫與天平。逶迤巴山盡，搖曳楚雲行。 李白 李白\n",
      "豈思鱗作簟，仍計腹為燈。浩蕩天池路，翱翔欲化鵬。 李商隱 杜甫\n",
      "黃衫年少來宜數，不見堂前東逝波。 杜甫 杜甫\n",
      "繁弦迸關紐，塞管裂圓蘆。眾音不能逐，嫋嫋穿雲衢。 杜牧 杜甫\n"
     ]
    }
   ],
   "source": [
    "# 样本测试，第一列是诗句，第二列是正确的作者，第三列是预测的作者\n",
    "for i in range(20):\n",
    "    print(test_data[i][0], test_data[i][1], predict[i])"
   ]
  }
 ],
 "metadata": {
  "interpreter": {
   "hash": "e34f22132bbfe8770606924452c45dc19194fd90a2d63a36f15be83095f1b0a6"
  },
  "kernelspec": {
   "display_name": "Python 3.7.13 ('pytorchcuda')",
   "language": "python",
   "name": "python3"
  },
  "language_info": {
   "codemirror_mode": {
    "name": "ipython",
    "version": 3
   },
   "file_extension": ".py",
   "mimetype": "text/x-python",
   "name": "python",
   "nbconvert_exporter": "python",
   "pygments_lexer": "ipython3",
   "version": "3.7.13"
  }
 },
 "nbformat": 4,
 "nbformat_minor": 5
}
