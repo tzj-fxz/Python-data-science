{
 "cells": [
  {
   "cell_type": "code",
   "execution_count": 1,
   "metadata": {},
   "outputs": [],
   "source": [
    "import threading\n",
    "import socket\n",
    "import json"
   ]
  },
  {
   "cell_type": "code",
   "execution_count": 2,
   "metadata": {},
   "outputs": [],
   "source": [
    "import pandas as pd\n",
    "import re\n",
    "\n",
    "# 读入文章相似度和近义词库\n",
    "cos_sim = pd.read_csv('cos_sim.csv')\n",
    "cos_sim = cos_sim.drop(columns=['Unnamed: 0'])\n",
    "word_sim_file = open('synonym.txt', mode='r')\n",
    "synonym = re.split(':\\ |,\\ |\\'', word_sim_file.read()[1:-1])\n",
    "synonym = [item for item in filter(lambda x: x != '', synonym)]"
   ]
  },
  {
   "cell_type": "code",
   "execution_count": 3,
   "metadata": {},
   "outputs": [],
   "source": [
    "import numpy as np\n",
    "\n",
    "# HITS算法，获得authority和hub值较高的文章，并排序\n",
    "def hits(newsid):\n",
    "    idset = set()\n",
    "    # 根据余弦相似度筛选相关文章\n",
    "    for id in newsid:\n",
    "        for other in range(2225):\n",
    "            if cos_sim.iloc[id][other] >= 0.8:\n",
    "                idset.add(other)\n",
    "    idset = list(idset)\n",
    "    idset.sort()\n",
    "    l = len(idset)\n",
    "    print(l)\n",
    "    dic = {}\n",
    "    for i in range(l):\n",
    "        dic[idset[i]] = i\n",
    "    matrix = np.zeros((l, l))\n",
    "    # 初始化\n",
    "    for i in range(l):\n",
    "        for j in range(l):\n",
    "            matrix[i][j] = (cos_sim.iloc[idset[i]][idset[j]] >= 0.8)\n",
    "    h, a = np.ones(l), np.ones(l)\n",
    "    # 迭代\n",
    "    for _ in range(20):\n",
    "        a = matrix.T @ h\n",
    "        h = matrix @ a\n",
    "        a = a / np.linalg.norm(a)\n",
    "        h = h / np.linalg.norm(h)\n",
    "    idset.sort(key=lambda x: h[dic[x]]**2+a[dic[x]]**2, reverse=True)\n",
    "    # print(idset)\n",
    "    return idset"
   ]
  },
  {
   "cell_type": "code",
   "execution_count": 4,
   "metadata": {},
   "outputs": [],
   "source": [
    "class LocalServer(object):\n",
    "    def __init__(self, host, port):\n",
    "        self.address = (host, port)\n",
    "\n",
    "    def run(self):\n",
    "        server = socket.socket(socket.AF_INET, socket.SOCK_STREAM)\n",
    "        server.setsockopt(socket.SOL_SOCKET, socket.SO_REUSEADDR, 1)\n",
    "        server.bind(self.address)\n",
    "        server.listen(5)\n",
    "        \n",
    "        \"\"\"\n",
    "        TODO：请在服务器端实现合理的并发处理方案，使得服务器端能够处理多个客户端发来的请求\n",
    "        \"\"\"\n",
    "    \n",
    "        \"\"\"\n",
    "        TODO: 请补充实现文本检索，以及服务器端与客户端之间的通信\n",
    "        \n",
    "        1. 接受客户端传递的数据， 例如检索词\n",
    "        2. 调用检索函数，根据检索词完成检索\n",
    "        3. 将检索结果发送给客户端，具体的数据格式可以自己定义\n",
    "        \n",
    "        \"\"\"\n",
    "        lock = threading.Lock()\n",
    "        while True:\n",
    "            conn, addr = server.accept()\n",
    "            # 使用线程处理并发问题\n",
    "            t = threading.Thread(target=self.handle, args=(conn, addr))\n",
    "            t.start()\n",
    "\n",
    "    def handle(self, conn, addr):\n",
    "        print(\"Connected by \", addr)\n",
    "        terms = conn.recv(100).decode('utf-8', errors='ignore')\n",
    "        terms = terms.split(' ')\n",
    "        terms = [i for i in terms]\n",
    "        l = len(terms)\n",
    "        # 获取相似词\n",
    "        for i in range(l):\n",
    "            if not (terms[i] in synonym):\n",
    "                continue\n",
    "            idx = synonym.index(terms[i])\n",
    "            for word in synonym[idx+1].split(','):\n",
    "                terms.append(word)\n",
    "        print(terms)\n",
    "        table = pd.read_csv('data.csv')\n",
    "        # 统计出现频率(加权)\n",
    "        table['freq'] = table[\"new_body\"].apply(self.getcnt, args=(terms,))\n",
    "        table = table.sort_values('freq', ascending=False)\n",
    "        topid = table.iloc[:8]['id']\n",
    "        # 进行HITS计算\n",
    "        sortid = hits(topid.index)\n",
    "        table = table.sort_values('id', ascending=True)\n",
    "        sendback = []\n",
    "        # 选出前十名\n",
    "        for k in sortid[:10]:\n",
    "            sendback.append(table.iloc[k]['title'])\n",
    "            sendback.append(table.iloc[k]['body'])\n",
    "        conn.send('~'.join(sendback).encode('utf-8'))\n",
    "\n",
    "    # 统计检索词和相似词出现频率\n",
    "    def getcnt(self, x, terms):\n",
    "        weight = 0\n",
    "        wordlist = x.split(' ')\n",
    "        for k in range(len(terms)):\n",
    "            weight += wordlist.count(terms[k])*(2**(8-k))\n",
    "        return weight\n",
    "\n",
    "    "
   ]
  },
  {
   "cell_type": "markdown",
   "metadata": {},
   "source": [
    "#### 运行服务器端\n",
    "启动服务器之后，在run.ipynb中运行客户端图形界面"
   ]
  },
  {
   "cell_type": "code",
   "execution_count": 5,
   "metadata": {},
   "outputs": [
    {
     "name": "stdout",
     "output_type": "stream",
     "text": [
      "Connected by  ('127.0.0.1', 57888)\n",
      "['child', 'school', 'parent', 'university']\n",
      "Connected by  ('127.0.0.1', 57891)\n",
      "['tax', 'income', 'budget', 'duty']\n",
      "24\n",
      "61\n",
      "Connected by  ('127.0.0.1', 57923)\n",
      "['child', 'school', 'parent', 'university']\n",
      "24\n",
      "Connected by  ('127.0.0.1', 57926)\n",
      "['tax', 'income', 'budget', 'duty']\n",
      "61\n",
      "Connected by  ('127.0.0.1', 57929)\n",
      "['child', 'school', 'parent', 'university']\n",
      "24\n",
      "Connected by  ('127.0.0.1', 57932)\n",
      "['tax', 'income', 'budget', 'duty']\n",
      "Connected by  ('127.0.0.1', 57935)\n",
      "['child', 'school', 'parent', 'university']\n",
      "61\n",
      "24\n"
     ]
    }
   ],
   "source": [
    "server = LocalServer(\"0.0.0.0\", 1234)\n",
    "server.run()"
   ]
  },
  {
   "cell_type": "code",
   "execution_count": null,
   "metadata": {},
   "outputs": [],
   "source": []
  },
  {
   "cell_type": "code",
   "execution_count": null,
   "metadata": {},
   "outputs": [],
   "source": []
  }
 ],
 "metadata": {
  "interpreter": {
   "hash": "a8f61be024eba58adef938c9aa1e29e02cb3dece83a5348b1a2dafd16a070453"
  },
  "kernelspec": {
   "display_name": "base1",
   "language": "python",
   "name": "base"
  },
  "language_info": {
   "codemirror_mode": {
    "name": "ipython",
    "version": 3
   },
   "file_extension": ".py",
   "mimetype": "text/x-python",
   "name": "python",
   "nbconvert_exporter": "python",
   "pygments_lexer": "ipython3",
   "version": "3.8.5"
  }
 },
 "nbformat": 4,
 "nbformat_minor": 4
}
