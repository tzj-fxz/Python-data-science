{
 "cells": [
  {
   "cell_type": "code",
   "execution_count": null,
   "metadata": {},
   "outputs": [],
   "source": [
    "# 本模块：文章聚类与评价"
   ]
  },
  {
   "cell_type": "code",
   "execution_count": 149,
   "metadata": {},
   "outputs": [],
   "source": [
    "import pandas as pd\n",
    "import numpy as np\n",
    "from sklearn.cluster import KMeans\n",
    "from sklearn.metrics.cluster import normalized_mutual_info_score\n",
    "nmi = lambda x, y: normalized_mutual_info_score(x, y, average_method='arithmetic')"
   ]
  },
  {
   "cell_type": "code",
   "execution_count": 150,
   "metadata": {},
   "outputs": [],
   "source": [
    "data = pd.read_csv('data.csv')\n",
    "ori = data['topic'].values\n",
    "orig = np.zeros(2225)\n",
    "dic = {'business': 0, 'entertainment': 1, 'politics': 2, 'sport': 3, 'tech': 4}\n",
    "for id in range(len(ori)):\n",
    "    orig[id] = dic[ori[id]]\n",
    "orig = orig.astype('int')"
   ]
  },
  {
   "cell_type": "code",
   "execution_count": 151,
   "metadata": {},
   "outputs": [],
   "source": [
    "# 计算纯度purity和互信息nmi\n",
    "def clustering(table):\n",
    "    # 聚类\n",
    "    cluster = KMeans(n_clusters=5)\n",
    "    cluster.fit(table)\n",
    "    pred = cluster.predict(table)\n",
    "    nir = np.zeros((5, 5))\n",
    "    ni = np.zeros(5)\n",
    "    nr = np.zeros(5)\n",
    "    for i in range(table.shape[0]):\n",
    "        nir[orig[i]][pred[i]] += 1\n",
    "        ni[orig[i]] += 1\n",
    "        nr[pred[i]] += 1\n",
    "    f = np.zeros((5, 5))\n",
    "    for i in range(5):\n",
    "        for r in range(5):\n",
    "            precision = nir[i][r]/nr[r]\n",
    "            recall = nir[i][r]/ni[i]\n",
    "            if abs(precision+recall) < 1e-6:\n",
    "                f[i][r] = 0\n",
    "            else:\n",
    "                f[i][r] = 2*precision*recall/(precision+recall)\n",
    "    purity = 0\n",
    "    for r in range(5):\n",
    "        maxnir = 0\n",
    "        for i in range(5):\n",
    "            maxnir = max(maxnir, nir[i][r])\n",
    "        purity += (maxnir/table.shape[0])\n",
    "    Fv = 0\n",
    "    for i in range(5):\n",
    "        maxf = 0\n",
    "        for r in range(5):\n",
    "            maxf = max(maxf, f[i][r])\n",
    "        Fv += (maxf/table.shape[0])\n",
    "    return purity, Fv, nmi(orig, pred)"
   ]
  },
  {
   "cell_type": "code",
   "execution_count": 159,
   "metadata": {},
   "outputs": [
    {
     "name": "stdout",
     "output_type": "stream",
     "text": [
      "Purity:  0.575370786516854 NMI:  0.4907050722497015\n"
     ]
    }
   ],
   "source": [
    "# original 原始数据\n",
    "table = pd.read_csv(\"newsvec.csv\")\n",
    "table = table.drop(columns=['Unnamed: 0'])\n",
    "p1, n1 = 0, 0\n",
    "for i in range(5):\n",
    "    purity, Fv, Nmi = clustering(table)\n",
    "    p1 += purity\n",
    "    n1 += Nmi\n",
    "print(\"Purity: \", p1/5, \"NMI: \", n1/5)"
   ]
  },
  {
   "cell_type": "code",
   "execution_count": 158,
   "metadata": {},
   "outputs": [
    {
     "name": "stdout",
     "output_type": "stream",
     "text": [
      "Purity:  0.624629213483146 NMI:  0.5715147520673607\n"
     ]
    }
   ],
   "source": [
    "# pca 降至50维\n",
    "table = pd.read_csv(\"vecpca2.csv\")\n",
    "table = table.drop(columns=['Unnamed: 0'])\n",
    "p2, n2 = 0, 0\n",
    "for i in range(5):\n",
    "    purity, Fv, Nmi = clustering(table)\n",
    "    p2 += purity\n",
    "    n2 += Nmi\n",
    "print(\"Purity: \", p2/5, \"NMI: \", n2/5)"
   ]
  },
  {
   "cell_type": "code",
   "execution_count": 157,
   "metadata": {},
   "outputs": [
    {
     "name": "stdout",
     "output_type": "stream",
     "text": [
      "Purity:  0.6893483146067416 NMI:  0.6352787216021816\n"
     ]
    }
   ],
   "source": [
    "# pca 降至10维\n",
    "table = pd.read_csv(\"vecpca.csv\")\n",
    "table = table.drop(columns=['Unnamed: 0'])\n",
    "p3, n3 = 0, 0\n",
    "for i in range(5):\n",
    "    purity, Fv, Nmi = clustering(table)\n",
    "    p3 += purity\n",
    "    n3 += Nmi\n",
    "print(\"Purity: \", p3/5, \"NMI: \", n3/5)"
   ]
  }
 ],
 "metadata": {
  "kernelspec": {
   "display_name": "base1",
   "language": "python",
   "name": "base"
  },
  "language_info": {
   "codemirror_mode": {
    "name": "ipython",
    "version": 3
   },
   "file_extension": ".py",
   "mimetype": "text/x-python",
   "name": "python",
   "nbconvert_exporter": "python",
   "pygments_lexer": "ipython3",
   "version": "3.8.5"
  },
  "orig_nbformat": 4
 },
 "nbformat": 4,
 "nbformat_minor": 2
}
